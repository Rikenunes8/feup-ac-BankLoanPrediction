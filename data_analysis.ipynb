{
 "cells": [
  {
   "cell_type": "markdown",
   "metadata": {},
   "source": [
    "# Data Analysis"
   ]
  },
  {
   "cell_type": "markdown",
   "metadata": {},
   "source": [
    "## Load Data"
   ]
  },
  {
   "cell_type": "code",
   "execution_count": null,
   "metadata": {},
   "outputs": [],
   "source": [
    "import pandas as pd\n",
    "import numpy as np\n",
    "import seaborn as sns\n",
    "import matplotlib.pyplot as plt\n",
    "from IPython.display import display\n",
    "\n",
    "pd.set_option(\"display.max_columns\", None)\n",
    "\n",
    "\n",
    "account = pd.read_csv('data/account.csv', dtype={'date':object})\n",
    "card_dev = pd.read_csv('data/card_dev.csv', dtype={'issued':object})\n",
    "client = pd.read_csv('data/client.csv', dtype={'birth_number':object})\n",
    "disposition = pd.read_csv('data/disp.csv')\n",
    "district = pd.read_csv('data/district.csv')\n",
    "loan_dev = pd.read_csv('data/loan_dev.csv', dtype={'date':object})\n",
    "trans_dev = pd.read_csv('data/trans_dev.csv', \n",
    "                        dtype={'account_id':int, 'date':object, 'type':object, 'operation':object, 'amount':float, 'balance':float, 'k_symbol':object, 'bank':object, 'account':float})\n",
    "\n",
    "data = pd.read_csv('data_processed/data.csv')"
   ]
  },
  {
   "cell_type": "markdown",
   "metadata": {},
   "source": [
    "## General Attribute Analysis\n",
    "\n",
    "The data is organized in data tables so each table has an ammount of attributes that can be analised to better understand their significance."
   ]
  },
  {
   "cell_type": "code",
   "execution_count": null,
   "metadata": {},
   "outputs": [],
   "source": [
    "print(f'''\n",
    "account     shape: {account.shape}\n",
    "client      shape: {client.shape}\n",
    "disposition shape: {disposition.shape}\n",
    "district    shape: {district.shape}\n",
    "card        shape: {card_dev.shape}\n",
    "loan        shape: {loan_dev.shape}\n",
    "trans       shape: {trans_dev.shape}\n",
    "\n",
    "data        shape: {data.shape}\n",
    "''')"
   ]
  },
  {
   "cell_type": "code",
   "execution_count": null,
   "metadata": {},
   "outputs": [],
   "source": [
    "def get_correlation(df):\n",
    "    corr = df.corr()\n",
    "    mask = np.zeros_like(corr, dtype=bool)\n",
    "    mask[np.triu_indices_from(mask)] = True\n",
    "\n",
    "    plt.subplots(figsize=(30,24))\n",
    "    cmap = sns.diverging_palette(220, 10, as_cmap=True)\n",
    "    ax = sns.heatmap(corr, mask=mask, cmap=cmap, center=0,square=True, linewidths=.1, cbar_kws={\"shrink\": .5}, annot = True)\n",
    "\n",
    "    y_lim = ax.get_ylim();\n",
    "    ax.set_ylim(np.ceil(y_lim[0]), np.floor(y_lim[1]))\n",
    "    \n",
    "    plt.show()"
   ]
  },
  {
   "cell_type": "markdown",
   "metadata": {},
   "source": [
    "## Account Analysis"
   ]
  },
  {
   "cell_type": "code",
   "execution_count": null,
   "metadata": {},
   "outputs": [],
   "source": [
    "display(account.head())\n",
    "print(account.info())\n",
    "display(account.describe())\n"
   ]
  },
  {
   "cell_type": "code",
   "execution_count": null,
   "metadata": {},
   "outputs": [],
   "source": [
    "account_frequency = account[\"frequency\"].value_counts()\n",
    "display(account_frequency)\n",
    "\n",
    "plt.title(\"Account Frequency\")\n",
    "plt.bar(list(account_frequency.keys()), list(account_frequency))"
   ]
  },
  {
   "cell_type": "markdown",
   "metadata": {},
   "source": [
    "### Features conclusions"
   ]
  },
  {
   "cell_type": "markdown",
   "metadata": {},
   "source": [
    "## Card Analysis"
   ]
  },
  {
   "cell_type": "code",
   "execution_count": null,
   "metadata": {
    "scrolled": false
   },
   "outputs": [],
   "source": [
    "display(card_dev.head())\n",
    "display(card_dev.info())\n",
    "display(card_dev.describe())\n"
   ]
  },
  {
   "cell_type": "code",
   "execution_count": null,
   "metadata": {},
   "outputs": [],
   "source": [
    "card_type = card_dev[\"type\"].value_counts()\n",
    "display(card_type)\n",
    "\n",
    "plt.figure()\n",
    "plt.title(\"Card Type\")\n",
    "plt.bar(list(card_type.keys()), list(card_type))"
   ]
  },
  {
   "cell_type": "markdown",
   "metadata": {},
   "source": [
    "### Features conclusions"
   ]
  },
  {
   "cell_type": "markdown",
   "metadata": {},
   "source": [
    "## Client Analysis"
   ]
  },
  {
   "cell_type": "code",
   "execution_count": null,
   "metadata": {
    "scrolled": false
   },
   "outputs": [],
   "source": [
    "display(client.head())\n",
    "display(client.info())\n",
    "display(client.describe())\n"
   ]
  },
  {
   "cell_type": "markdown",
   "metadata": {},
   "source": [
    "### Features conclusions"
   ]
  },
  {
   "cell_type": "markdown",
   "metadata": {},
   "source": [
    "## Disposition Analysis"
   ]
  },
  {
   "cell_type": "code",
   "execution_count": null,
   "metadata": {
    "scrolled": false
   },
   "outputs": [],
   "source": [
    "display(disposition.head())\n",
    "display(disposition.info())\n",
    "display(disposition.describe())\n"
   ]
  },
  {
   "cell_type": "code",
   "execution_count": null,
   "metadata": {},
   "outputs": [],
   "source": [
    "disp_type = disposition[\"type\"].value_counts()\n",
    "display(disp_type)\n",
    "\n",
    "plt.figure()\n",
    "plt.title(\"Disposition Type\")\n",
    "plt.bar(list(disp_type.keys()), list(disp_type))"
   ]
  },
  {
   "cell_type": "markdown",
   "metadata": {},
   "source": [
    "### Features conclusions"
   ]
  },
  {
   "cell_type": "markdown",
   "metadata": {},
   "source": [
    "## District Analysis"
   ]
  },
  {
   "cell_type": "code",
   "execution_count": null,
   "metadata": {
    "scrolled": false
   },
   "outputs": [],
   "source": [
    "display(district.head())\n",
    "display(district.info())\n",
    "display(district.describe())\n"
   ]
  },
  {
   "cell_type": "code",
   "execution_count": null,
   "metadata": {},
   "outputs": [],
   "source": [
    "district_name = district[\"name\"].value_counts()\n",
    "display(district_name)\n",
    "plt.figure(figsize=[6.4, 20])\n",
    "plt.title(\"District Name\")\n",
    "plt.barh(list(district_name.keys()), list(district_name))\n",
    "\n",
    "district_region = district[\"region\"].value_counts()\n",
    "display(district_region)\n",
    "plt.figure()\n",
    "plt.title(\"District Region\")\n",
    "plt.barh(list(district_region.keys()), list(district_region))"
   ]
  },
  {
   "cell_type": "markdown",
   "metadata": {},
   "source": [
    "### Features conclusions\n",
    "\n",
    "- District Name has no significance, it could be an id\n"
   ]
  },
  {
   "cell_type": "markdown",
   "metadata": {},
   "source": [
    "## Transaction Analysis"
   ]
  },
  {
   "cell_type": "code",
   "execution_count": null,
   "metadata": {
    "scrolled": false
   },
   "outputs": [],
   "source": [
    "display(trans_dev.head())\n",
    "display(trans_dev.info())\n",
    "display(trans_dev.describe())"
   ]
  },
  {
   "cell_type": "code",
   "execution_count": null,
   "metadata": {},
   "outputs": [],
   "source": [
    "trans_type = trans_dev[\"type\"].value_counts()\n",
    "display(trans_type)\n",
    "plt.figure()\n",
    "plt.title(\"Transaction Type\")\n",
    "plt.bar(list(trans_type.keys()), list(trans_type))\n",
    "\n",
    "trans_operation = trans_dev[\"operation\"].value_counts()\n",
    "display(trans_operation)\n",
    "plt.figure()\n",
    "plt.title(\"Transaction Operation\")\n",
    "plt.barh(list(trans_operation.keys()), list(trans_operation))\n",
    "\n",
    "trans_k_symbol = trans_dev[\"k_symbol\"].value_counts()\n",
    "display(trans_k_symbol)\n",
    "plt.figure()\n",
    "plt.title(\"Transaction K_symbol\")\n",
    "plt.barh(list(trans_k_symbol.keys()), list(trans_k_symbol))\n",
    "\n",
    "trans_bank = trans_dev[\"bank\"].value_counts()\n",
    "display(trans_bank)\n",
    "plt.figure()\n",
    "plt.title(\"Transaction Bank\")\n",
    "plt.bar(list(trans_bank.keys()), list(trans_bank))"
   ]
  },
  {
   "cell_type": "code",
   "execution_count": null,
   "metadata": {},
   "outputs": [],
   "source": [
    "# Describe mean balance for each account\n",
    "\n",
    "balance_mean_by_account = trans_dev.groupby('account_id')['balance'].mean()\n",
    "display(balance_mean_by_account.describe())\n"
   ]
  },
  {
   "cell_type": "code",
   "execution_count": null,
   "metadata": {},
   "outputs": [],
   "source": [
    "# Describe mean transaction amount for each transaction type\n",
    "\n",
    "amount_mean_by_transaction_type = trans_dev.groupby('type')['amount'].mean()\n",
    "display(amount_mean_by_transaction_type)\n",
    "\n",
    "amount_mean_by_transaction_operation = trans_dev.groupby('operation')['amount'].mean()\n",
    "display(amount_mean_by_transaction_operation)"
   ]
  },
  {
   "cell_type": "markdown",
   "metadata": {},
   "source": [
    "### Features conclusions\n",
    "\n",
    "- Transaction k_symbol has empty values besides NaN"
   ]
  },
  {
   "cell_type": "markdown",
   "metadata": {},
   "source": [
    "## Loan Analysis"
   ]
  },
  {
   "cell_type": "code",
   "execution_count": null,
   "metadata": {
    "scrolled": false
   },
   "outputs": [],
   "source": [
    "display(loan_dev.head())\n",
    "display(loan_dev.info())\n",
    "display(loan_dev.describe())\n"
   ]
  },
  {
   "cell_type": "markdown",
   "metadata": {},
   "source": [
    "The plot below shows that a big majority of the loans were given, what represents a strng imbalance in the target column. This situation usally leads models to have the tendency to opt for the class more populated, in this case answering 'yes' to the loan."
   ]
  },
  {
   "cell_type": "code",
   "execution_count": null,
   "metadata": {
    "scrolled": true
   },
   "outputs": [],
   "source": [
    "loan_status = loan_dev['status'].value_counts()\n",
    "plt.title(\"Was the loan given?\")\n",
    "plt.bar(['yes', 'no'], list(loan_status))"
   ]
  },
  {
   "cell_type": "markdown",
   "metadata": {},
   "source": [
    "In the box plot and histogram below we can see that the duration of the loans has a uniform distribution."
   ]
  },
  {
   "cell_type": "code",
   "execution_count": null,
   "metadata": {
    "scrolled": false
   },
   "outputs": [],
   "source": [
    "fig, (ax1, ax2) = plt.subplots(1, 2)\n",
    "fig.set_size_inches(15, 4.8)\n",
    "fig.suptitle(\"Duration of the loans\")\n",
    "\n",
    "ax1.boxplot(loan_dev[\"duration\"])\n",
    "ax2.hist(loan_dev[\"duration\"].values, [6, 18, 30, 42, 54, 66])\n",
    "plt.show()"
   ]
  },
  {
   "cell_type": "markdown",
   "metadata": {},
   "source": [
    "In the box plot and histogram below we can see that the amount of money requested for loans looks like a poisson distribution. The density of the data until the median is much greater than after it. Also, in the box plot, it's poossible to verify the existence of some outliers."
   ]
  },
  {
   "cell_type": "code",
   "execution_count": null,
   "metadata": {},
   "outputs": [],
   "source": [
    "fig, (ax1, ax2) = plt.subplots(1, 2)\n",
    "fig.set_size_inches(15, 4.8)\n",
    "fig.suptitle(\"Amount of the loans\")\n",
    "\n",
    "ax1.boxplot(loan_dev[\"amount\"])\n",
    "ax2.hist(loan_dev[\"amount\"].values, 30)\n",
    "plt.show()"
   ]
  },
  {
   "cell_type": "markdown",
   "metadata": {},
   "source": [
    "By observation of the below scatter plots and histograms, we can conclude that the duration of the loan is not connected with the status of the loan since it have an uniform distribution. On the other hand, either the amount and the payments looks like they can be related since the percentage of negative status in higher payments and amounts is greater than it is in the lower ones."
   ]
  },
  {
   "cell_type": "code",
   "execution_count": null,
   "metadata": {
    "scrolled": false
   },
   "outputs": [],
   "source": [
    "from matplotlib.patches import Rectangle\n",
    "\n",
    "\n",
    "amount = loan_dev['amount']\n",
    "duration = loan_dev['duration']\n",
    "payments = loan_dev['payments']\n",
    "\n",
    "colors = ['g' if s == 1 else 'r' for s in loan_dev['status']]\n",
    "\n",
    "fig, (ax1, ax2,  ax3) = plt.subplots(3, figsize=[15, 15])\n",
    "ax1.scatter(amount, duration, color=colors)\n",
    "ax1.set_xlabel('Loan amount')\n",
    "ax1.set_ylabel('Duration')\n",
    "ax2.scatter(amount, payments, color=colors)\n",
    "ax2.set_xlabel('Loan amount')\n",
    "ax2.set_ylabel('Payments')\n",
    "ax3.scatter(payments, duration, color=colors)\n",
    "ax3.set_xlabel('Payments')\n",
    "ax3.set_ylabel('Duration')\n",
    "\n",
    "fig, (ax1, ax2, ax3) = plt.subplots(1, 3, figsize=[20, 4.8])\n",
    "handles = [Rectangle((0, 0), 1, 1, color=c, ec=\"k\") for c in ['C0', 'C1']]\n",
    "\n",
    "ax1.hist(payments, list(range(0, 10001, 500)), color='C0')\n",
    "ax1.hist(loan_dev.query('status == -1')['payments'], list(range(0, 10001, 500)), color='C1')\n",
    "ax1.set_xlabel('Payment')\n",
    "ax1_labels = [\"All payments\", \"Payments without loan\"]\n",
    "ax1.legend(handles, ax1_labels)\n",
    "\n",
    "ax2.hist(amount, list(range(0, 600001, 40000)), color='C0')\n",
    "ax2.hist(loan_dev.query('status == -1')['amount'], list(range(0, 600001, 40000)), color='C1')\n",
    "ax2.set_xlabel('Amount')\n",
    "ax2_labels = [\"All amounts\", \"Amounts without loan\"]\n",
    "ax2.legend(handles, ax2_labels)\n",
    "\n",
    "ax3.hist(duration, list(range(6, 70, 12)), color='C0')\n",
    "ax3.hist(loan_dev.query('status == -1')['duration'], list(range(6, 70, 12)), color='C1')\n",
    "ax3.set_xlabel('Duration')\n",
    "ax3.set_xticks(list(range(12, 61, 12)))\n",
    "ax3_labels = [\"All durations\", \"Durations without loan\"]\n",
    "ax3.legend(handles, ax3_labels)\n",
    "plt.show()"
   ]
  },
  {
   "cell_type": "markdown",
   "metadata": {},
   "source": [
    "### Features conclusions"
   ]
  },
  {
   "cell_type": "markdown",
   "metadata": {},
   "source": [
    "## Integrated Data Analysis"
   ]
  },
  {
   "cell_type": "code",
   "execution_count": null,
   "metadata": {},
   "outputs": [],
   "source": [
    "# Relation between status and monthly_diff\n",
    "\n",
    "status_median_monthly_diff = data.groupby('status')['monthly_diff'].median()\n",
    "display(status_median_monthly_diff)\n",
    "\n",
    "aux = {'Status 1': data[data['status'] == 1]['monthly_diff'].values, 'Status -1': data[data['status'] == -1]['monthly_diff'].values}\n",
    "fig, ax = plt.subplots(figsize=(6, 6))\n",
    "fig.suptitle('Monthly diff for status = 1 and status = -1')\n",
    "ax.boxplot(aux.values())\n",
    "ax.set_xticklabels(aux.keys())\n",
    "plt.show()\n"
   ]
  },
  {
   "cell_type": "markdown",
   "metadata": {},
   "source": [
    "The plot below indicates that the gender of the client that requested the loan have no significant impact on the choice of loan or not."
   ]
  },
  {
   "cell_type": "code",
   "execution_count": null,
   "metadata": {
    "scrolled": true
   },
   "outputs": [],
   "source": [
    "labels = ['loan', 'no loan']\n",
    "aux = data.groupby('gender')['status'].value_counts()\n",
    "female = aux[:2]\n",
    "male = aux[2:]\n",
    "\n",
    "x = np.arange(len(labels))  # the label locations\n",
    "width = 0.35  # the width of the bars\n",
    "\n",
    "fig, ax = plt.subplots()\n",
    "rects1 = ax.bar(x - width/2, male, width, label='Men')\n",
    "rects2 = ax.bar(x + width/2, female, width, label='Women')\n",
    "\n",
    "# Add some text for labels, title and custom x-axis tick labels, etc.\n",
    "ax.set_title('Loans given or not by gender')\n",
    "ax.set_xticks(x, labels)\n",
    "ax.legend()\n",
    "\n",
    "ax.bar_label(rects1, padding=1)\n",
    "ax.bar_label(rects2, padding=1)\n",
    "plt.show()"
   ]
  },
  {
   "cell_type": "markdown",
   "metadata": {},
   "source": [
    "### Correlation Map"
   ]
  },
  {
   "cell_type": "code",
   "execution_count": 25,
   "metadata": {},
   "outputs": [
    {
     "name": "stderr",
     "output_type": "stream",
     "text": [
      "/tmp/ipykernel_4813/4101906640.py:2: FutureWarning: The default value of numeric_only in DataFrame.corr is deprecated. In a future version, it will default to False. Select only valid columns or specify the value of numeric_only to silence this warning.\n",
      "  corr = df.corr()\n"
     ]
    },
    {
     "data": {
      "image/png": "[encoded data removed]",
      "text/plain": [
       "<Figure size 2160x1728 with 2 Axes>"
      ]
     },
     "metadata": {
      "needs_background": "light"
     },
     "output_type": "display_data"
    }
   ],
   "source": [
    "no_ids = [c for c in data.columns if c[-3:] != '_id' and c != 'code']\n",
    "no_ids.remove('status')\n",
    "no_ids.append('status')\n",
    "get_correlation(data[no_ids])"
   ]
  }
 ],
 "metadata": {
  "kernelspec": {
   "display_name": "Python 3 (ipykernel)",
   "language": "python",
   "name": "python3"
  },
  "language_info": {
   "codemirror_mode": {
    "name": "ipython",
    "version": 3
   },
   "file_extension": ".py",
   "mimetype": "text/x-python",
   "name": "python",
   "nbconvert_exporter": "python",
   "pygments_lexer": "ipython3",
   "version": "3.10.6"
  },
  "vscode": {
   "interpreter": {
    "hash": "916dbcbb3f70747c44a77c7bcd40155683ae19c65e1c03b4aa3499c5328201f1"
   }
  }
 },
 "nbformat": 4,
 "nbformat_minor": 2
}
