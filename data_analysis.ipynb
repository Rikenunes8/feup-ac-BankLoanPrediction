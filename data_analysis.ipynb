{
 "cells": [
  {
   "cell_type": "markdown",
   "metadata": {},
   "source": [
    "# Data Analysis"
   ]
  },
  {
   "cell_type": "markdown",
   "metadata": {},
   "source": [
    "## Load Data"
   ]
  },
  {
   "cell_type": "code",
   "execution_count": null,
   "metadata": {},
   "outputs": [],
   "source": [
    "import pandas as pd\n",
    "import numpy as np\n",
    "import seaborn as sns\n",
    "import matplotlib.pyplot as plt\n",
    "from IPython.display import display\n",
    "\n",
    "pd.set_option(\"display.max_columns\", None)\n",
    "\n",
    "\n",
    "account = pd.read_csv('data/account.csv', dtype={'date':object})\n",
    "card_dev = pd.read_csv('data/card_dev.csv', dtype={'issued':object})\n",
    "client = pd.read_csv('data/client.csv', dtype={'birth_number':object})\n",
    "disposition = pd.read_csv('data/disp.csv')\n",
    "district = pd.read_csv('data/district.csv')\n",
    "loan_dev = pd.read_csv('data/loan_dev.csv', dtype={'date':object})\n",
    "trans_dev = pd.read_csv('data/trans_dev.csv', \n",
    "                        dtype={'account_id':int, 'date':object, 'type':object, 'operation':object, 'amount':float, 'balance':float, 'k_symbol':object, 'bank':object, 'account':float})\n",
    "\n",
    "data = pd.read_csv('data_processed/data.csv')"
   ]
  },
  {
   "cell_type": "markdown",
   "metadata": {},
   "source": [
    "## General Attribute Analysis\n",
    "\n",
    "The data is organized in data tables so each table has an ammount of attributes that can be analised to better understand their significance."
   ]
  },
  {
   "cell_type": "code",
   "execution_count": null,
   "metadata": {},
   "outputs": [],
   "source": [
    "print(f'''\n",
    "account     shape: {account.shape}\n",
    "client      shape: {client.shape}\n",
    "disposition shape: {disposition.shape}\n",
    "district    shape: {district.shape}\n",
    "card        shape: {card_dev.shape}\n",
    "loan        shape: {loan_dev.shape}\n",
    "trans       shape: {trans_dev.shape}\n",
    "\n",
    "data        shape: {data.shape}\n",
    "''')"
   ]
  },
  {
   "cell_type": "code",
   "execution_count": null,
   "metadata": {},
   "outputs": [],
   "source": [
    "def get_correlation(df):\n",
    "    def encode_data(df, columns):\n",
    "        from sklearn.preprocessing import OrdinalEncoder\n",
    "        le = OrdinalEncoder()\n",
    "        cols = [col for col in columns if col in df.keys()]\n",
    "        df[cols] = le.set_params(encoded_missing_value=-1).fit_transform(df[cols])\n",
    "        return df\n",
    "    categorical_columns = list(df.select_dtypes(\"object\").columns)\n",
    "    df = encode_data(df, categorical_columns)\n",
    "    \n",
    "    corr = df.corr()\n",
    "    mask = np.zeros_like(corr, dtype=bool)\n",
    "    mask[np.triu_indices_from(mask)] = True\n",
    "\n",
    "    plt.subplots(figsize=(30,24))\n",
    "    cmap = sns.diverging_palette(220, 10, as_cmap=True)\n",
    "    ax = sns.heatmap(corr, mask=mask, cmap=cmap, center=0,square=True, linewidths=.1, cbar_kws={\"shrink\": .5}, annot = True)\n",
    "\n",
    "    y_lim = ax.get_ylim();\n",
    "    ax.set_ylim(np.ceil(y_lim[0]), np.floor(y_lim[1]))\n",
    "    \n",
    "    plt.show()"
   ]
  },
  {
   "cell_type": "code",
   "execution_count": null,
   "metadata": {},
   "outputs": [],
   "source": [
    "def convert_date(df):\n",
    "    aux = df.apply(lambda x: '19'+x[:2]+'-'+x[2:4]+'-'+x[4:])\n",
    "    return pd.to_datetime(aux).dt.date\n"
   ]
  },
  {
   "cell_type": "markdown",
   "metadata": {},
   "source": [
    "## Account Analysis"
   ]
  },
  {
   "cell_type": "code",
   "execution_count": null,
   "metadata": {},
   "outputs": [],
   "source": [
    "display(account.head())\n",
    "print(account.info())\n",
    "display(account.describe())\n"
   ]
  },
  {
   "cell_type": "code",
   "execution_count": null,
   "metadata": {},
   "outputs": [],
   "source": [
    "account_frequency = account[\"frequency\"].value_counts()\n",
    "display(account_frequency)\n",
    "\n",
    "plt.title(\"Account Frequency\")\n",
    "plt.bar(list(account_frequency.keys()), list(account_frequency))"
   ]
  },
  {
   "cell_type": "code",
   "execution_count": null,
   "metadata": {},
   "outputs": [],
   "source": [
    "account['date_ts'] = convert_date(account['date'])\n",
    "print(account['date_ts'].min())\n",
    "print(account['date_ts'].max())"
   ]
  },
  {
   "cell_type": "markdown",
   "metadata": {},
   "source": [
    "### Features conclusions\n",
    "- Most of the `account frequency` values are \"monthly issuance\". Are the others values relevant to determine the `status`?\n",
    "- Accounts `date` are between 1993 and 1997"
   ]
  },
  {
   "cell_type": "markdown",
   "metadata": {},
   "source": [
    "## Card Analysis"
   ]
  },
  {
   "cell_type": "code",
   "execution_count": null,
   "metadata": {
    "scrolled": false
   },
   "outputs": [],
   "source": [
    "display(card_dev.head())\n",
    "display(card_dev.info())\n",
    "display(card_dev.describe())\n"
   ]
  },
  {
   "cell_type": "code",
   "execution_count": null,
   "metadata": {},
   "outputs": [],
   "source": [
    "card_type = card_dev[\"type\"].value_counts()\n",
    "display(card_type)\n",
    "\n",
    "plt.figure()\n",
    "plt.title(\"Card Type\")\n",
    "plt.bar(list(card_type.keys()), list(card_type))"
   ]
  },
  {
   "cell_type": "code",
   "execution_count": null,
   "metadata": {},
   "outputs": [],
   "source": [
    "card_dev['issued_ts'] = convert_date(card_dev['issued'])\n",
    "print(card_dev['issued_ts'].min())\n",
    "print(card_dev['issued_ts'].max())"
   ]
  },
  {
   "cell_type": "markdown",
   "metadata": {},
   "source": [
    "### Features conclusions\n",
    "- Card `issued` dates are between 1993 and 1996"
   ]
  },
  {
   "cell_type": "markdown",
   "metadata": {},
   "source": [
    "## Client Analysis"
   ]
  },
  {
   "cell_type": "code",
   "execution_count": null,
   "metadata": {},
   "outputs": [],
   "source": [
    "client = pd.read_csv('data_processed/client.csv', dtype={'birth_number':object})"
   ]
  },
  {
   "cell_type": "code",
   "execution_count": null,
   "metadata": {
    "scrolled": false
   },
   "outputs": [],
   "source": [
    "display(client.head())\n",
    "display(client.info())\n",
    "display(client.describe())\n"
   ]
  },
  {
   "cell_type": "code",
   "execution_count": null,
   "metadata": {},
   "outputs": [],
   "source": [
    "client['birth_number_ts'] = convert_date(client['birth_number'])\n",
    "print(client['birth_number_ts'].min())\n",
    "print(client['birth_number_ts'].max())"
   ]
  },
  {
   "cell_type": "code",
   "execution_count": null,
   "metadata": {},
   "outputs": [],
   "source": [
    "# merge client gender value counts and percentage\n",
    "m, f = client['gender'].value_counts().values\n",
    "print('Total clients: ', m+f)\n",
    "print('Males:   {} %'.format(round(m/(m+f), 2)))\n",
    "print('Females: {} %'.format(round(f/(m+f), 2)))\n"
   ]
  },
  {
   "cell_type": "markdown",
   "metadata": {},
   "source": [
    "### Features conclusions\n",
    "- The oldest client is around 86 years old and youngest is 10 years old\n",
    "- Clients `gender` are balanced"
   ]
  },
  {
   "cell_type": "markdown",
   "metadata": {},
   "source": [
    "## Disposition Analysis"
   ]
  },
  {
   "cell_type": "code",
   "execution_count": null,
   "metadata": {
    "scrolled": false
   },
   "outputs": [],
   "source": [
    "display(disposition.head())\n",
    "display(disposition.info())\n",
    "display(disposition.describe())\n"
   ]
  },
  {
   "cell_type": "code",
   "execution_count": null,
   "metadata": {},
   "outputs": [],
   "source": [
    "disp_type = disposition[\"type\"].value_counts()\n",
    "display(disp_type)\n",
    "\n",
    "plt.figure()\n",
    "plt.title(\"Disposition Type\")\n",
    "plt.bar(list(disp_type.keys()), list(disp_type))"
   ]
  },
  {
   "cell_type": "code",
   "execution_count": null,
   "metadata": {},
   "outputs": [],
   "source": [
    "n_clients = len(disposition['client_id'].unique())\n",
    "n_dispositions = len(disposition['disp_id'].unique())\n",
    "print('Is there any client with more than one disposition? {}'.format('Yes' if n_clients != n_dispositions else 'No'))"
   ]
  },
  {
   "cell_type": "markdown",
   "metadata": {},
   "source": [
    "### Features conclusions\n",
    "- Every `client_id` corresponds to a single `disp_id` and vice-versa"
   ]
  },
  {
   "cell_type": "markdown",
   "metadata": {},
   "source": [
    "## District Analysis"
   ]
  },
  {
   "cell_type": "code",
   "execution_count": null,
   "metadata": {
    "scrolled": false
   },
   "outputs": [],
   "source": [
    "display(district.head())\n",
    "display(district.info())\n",
    "display(district.describe())\n"
   ]
  },
  {
   "cell_type": "code",
   "execution_count": null,
   "metadata": {},
   "outputs": [],
   "source": [
    "district_name = district[\"name\"].value_counts()\n",
    "display(district_name)\n",
    "plt.figure(figsize=[6.4, 20])\n",
    "plt.title(\"District Name\")\n",
    "plt.barh(list(district_name.keys()), list(district_name))\n",
    "\n",
    "district_region = district[\"region\"].value_counts()\n",
    "display(district_region)\n",
    "plt.figure()\n",
    "plt.title(\"District Region\")\n",
    "plt.barh(list(district_region.keys()), list(district_region))"
   ]
  },
  {
   "cell_type": "markdown",
   "metadata": {},
   "source": [
    "### Features conclusions\n",
    "\n",
    "- District `name` is unique for each district\n"
   ]
  },
  {
   "cell_type": "markdown",
   "metadata": {},
   "source": [
    "## Transaction Analysis"
   ]
  },
  {
   "cell_type": "code",
   "execution_count": null,
   "metadata": {
    "scrolled": false
   },
   "outputs": [],
   "source": [
    "display(trans_dev.head())\n",
    "display(trans_dev.info())"
   ]
  },
  {
   "cell_type": "code",
   "execution_count": null,
   "metadata": {},
   "outputs": [],
   "source": [
    "trans_type = trans_dev[\"type\"].value_counts()\n",
    "trans_operation = trans_dev[\"operation\"].value_counts()\n",
    "trans_k_symbol = trans_dev[\"k_symbol\"].value_counts()\n",
    "trans_bank = trans_dev[\"bank\"].value_counts()\n",
    "\n",
    "fig, ((ax2, ax1), (ax3, ax4)) = plt.subplots(2, 2, figsize=(15, 10))\n",
    "ax1.title.set_text(\"Transaction Type\")\n",
    "ax1.bar(list(trans_type.keys()), list(trans_type))\n",
    "ax2.title.set_text(\"Transaction Operation\")\n",
    "ax2.barh(list(trans_operation.keys()), list(trans_operation))\n",
    "ax3.title.set_text(\"Transaction K_symbol\")\n",
    "ax3.barh(list(trans_k_symbol.keys()), list(trans_k_symbol))\n",
    "ax4.title.set_text(\"Transaction Bank\")\n",
    "ax4.bar(list(trans_bank.keys()), list(trans_bank))\n",
    "plt.show()"
   ]
  },
  {
   "cell_type": "code",
   "execution_count": null,
   "metadata": {},
   "outputs": [],
   "source": [
    "trans_dev_no_mv = pd.read_csv('data_processed/trans_dev_no_mv.csv')"
   ]
  },
  {
   "cell_type": "code",
   "execution_count": null,
   "metadata": {},
   "outputs": [],
   "source": [
    "display(trans_dev_no_mv.head())\n",
    "display(trans_dev_no_mv.info())\n",
    "display(trans_dev_no_mv.describe())"
   ]
  },
  {
   "cell_type": "code",
   "execution_count": null,
   "metadata": {},
   "outputs": [],
   "source": [
    "trans_type = trans_dev_no_mv[\"type\"].value_counts()\n",
    "trans_operation = trans_dev_no_mv[\"operation\"].value_counts()\n",
    "trans_k_symbol = trans_dev_no_mv[\"k_symbol\"].value_counts()\n",
    "\n",
    "fig, ((ax2, ax1), (ax3, ax4)) = plt.subplots(2, 2, figsize=(15, 10))\n",
    "ax1.title.set_text(\"Transaction Type\")\n",
    "ax1.bar(list(trans_type.keys()), list(trans_type))\n",
    "ax2.title.set_text(\"Transaction Operation\")\n",
    "ax2.barh(list(trans_operation.keys()), list(trans_operation))\n",
    "ax3.title.set_text(\"Transaction K_symbol\")\n",
    "ax3.barh(list(trans_k_symbol.keys()), list(trans_k_symbol))\n",
    "ax4.title.set_text(\"Transaction Bank\")\n",
    "plt.show()"
   ]
  },
  {
   "cell_type": "code",
   "execution_count": null,
   "metadata": {},
   "outputs": [],
   "source": [
    "# Describe mean balance for each account\n",
    "\n",
    "balance_mean_by_account = trans_dev_no_mv.groupby('account_id')['balance'].mean()\n",
    "display(balance_mean_by_account.describe())\n"
   ]
  },
  {
   "cell_type": "code",
   "execution_count": null,
   "metadata": {},
   "outputs": [],
   "source": [
    "# Describe mean transaction amount for each transaction type\n",
    "\n",
    "amount_mean_by_transaction_type = trans_dev_no_mv.groupby('type')['amount'].mean()\n",
    "display(amount_mean_by_transaction_type)\n",
    "\n",
    "amount_mean_by_transaction_operation = trans_dev_no_mv.groupby('operation')['amount'].mean()\n",
    "display(amount_mean_by_transaction_operation)"
   ]
  },
  {
   "cell_type": "markdown",
   "metadata": {},
   "source": [
    "### Features conclusions\n",
    "- Transaction `type` \"withdrawal in cash\" is most likely an input error so it should be \"withdrawal\"\n",
    "- Transaction `operation` \"credit card withdrawal\" looks like it is logically irrelevant\n",
    "- Transaction `operation` has null values but it has potential to be an important feature since it describes the transaction\n",
    "- Transaction `k_symbol` has empty values besides NaN, they can be considered as NaN"
   ]
  },
  {
   "cell_type": "markdown",
   "metadata": {},
   "source": [
    "## Loan Analysis"
   ]
  },
  {
   "cell_type": "code",
   "execution_count": null,
   "metadata": {
    "scrolled": false
   },
   "outputs": [],
   "source": [
    "display(loan_dev.head())\n",
    "display(loan_dev.info())\n",
    "display(loan_dev.describe())\n"
   ]
  },
  {
   "cell_type": "code",
   "execution_count": null,
   "metadata": {},
   "outputs": [],
   "source": [
    "loan_dev['date_ts'] = convert_date(loan_dev['date'])\n",
    "print(loan_dev['date_ts'].min())\n",
    "print(loan_dev['date_ts'].max())"
   ]
  },
  {
   "cell_type": "markdown",
   "metadata": {},
   "source": [
    "The plot below shows that a big majority of the loans were given, what represents a strng imbalance in the target column. This situation usally leads models to have the tendency to opt for the class more populated, in this case answering 'yes' to the loan."
   ]
  },
  {
   "cell_type": "code",
   "execution_count": null,
   "metadata": {
    "scrolled": true
   },
   "outputs": [],
   "source": [
    "loan_status = loan_dev['status'].value_counts()\n",
    "plt.title(\"Was the loan given?\")\n",
    "plt.bar(['yes', 'no'], list(loan_status))"
   ]
  },
  {
   "cell_type": "markdown",
   "metadata": {},
   "source": [
    "In the box plot and histogram below we can see that the duration of the loans has a uniform distribution."
   ]
  },
  {
   "cell_type": "code",
   "execution_count": null,
   "metadata": {
    "scrolled": false
   },
   "outputs": [],
   "source": [
    "fig, (ax1, ax2) = plt.subplots(1, 2)\n",
    "fig.set_size_inches(15, 4.8)\n",
    "fig.suptitle(\"Duration of the loans\")\n",
    "\n",
    "ax1.boxplot(loan_dev[\"duration\"])\n",
    "ax2.hist(loan_dev[\"duration\"].values, [6, 18, 30, 42, 54, 66])\n",
    "plt.show()"
   ]
  },
  {
   "cell_type": "markdown",
   "metadata": {},
   "source": [
    "In the box plot and histogram below we can see that the amount of money requested for loans looks like a poisson distribution. The density of the data until the median is much greater than after it. Also, in the box plot, it's poossible to verify the existence of some outliers."
   ]
  },
  {
   "cell_type": "code",
   "execution_count": null,
   "metadata": {},
   "outputs": [],
   "source": [
    "fig, (ax1, ax2) = plt.subplots(1, 2)\n",
    "fig.set_size_inches(15, 4.8)\n",
    "fig.suptitle(\"Amount of the loans\")\n",
    "\n",
    "ax1.boxplot(loan_dev[\"amount\"])\n",
    "ax2.hist(loan_dev[\"amount\"].values, 30)\n",
    "plt.show()"
   ]
  },
  {
   "cell_type": "markdown",
   "metadata": {},
   "source": [
    "By observation of the below scatter plots and histograms, we can conclude that the duration of the loan is not connected with the status of the loan since it have an uniform distribution. On the other hand, either the amount and the payments looks like they can be related since the percentage of negative status in higher payments and amounts is greater than it is in the lower ones."
   ]
  },
  {
   "cell_type": "code",
   "execution_count": null,
   "metadata": {
    "scrolled": false
   },
   "outputs": [],
   "source": [
    "from matplotlib.patches import Rectangle\n",
    "\n",
    "\n",
    "amount = loan_dev['amount']\n",
    "duration = loan_dev['duration']\n",
    "payments = loan_dev['payments']\n",
    "\n",
    "colors = ['g' if s == 1 else 'r' for s in loan_dev['status']]\n",
    "\n",
    "fig, (ax1, ax2,  ax3) = plt.subplots(3, figsize=[15, 15])\n",
    "ax1.scatter(amount, duration, color=colors)\n",
    "ax1.set_xlabel('Loan amount')\n",
    "ax1.set_ylabel('Duration')\n",
    "ax2.scatter(amount, payments, color=colors)\n",
    "ax2.set_xlabel('Loan amount')\n",
    "ax2.set_ylabel('Payments')\n",
    "ax3.scatter(payments, duration, color=colors)\n",
    "ax3.set_xlabel('Payments')\n",
    "ax3.set_ylabel('Duration')\n",
    "\n",
    "fig, (ax1, ax2, ax3) = plt.subplots(1, 3, figsize=[20, 4.8])\n",
    "handles = [Rectangle((0, 0), 1, 1, color=c, ec=\"k\") for c in ['C0', 'C1']]\n",
    "\n",
    "ax1.hist(payments, list(range(0, 10001, 500)), color='C0')\n",
    "ax1.hist(loan_dev.query('status == -1')['payments'], list(range(0, 10001, 500)), color='C1')\n",
    "ax1.set_xlabel('Payment')\n",
    "ax1_labels = [\"All payments\", \"Payments without loan\"]\n",
    "ax1.legend(handles, ax1_labels)\n",
    "\n",
    "ax2.hist(amount, list(range(0, 600001, 40000)), color='C0')\n",
    "ax2.hist(loan_dev.query('status == -1')['amount'], list(range(0, 600001, 40000)), color='C1')\n",
    "ax2.set_xlabel('Amount')\n",
    "ax2_labels = [\"All amounts\", \"Amounts without loan\"]\n",
    "ax2.legend(handles, ax2_labels)\n",
    "\n",
    "ax3.hist(duration, list(range(6, 70, 12)), color='C0')\n",
    "ax3.hist(loan_dev.query('status == -1')['duration'], list(range(6, 70, 12)), color='C1')\n",
    "ax3.set_xlabel('Duration')\n",
    "ax3.set_xticks(list(range(12, 61, 12)))\n",
    "ax3_labels = [\"All durations\", \"Durations without loan\"]\n",
    "ax3.legend(handles, ax3_labels)\n",
    "plt.show()"
   ]
  },
  {
   "cell_type": "code",
   "execution_count": null,
   "metadata": {},
   "outputs": [],
   "source": [
    "from datetime import date\n",
    "\n",
    "date_ts1 = loan_dev.query('status == 1')['date_ts'].apply(lambda x: x.toordinal())\n",
    "payments1 = loan_dev.query('status == 1')['payments']\n",
    "\n",
    "date_ts2 = loan_dev.query('status == -1')['date_ts'].apply(lambda x: x.toordinal())\n",
    "payments2 = loan_dev.query('status == -1')['payments']\n",
    "\n",
    "z1 = np.polyfit(date_ts1, payments1, 1)\n",
    "p1 = np.poly1d(z1)\n",
    "z2 = np.polyfit(date_ts2, payments2, 1)\n",
    "p2 = np.poly1d(z2)\n",
    "\n",
    "plt.figure(figsize=[10, 4.8])\n",
    "plt.scatter(date_ts1, payments1, color=['g' for _ in range(len(date_ts1))])\n",
    "plt.plot(date_ts1, p1(date_ts1), \"g--\")\n",
    "plt.scatter(date_ts2, payments2, color=['r' for _ in range(len(date_ts2))])\n",
    "plt.plot(date_ts2, p2(date_ts2), \"r--\")\n",
    "aux = plt.xticks()\n",
    "new_labels = [date.fromordinal(int(item)) for item in aux[0]]\n",
    "plt.xticks(aux[0], new_labels)\n",
    "plt.xlabel('Date')\n",
    "plt.ylabel('Payments')\n",
    "plt.show()"
   ]
  },
  {
   "cell_type": "markdown",
   "metadata": {},
   "source": [
    "### Features conclusions\n",
    "- Loan `duration` doesn't seems to be relevant for the `status` since the distribution porportion is similar for both status\n",
    "- Loan higher `payments` leads to a greater probability of a `status` of -1\n",
    "- Loan `payments` correspondent to `status` -1 decrease along the time"
   ]
  },
  {
   "cell_type": "markdown",
   "metadata": {},
   "source": [
    "## Integrated Data Analysis"
   ]
  },
  {
   "cell_type": "code",
   "execution_count": null,
   "metadata": {},
   "outputs": [],
   "source": [
    "# Relation between status and monthly_diff\n",
    "status_median_monthly_diff = data.groupby('status')['monthly_diff'].median()\n",
    "display(status_median_monthly_diff)\n",
    "\n",
    "aux = {'Status 1': data[data['status'] == 1]['monthly_diff'].values, 'Status -1': data[data['status'] == -1]['monthly_diff'].values}\n",
    "fig, ax = plt.subplots(figsize=(6, 6))\n",
    "fig.suptitle('Monthly diff for status = 1 and status = -1')\n",
    "ax.boxplot(aux.values())\n",
    "ax.set_xticklabels(aux.keys())\n",
    "plt.show()\n"
   ]
  },
  {
   "cell_type": "markdown",
   "metadata": {},
   "source": [
    "The plot below indicates that the gender of the client that requested the loan have no significant impact on the choice of loan or not."
   ]
  },
  {
   "cell_type": "code",
   "execution_count": null,
   "metadata": {
    "scrolled": true
   },
   "outputs": [],
   "source": [
    "labels = ['loan', 'no loan']\n",
    "aux = data.groupby('gender')['status'].value_counts()\n",
    "female = aux[:2]\n",
    "male = aux[2:]\n",
    "\n",
    "x = np.arange(len(labels))  # the label locations\n",
    "width = 0.35  # the width of the bars\n",
    "\n",
    "fig, ax = plt.subplots()\n",
    "rects1 = ax.bar(x - width/2, male, width, label='Men')\n",
    "rects2 = ax.bar(x + width/2, female, width, label='Women')\n",
    "\n",
    "# Add some text for labels, title and custom x-axis tick labels, etc.\n",
    "ax.set_title('Loans given or not by gender')\n",
    "ax.set_xticks(x, labels)\n",
    "ax.legend()\n",
    "\n",
    "ax.bar_label(rects1, padding=1)\n",
    "ax.bar_label(rects2, padding=1)\n",
    "plt.show()"
   ]
  },
  {
   "cell_type": "markdown",
   "metadata": {},
   "source": [
    "### Correlation Map"
   ]
  },
  {
   "cell_type": "code",
   "execution_count": 159,
   "metadata": {},
   "outputs": [
    {
     "data": {
      "image/png": "[encoded data removed]",
      "text/plain": [
       "<Figure size 2160x1728 with 2 Axes>"
      ]
     },
     "metadata": {
      "needs_background": "light"
     },
     "output_type": "display_data"
    }
   ],
   "source": [
    "no_ids = [c for c in data.columns if c[-3:] != '_id' and c != 'code']\n",
    "no_ids.remove('status')\n",
    "no_ids.append('status')\n",
    "\n",
    "get_correlation(data[no_ids])"
   ]
  },
  {
   "cell_type": "markdown",
   "metadata": {},
   "source": [
    "### Principal Component Analysis (PCA)"
   ]
  },
  {
   "cell_type": "code",
   "execution_count": null,
   "metadata": {},
   "outputs": [],
   "source": [
    "from sklearn.preprocessing import OrdinalEncoder\n",
    "from sklearn.preprocessing import StandardScaler\n",
    "from sklearn.decomposition import PCA\n",
    "\n",
    "def encode_data(df, columns):\n",
    "    le = OrdinalEncoder()\n",
    "    cols = [col for col in columns if col in df.keys()]\n",
    "    df[cols] = le.set_params(encoded_missing_value=-1).fit_transform(df[cols])\n",
    "    return df\n",
    "\n",
    "categorical_columns = list(data.select_dtypes(\"object\").columns)\n",
    "pca_data = encode_data(data, categorical_columns)\n",
    "\n",
    "# all data columns except status\n",
    "cols = no_ids[:-1]\n",
    "cols.remove('age_on_loan_request_disc')\n",
    "cols.remove('gender')\n",
    "cols.remove('account_frequency')\n",
    "cols.remove('loan_duration')\n",
    "cols.remove('age_on_loan_request')\n",
    "\n",
    "X = data[cols].values\n",
    "y = data['status'].values\n",
    "display(data[cols].head())\n",
    "\n",
    "# Standardizing the features\n",
    "X = StandardScaler().fit_transform(X)\n",
    "\n",
    "pca = PCA(n_components=2)\n",
    "principalComponents = pca.fit_transform(X)\n",
    "print(pca.explained_variance_ratio_)\n",
    "display(pca.components_)\n",
    "\n",
    "principalDf = pd.DataFrame(data = principalComponents, columns = ['principal component 1', 'principal component 2'])\n",
    "finalDf = pd.concat([principalDf, data[['status']]], axis = 1)\n",
    "finalDf.head()"
   ]
  },
  {
   "cell_type": "code",
   "execution_count": 160,
   "metadata": {},
   "outputs": [
    {
     "data": {
      "image/png": "[encoded data removed]",
      "text/plain": [
       "<Figure size 576x576 with 1 Axes>"
      ]
     },
     "metadata": {
      "needs_background": "light"
     },
     "output_type": "display_data"
    }
   ],
   "source": [
    "fig = plt.figure(figsize = (8,8))\n",
    "ax = fig.add_subplot(1,1,1) \n",
    "ax.set_xlabel('Principal Component 1', fontsize = 15)\n",
    "ax.set_ylabel('Principal Component 2', fontsize = 15)\n",
    "ax.set_title('2 component PCA', fontsize = 20)\n",
    "targets = [-1, 1]\n",
    "colors = ['r', 'g']\n",
    "for target, color in zip(targets,colors):\n",
    "    indicesToKeep = finalDf['status'] == target\n",
    "    ax.scatter(finalDf.loc[indicesToKeep, 'principal component 1']\n",
    "               , finalDf.loc[indicesToKeep, 'principal component 2']\n",
    "               , c = color)\n",
    "ax.legend(targets)\n",
    "ax.grid()"
   ]
  }
 ],
 "metadata": {
  "kernelspec": {
   "display_name": "Python 3 (ipykernel)",
   "language": "python",
   "name": "python3"
  },
  "language_info": {
   "codemirror_mode": {
    "name": "ipython",
    "version": 3
   },
   "file_extension": ".py",
   "mimetype": "text/x-python",
   "name": "python",
   "nbconvert_exporter": "python",
   "pygments_lexer": "ipython3",
   "version": "3.10.6"
  },
  "vscode": {
   "interpreter": {
    "hash": "916dbcbb3f70747c44a77c7bcd40155683ae19c65e1c03b4aa3499c5328201f1"
   }
  }
 },
 "nbformat": 4,
 "nbformat_minor": 2
}
