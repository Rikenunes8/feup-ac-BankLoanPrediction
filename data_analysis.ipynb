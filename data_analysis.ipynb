{
 "cells": [
  {
   "cell_type": "markdown",
   "metadata": {},
   "source": [
    "# Data Analysis"
   ]
  },
  {
   "cell_type": "markdown",
   "metadata": {},
   "source": [
    "## Load Data"
   ]
  },
  {
   "cell_type": "code",
   "execution_count": null,
   "metadata": {},
   "outputs": [],
   "source": [
    "import pandas as pd\n",
    "import numpy as np\n",
    "import seaborn as sns\n",
    "import matplotlib.pyplot as plt\n",
    "from IPython.display import display\n",
    "\n",
    "pd.set_option(\"display.max_columns\", None)\n",
    "\n",
    "\n",
    "account = pd.read_csv('data/account.csv', dtype={'date':object})\n",
    "card_dev = pd.read_csv('data/card_dev.csv', dtype={'issued':object})\n",
    "client = pd.read_csv('data/client.csv', dtype={'birth_number':object})\n",
    "disposition = pd.read_csv('data/disp.csv')\n",
    "district = pd.read_csv('data/district.csv')\n",
    "loan_dev = pd.read_csv('data/loan_dev.csv', dtype={'date':object})\n",
    "trans_dev = pd.read_csv('data/trans_dev.csv', \n",
    "                        dtype={'account_id':int, 'date':object, 'type':object, 'operation':object, 'amount':float, 'balance':float, 'k_symbol':object, 'bank':object, 'account':float})\n",
    "\n",
    "data = pd.read_csv('data_processed/data.csv')"
   ]
  },
  {
   "cell_type": "markdown",
   "metadata": {},
   "source": [
    "## General Attribute Analysis\n",
    "\n",
    "The data is organized in data tables so each table has an ammount of attributes that can be analised to better understand their significance."
   ]
  },
  {
   "cell_type": "code",
   "execution_count": null,
   "metadata": {},
   "outputs": [],
   "source": [
    "print(f'''\n",
    "account     shape: {account.shape}\n",
    "client      shape: {client.shape}\n",
    "disposition shape: {disposition.shape}\n",
    "district    shape: {district.shape}\n",
    "card        shape: {card_dev.shape}\n",
    "loan        shape: {loan_dev.shape}\n",
    "trans       shape: {trans_dev.shape}\n",
    "\n",
    "data        shape: {data.shape}\n",
    "''')"
   ]
  },
  {
   "cell_type": "code",
   "execution_count": null,
   "metadata": {
    "scrolled": false
   },
   "outputs": [],
   "source": [
    "display(account.head(), 'Account')\n",
    "display(card_dev.head(), 'Card')\n",
    "display(client.head(), 'Client')\n",
    "display(disposition.head(), 'Disposition')\n",
    "display(district.head(), 'District')\n",
    "display(loan_dev.head(), 'Loan')\n",
    "display(trans_dev.head(), 'Transaction')"
   ]
  },
  {
   "cell_type": "code",
   "execution_count": null,
   "metadata": {},
   "outputs": [],
   "source": [
    "print('Account')\n",
    "print(account.info())\n",
    "print('\\nCard')\n",
    "print(card_dev.info())\n",
    "print('\\nClient')\n",
    "print(client.info())\n",
    "print('\\nDisposition')\n",
    "print(disposition.info())\n",
    "print('\\nDistrict')\n",
    "print(district.info())\n",
    "print('\\nLoan')\n",
    "print(loan_dev.info())\n",
    "print('\\nTransaction')\n",
    "print(trans_dev.info())"
   ]
  },
  {
   "cell_type": "markdown",
   "metadata": {},
   "source": [
    "### String object type analysis"
   ]
  },
  {
   "cell_type": "code",
   "execution_count": null,
   "metadata": {
    "scrolled": true
   },
   "outputs": [],
   "source": [
    "account_frequency = account[\"frequency\"].value_counts()\n",
    "card_type = card_dev[\"type\"].value_counts()\n",
    "disp_type = disposition[\"type\"].value_counts()\n",
    "district_name = district[\"name\"].value_counts()\n",
    "district_region = district[\"region\"].value_counts()\n",
    "trans_type = trans_dev[\"type\"].value_counts()\n",
    "trans_operation = trans_dev[\"operation\"].value_counts()\n",
    "trans_k_symbol = trans_dev[\"k_symbol\"].value_counts()\n",
    "trans_bank = trans_dev[\"bank\"].value_counts()\n",
    "\n",
    "\n",
    "display(account_frequency)\n",
    "display(card_type)\n",
    "display(disp_type)\n",
    "display(district_name)\n",
    "display(district_region)\n",
    "display(trans_type)\n",
    "display(trans_operation)\n",
    "display(trans_k_symbol)\n",
    "display(trans_bank)"
   ]
  },
  {
   "cell_type": "code",
   "execution_count": null,
   "metadata": {
    "scrolled": true
   },
   "outputs": [],
   "source": [
    "plt.title(\"Account Frequency\")\n",
    "plt.bar(list(account_frequency.keys()), list(account_frequency))\n",
    "\n",
    "plt.figure()\n",
    "plt.title(\"Card Type\")\n",
    "plt.bar(list(card_type.keys()), list(card_type))\n",
    "\n",
    "plt.figure()\n",
    "plt.title(\"Disposition Type\")\n",
    "plt.bar(list(disp_type.keys()), list(disp_type))\n",
    "\n",
    "plt.figure(figsize=[6.4, 20])\n",
    "plt.title(\"District Name\")\n",
    "plt.barh(list(district_name.keys()), list(district_name))\n",
    "\n",
    "plt.figure()\n",
    "plt.title(\"District Region\")\n",
    "plt.barh(list(district_region.keys()), list(district_region))\n",
    "\n",
    "plt.figure()\n",
    "plt.title(\"Transaction Type\")\n",
    "plt.bar(list(trans_type.keys()), list(trans_type))\n",
    "\n",
    "plt.figure()\n",
    "plt.title(\"Transaction Operation\")\n",
    "plt.barh(list(trans_operation.keys()), list(trans_operation))\n",
    "\n",
    "plt.figure()\n",
    "plt.title(\"Transaction K_symbol\")\n",
    "plt.barh(list(trans_k_symbol.keys()), list(trans_k_symbol))\n",
    "\n",
    "plt.figure()\n",
    "plt.title(\"Transaction Bank\")\n",
    "plt.bar(list(trans_bank.keys()), list(trans_bank))"
   ]
  },
  {
   "cell_type": "markdown",
   "metadata": {},
   "source": [
    "- District Name has no significance, it could be an id\n",
    "- Transaction k_symbol has empty values besides NaN"
   ]
  },
  {
   "cell_type": "markdown",
   "metadata": {},
   "source": [
    "### Statitical Methods"
   ]
  },
  {
   "cell_type": "code",
   "execution_count": null,
   "metadata": {},
   "outputs": [],
   "source": [
    "print('Account')\n",
    "display(account.describe())\n",
    "print('\\nCard')\n",
    "display(card_dev.describe())\n",
    "print('\\nClient')\n",
    "display(client.describe())\n",
    "print('\\nDisposition')\n",
    "display(disposition.describe())\n",
    "print('\\nDistrict')\n",
    "display(district.describe())\n",
    "print('\\nLoan')\n",
    "display(loan_dev.describe())\n",
    "print('\\nTransaction')\n",
    "display(trans_dev.describe())"
   ]
  },
  {
   "cell_type": "code",
   "execution_count": null,
   "metadata": {},
   "outputs": [],
   "source": [
    "# Describe mean balance for each account\n",
    "\n",
    "balance_mean_by_account = trans_dev.groupby('account_id')['balance'].mean()\n",
    "display(balance_mean_by_account.describe())\n"
   ]
  },
  {
   "cell_type": "code",
   "execution_count": null,
   "metadata": {},
   "outputs": [],
   "source": [
    "# Describe mean transaction amount for each transaction type\n",
    "\n",
    "amount_mean_by_transaction_type = trans_dev.groupby('type')['amount'].mean()\n",
    "display(amount_mean_by_transaction_type)\n",
    "\n",
    "amount_mean_by_transaction_operation = trans_dev.groupby('operation')['amount'].mean()\n",
    "display(amount_mean_by_transaction_operation)"
   ]
  },
  {
   "cell_type": "code",
   "execution_count": null,
   "metadata": {},
   "outputs": [],
   "source": [
    "# Analyse transactions during the time of each loan\n",
    "\n",
    "loan_clone = loan_dev.copy()\n",
    "trans_clone = trans_dev.copy()\n",
    "\n",
    "loan_clone['date'] = loan_clone['date'].apply(lambda x: '19'+x[:2]+'-'+x[2:4]+'-'+x[4:])\n",
    "loan_clone['date'] = pd.to_datetime(loan_clone['date'])\n",
    "\n",
    "trans_clone['date'] = trans_clone['date'].apply(lambda x: '19'+x[:2]+'-'+x[2:4]+'-'+x[4:])\n",
    "trans_clone['date'] = pd.to_datetime(trans_clone['date'])\n",
    "\n",
    "loan_trans = pd.merge(loan_clone, trans_clone, left_on='account_id', right_on='account_id', how='left')\n",
    "loan_trans['date_diff'] = (loan_trans['date_y']-loan_trans['date_x'])/np.timedelta64(1, 'M')\n",
    "loan_trans['date_diff'] = loan_trans['date_diff'].astype(int)\n",
    "\n",
    "def agg_func(data):\n",
    "    credits = data[(data['type'] == 'credit') & (data['operation'] != 'collection from another bank')]\n",
    "    withdrawals = data[((data['type'] == 'withdrawal') | (data['type'] == 'withdrawal in cash')) & (data['operation'] != 'remittance to another bank')]\n",
    "    return pd.Series({\n",
    "        'account_id': data['account_id'].iat[0].astype(int),\n",
    "        'credit_count': credits.shape[0],\n",
    "        'withdrawal_count': withdrawals.shape[0],\n",
    "        'mensal_credit': (credits['amount_y'].sum() / (credits['date_diff'].iat[-1] - credits['date_diff'].iat[0] + 1)) if credits.shape[0] != 0 else 0, \n",
    "        'mensal_withdrawal': (withdrawals['amount_y'].sum() / (withdrawals['date_diff'].iat[-1] - withdrawals['date_diff'].iat[0] + 1)) if withdrawals.shape[0] != 0 else 0,\n",
    "        'last_balance': data['balance'].iat[-1],\n",
    "        'status': data['status'].iat[0],\n",
    "        'payments': data['payments'].iat[0],\n",
    "        'amount': data['amount_x'].iat[0],\n",
    "        'duration': data['duration'].iat[0],\n",
    "    })\n",
    "res = loan_trans.groupby(['loan_id']).apply(agg_func)\n",
    "res = res.reset_index(drop=False)\n",
    "res['mensal_diff'] = (res['mensal_credit'] - res['mensal_withdrawal']).astype(int)\n",
    "res = res.drop(['withdrawal_count', 'credit_count'], axis=1)\n",
    "\n",
    "display(res.head())\n",
    "\n",
    "status_median_mensal_diff = res.groupby('status')['mensal_diff'].median()\n",
    "display(status_median_mensal_diff)\n",
    "\n",
    "fig, (ax1, ax2) = plt.subplots(1, 2, figsize=(15, 5))\n",
    "ax1.boxplot(res[res['status'] == 1]['mensal_diff'])\n",
    "ax2.boxplot(res[res['status'] == -1]['mensal_diff'])\n",
    "plt.show()\n"
   ]
  },
  {
   "cell_type": "markdown",
   "metadata": {},
   "source": [
    "The plot below shows that a big majority of the loans were given, what represents a strng imbalance in the target column. This situation usally leads models to have the tendency to opt for the class more populated, in this case answering 'yes' to the loan."
   ]
  },
  {
   "cell_type": "code",
   "execution_count": null,
   "metadata": {
    "scrolled": true
   },
   "outputs": [],
   "source": [
    "loan_status = loan_dev['status'].value_counts()\n",
    "plt.title(\"Was the loan given?\")\n",
    "plt.bar(['yes', 'no'], list(loan_status))"
   ]
  },
  {
   "cell_type": "markdown",
   "metadata": {},
   "source": [
    "In the box plot and histogram below we can see that the duration of the loans has a uniform distribution."
   ]
  },
  {
   "cell_type": "code",
   "execution_count": null,
   "metadata": {
    "scrolled": false
   },
   "outputs": [],
   "source": [
    "fig, (ax1, ax2) = plt.subplots(1, 2)\n",
    "fig.set_size_inches(15, 4.8)\n",
    "fig.suptitle(\"Duration of the loans\")\n",
    "\n",
    "ax1.boxplot(loan_dev[\"duration\"])\n",
    "ax2.hist(loan_dev[\"duration\"].values, [6, 18, 30, 42, 54, 66])\n",
    "plt.show()"
   ]
  },
  {
   "cell_type": "markdown",
   "metadata": {},
   "source": [
    "In the box plot and histogram below we can see that the amount of money requested for loans looks like a poisson distribution. The density of the data until the median is much greater than after it. Also, in the box plot, it's poossible to verify the existence of some outliers."
   ]
  },
  {
   "cell_type": "code",
   "execution_count": null,
   "metadata": {},
   "outputs": [],
   "source": [
    "fig, (ax1, ax2) = plt.subplots(1, 2)\n",
    "fig.set_size_inches(15, 4.8)\n",
    "fig.suptitle(\"Amount of the loans\")\n",
    "\n",
    "ax1.boxplot(loan_dev[\"amount\"])\n",
    "ax2.hist(loan_dev[\"amount\"].values, 30)\n",
    "plt.show()"
   ]
  },
  {
   "cell_type": "markdown",
   "metadata": {},
   "source": [
    "The plot below indicates that the gender of the client that requested the loan have no significant impact on the choice of loan or not."
   ]
  },
  {
   "cell_type": "code",
   "execution_count": null,
   "metadata": {
    "scrolled": true
   },
   "outputs": [],
   "source": [
    "labels = ['loan', 'no loan']\n",
    "aux = data.groupby('gender')['status'].value_counts()\n",
    "female = aux[:2]\n",
    "male = aux[2:]\n",
    "\n",
    "x = np.arange(len(labels))  # the label locations\n",
    "width = 0.35  # the width of the bars\n",
    "\n",
    "fig, ax = plt.subplots()\n",
    "rects1 = ax.bar(x - width/2, male, width, label='Men')\n",
    "rects2 = ax.bar(x + width/2, female, width, label='Women')\n",
    "\n",
    "# Add some text for labels, title and custom x-axis tick labels, etc.\n",
    "ax.set_title('Loans given or not by gender')\n",
    "ax.set_xticks(x, labels)\n",
    "ax.legend()\n",
    "\n",
    "ax.bar_label(rects1, padding=1)\n",
    "ax.bar_label(rects2, padding=1)\n",
    "plt.show()"
   ]
  },
  {
   "cell_type": "markdown",
   "metadata": {},
   "source": [
    "By observation of the below scatter plots and histograms, we can conclude that the duration of the loan is not connected with the status of the loan since it have an uniform distribution. On the other hand, either the amount and the payments looks like they can be related since the percentage of negative status in higher payments and amounts is greater than it is in the lower ones."
   ]
  },
  {
   "cell_type": "code",
   "execution_count": null,
   "metadata": {
    "scrolled": false
   },
   "outputs": [],
   "source": [
    "from matplotlib.patches import Rectangle\n",
    "\n",
    "\n",
    "amount = loan_dev['amount']\n",
    "duration = loan_dev['duration']\n",
    "payments = loan_dev['payments']\n",
    "\n",
    "colors = ['g' if s == 1 else 'r' for s in loan_dev['status']]\n",
    "\n",
    "fig, (ax1, ax2,  ax3) = plt.subplots(3, figsize=[15, 15])\n",
    "ax1.scatter(amount, duration, color=colors)\n",
    "ax1.set_xlabel('Loan amount')\n",
    "ax1.set_ylabel('Duration')\n",
    "ax2.scatter(amount, payments, color=colors)\n",
    "ax2.set_xlabel('Loan amount')\n",
    "ax2.set_ylabel('Payments')\n",
    "ax3.scatter(payments, duration, color=colors)\n",
    "ax3.set_xlabel('Payments')\n",
    "ax3.set_ylabel('Duration')\n",
    "\n",
    "fig, (ax1, ax2, ax3) = plt.subplots(1, 3, figsize=[20, 4.8])\n",
    "handles = [Rectangle((0, 0), 1, 1, color=c, ec=\"k\") for c in ['C0', 'C1']]\n",
    "\n",
    "ax1.hist(payments, list(range(0, 10001, 500)), color='C0')\n",
    "ax1.hist(loan_dev.query('status == -1')['payments'], list(range(0, 10001, 500)), color='C1')\n",
    "ax1.set_xlabel('Payment')\n",
    "ax1_labels = [\"All payments\", \"Payments without loan\"]\n",
    "ax1.legend(handles, ax1_labels)\n",
    "\n",
    "ax2.hist(amount, list(range(0, 600001, 40000)), color='C0')\n",
    "ax2.hist(loan_dev.query('status == -1')['amount'], list(range(0, 600001, 40000)), color='C1')\n",
    "ax2.set_xlabel('Amount')\n",
    "ax2_labels = [\"All amounts\", \"Amounts without loan\"]\n",
    "ax2.legend(handles, ax2_labels)\n",
    "\n",
    "ax3.hist(duration, list(range(6, 70, 12)), color='C0')\n",
    "ax3.hist(loan_dev.query('status == -1')['duration'], list(range(6, 70, 12)), color='C1')\n",
    "ax3.set_xlabel('Duration')\n",
    "ax3.set_xticks(list(range(12, 61, 12)))\n",
    "ax3_labels = [\"All durations\", \"Durations without loan\"]\n",
    "ax3.legend(handles, ax3_labels)\n",
    "plt.show()"
   ]
  },
  {
   "cell_type": "markdown",
   "metadata": {},
   "source": [
    "### Correlation Map"
   ]
  },
  {
   "cell_type": "code",
   "execution_count": null,
   "metadata": {},
   "outputs": [],
   "source": [
    "def get_correlation(df):\n",
    "\n",
    "    corr = df.corr()\n",
    "    mask = np.zeros_like(corr, dtype=bool)\n",
    "    mask[np.triu_indices_from(mask)] = True\n",
    "\n",
    "\n",
    "    plt.subplots(figsize=(30,24))\n",
    "\n",
    "    cmap = sns.diverging_palette(220, 10, as_cmap=True)\n",
    "\n",
    "    ax = sns.heatmap(corr, mask=mask, cmap=cmap, center=0,square=True, linewidths=.1, cbar_kws={\"shrink\": .5}, annot = True)\n",
    "\n",
    "    y_lim = ax.get_ylim();\n",
    "    ax.set_ylim(np.ceil(y_lim[0]), np.floor(y_lim[1]))\n",
    "    \n",
    "\n",
    "    plt.show()\n",
    "\n",
    "get_correlation(data)\n"
   ]
  }
 ],
 "metadata": {
  "kernelspec": {
   "display_name": "Python 3 (ipykernel)",
   "language": "python",
   "name": "python3"
  },
  "language_info": {
   "codemirror_mode": {
    "name": "ipython",
    "version": 3
   },
   "file_extension": ".py",
   "mimetype": "text/x-python",
   "name": "python",
   "nbconvert_exporter": "python",
   "pygments_lexer": "ipython3",
   "version": "3.10.6"
  },
  "vscode": {
   "interpreter": {
    "hash": "916dbcbb3f70747c44a77c7bcd40155683ae19c65e1c03b4aa3499c5328201f1"
   }
  }
 },
 "nbformat": 4,
 "nbformat_minor": 2
}
