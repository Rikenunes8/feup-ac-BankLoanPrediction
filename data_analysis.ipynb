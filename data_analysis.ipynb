{
 "cells": [
  {
   "cell_type": "markdown",
   "metadata": {},
   "source": [
    "# Data Analysis"
   ]
  },
  {
   "cell_type": "code",
   "execution_count": null,
   "metadata": {},
   "outputs": [],
   "source": [
    "import pandas as pd\n",
    "import numpy as np\n",
    "\n",
    "account = pd.read_csv('data/account.csv')\n",
    "card_dev = pd.read_csv('data/card_dev.csv')\n",
    "client = pd.read_csv('data/client.csv')\n",
    "disposition = pd.read_csv('data/disp.csv')\n",
    "district = pd.read_csv('data/district.csv')\n",
    "loan_dev = pd.read_csv('data/loan_dev.csv')\n",
    "trans_dev = pd.read_csv('data/trans_dev.csv')\n"
   ]
  },
  {
   "cell_type": "code",
   "execution_count": null,
   "metadata": {},
   "outputs": [],
   "source": [
    "# Disposition analysis\n",
    "\n",
    "print(disposition.shape)\n",
    "print(disposition.info())\n",
    "print(disposition.head())\n",
    "print(disposition.describe())\n",
    "\n",
    "print(disposition['type'].value_counts)"
   ]
  },
  {
   "cell_type": "code",
   "execution_count": null,
   "metadata": {},
   "outputs": [],
   "source": [
    "# District analysis\n",
    "\n",
    "print(district.shape)\n",
    "print(district.info())\n",
    "print(district.head())\n",
    "print(district.describe())"
   ]
  },
  {
   "cell_type": "code",
   "execution_count": null,
   "metadata": {},
   "outputs": [],
   "source": []
  }
 ],
 "metadata": {
  "kernelspec": {
   "display_name": "Python 3 (ipykernel)",
   "language": "python",
   "name": "python3"
  },
  "language_info": {
   "codemirror_mode": {
    "name": "ipython",
    "version": 3
   },
   "file_extension": ".py",
   "mimetype": "text/x-python",
   "name": "python",
   "nbconvert_exporter": "python",
   "pygments_lexer": "ipython3",
   "version": "3.10.6"
  },
  "vscode": {
   "interpreter": {
    "hash": "916dbcbb3f70747c44a77c7bcd40155683ae19c65e1c03b4aa3499c5328201f1"
   }
  }
 },
 "nbformat": 4,
 "nbformat_minor": 2
}
