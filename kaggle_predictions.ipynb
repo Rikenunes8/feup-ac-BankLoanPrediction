{
 "cells": [
  {
   "cell_type": "markdown",
   "metadata": {},
   "source": [
    "# Models and Evaluation"
   ]
  },
  {
   "cell_type": "code",
   "execution_count": null,
   "metadata": {},
   "outputs": [],
   "source": [
    "import pandas as pd\n",
    "import numpy as np\n",
    "from IPython.display import display\n",
    "\n",
    "data = pd.read_csv('data_processed/kaggle_data.csv')\n",
    "\n",
    "display(data.head())"
   ]
  },
  {
   "cell_type": "code",
   "execution_count": null,
   "metadata": {},
   "outputs": [],
   "source": [
    "def get_features(df):\n",
    "    return df.drop('status', axis=1)\n",
    "def get_target(df):\n",
    "    return df.drop(df.columns.difference(['status']), axis=1)\n",
    "\n",
    "results = {}"
   ]
  },
  {
   "cell_type": "code",
   "execution_count": null,
   "metadata": {},
   "outputs": [],
   "source": [
    "data = data[['loan_id', 'loan_amount','loan_payments','has_disponent','monthly_diff','no. of cities ' ,'age_on_loan_request_disc','account_frequency_issuance after transaction','account_frequency_monthly issuance','account_frequency_weekly issuance','status']]\n",
    "data.head()"
   ]
  },
  {
   "cell_type": "markdown",
   "metadata": {},
   "source": [
    "### Split data"
   ]
  },
  {
   "cell_type": "code",
   "execution_count": null,
   "metadata": {},
   "outputs": [],
   "source": [
    "def split_data(data):\n",
    "    train = data[data['status'].notnull()]\n",
    "    test = data[data['status'].isnull()]\n",
    "\n",
    "    ids_train = train['loan_id']\n",
    "    ids_test = test['loan_id']\n",
    "    train.drop(['loan_id'], axis=1, inplace=True)\n",
    "    test.drop(['loan_id'], axis=1, inplace=True)\n",
    "    X_train = get_features(train)\n",
    "    y_train = get_target(train)\n",
    "    X_test = get_features(test)\n",
    "    y_test = get_target(test)\n",
    "\n",
    "    return X_train, X_test, y_train, y_test, ids_train, ids_test"
   ]
  },
  {
   "cell_type": "code",
   "execution_count": null,
   "metadata": {},
   "outputs": [],
   "source": [
    "print('Data shape:',data.shape)\n",
    "print('Status  1:',data[data['status']==1].shape)\n",
    "print('Status -1:',data[data['status']==-1].shape)\n",
    "\n",
    "_X_train, _X_test, _y_train, _y_test, _ids_train, _ids_test = split_data(data)\n",
    "\n",
    "print('\\nTrain shape:',_y_train.shape)\n",
    "print('Status ratio:',_y_train[_y_train['status']==1].shape[0],'|',_y_train[_y_train['status']==-1].shape[0])\n",
    "\n",
    "print('\\nTest shape:',_y_test.shape)\n",
    "print('Status ration:',_y_test[_y_test['status']==1].shape[0],'|',_y_test[_y_test['status']==-1].shape[0])\n",
    "\n",
    "display(_X_train.head())\n",
    "display(_y_train.head())\n",
    "display(_X_test.head())\n",
    "display(_y_test.head())"
   ]
  },
  {
   "cell_type": "markdown",
   "metadata": {},
   "source": [
    "### Resampling"
   ]
  },
  {
   "cell_type": "code",
   "execution_count": null,
   "metadata": {},
   "outputs": [],
   "source": [
    "def smote(X_train, y_train):\n",
    "    from imblearn.over_sampling import SMOTE\n",
    "    sm = SMOTE(random_state=1, sampling_strategy=1.0)\n",
    "    X_train, y_train = sm.fit_resample(X_train, y_train)\n",
    "    return X_train, y_train"
   ]
  },
  {
   "cell_type": "code",
   "execution_count": null,
   "metadata": {},
   "outputs": [],
   "source": [
    "_smote_X_train, _smote_y_train = smote(_X_train, _y_train)\n",
    "\n",
    "print('\\nTrain shape:',_smote_y_train.shape)\n",
    "print('Status ratio:',_smote_y_train[_smote_y_train['status']==1].shape[0],'|',_smote_y_train[_smote_y_train['status']==-1].shape[0])"
   ]
  },
  {
   "cell_type": "markdown",
   "metadata": {},
   "source": [
    "### Scaling"
   ]
  },
  {
   "cell_type": "code",
   "execution_count": null,
   "metadata": {},
   "outputs": [],
   "source": [
    "def normalize_data(X_train, X_test, scaler):\n",
    "    X_train = scaler.fit_transform(X_train)\n",
    "    X_test = scaler.fit_transform(X_test)\n",
    "    return X_train, X_test\n",
    "\n",
    "def standardize_data(X_train, X_test):\n",
    "    from sklearn.preprocessing import StandardScaler\n",
    "    return normalize_data(X_train, X_test, StandardScaler())\n",
    "def min_max_scaling(X_train, X_test):\n",
    "    from sklearn.preprocessing import MinMaxScaler\n",
    "    return normalize_data(X_train, X_test, MinMaxScaler())"
   ]
  },
  {
   "cell_type": "markdown",
   "metadata": {},
   "source": [
    "### Algorithms"
   ]
  },
  {
   "cell_type": "code",
   "execution_count": null,
   "metadata": {},
   "outputs": [],
   "source": [
    "def add_model(name, model, use_smote=False):\n",
    "    import datetime\n",
    "    X_train = _X_train.copy()\n",
    "    X_test = _X_test.copy()\n",
    "    smote_X_train = _smote_X_train.copy()\n",
    "\n",
    "    # Scaling Normalizations\n",
    "    # X_train, X_test = standardize_data(X_train, X_test)\n",
    "    # X_train, X_test = min_max_scaling(X_train, X_test)\n",
    "\n",
    "    start = datetime.datetime.now()\n",
    "    if use_smote: model.fit(smote_X_train, np.ravel(_smote_y_train.values))\n",
    "    else: model.fit(X_train, np.ravel(_y_train.values))\n",
    "    end = datetime.datetime.now()\n",
    "    \n",
    "    results[name] = {'model': model, \n",
    "                    'X_train': X_train, \n",
    "                    'X_test': X_test, \n",
    "                    'y_train': np.ravel(_y_train.values), \n",
    "                    'y_test': np.ravel(_y_test.values),\n",
    "                    'fit_time': (end - start).microseconds / 1000 # time difference in milliseconds\n",
    "                    }"
   ]
  },
  {
   "cell_type": "code",
   "execution_count": null,
   "metadata": {},
   "outputs": [],
   "source": [
    "SMOTE = False"
   ]
  },
  {
   "cell_type": "code",
   "execution_count": null,
   "metadata": {},
   "outputs": [],
   "source": [
    "from sklearn.tree import DecisionTreeClassifier\n",
    "add_model('dtc',\n",
    "    DecisionTreeClassifier(),\n",
    "    use_smote=SMOTE\n",
    ")"
   ]
  },
  {
   "cell_type": "code",
   "execution_count": null,
   "metadata": {},
   "outputs": [],
   "source": [
    "from sklearn.neighbors import KNeighborsClassifier\n",
    "add_model('knn',\n",
    "    KNeighborsClassifier(),\n",
    "    use_smote=SMOTE\n",
    ")"
   ]
  },
  {
   "cell_type": "code",
   "execution_count": null,
   "metadata": {},
   "outputs": [],
   "source": [
    "from sklearn.neural_network import MLPClassifier\n",
    "add_model('mlp',\n",
    "    MLPClassifier(),\n",
    "    use_smote=SMOTE\n",
    ")"
   ]
  },
  {
   "cell_type": "code",
   "execution_count": null,
   "metadata": {},
   "outputs": [],
   "source": [
    "from sklearn.naive_bayes import GaussianNB\n",
    "add_model('gnb',\n",
    "    GaussianNB(),\n",
    "    use_smote=SMOTE\n",
    ")"
   ]
  },
  {
   "cell_type": "code",
   "execution_count": null,
   "metadata": {},
   "outputs": [],
   "source": [
    "from sklearn.svm import SVC\n",
    "add_model('svc',\n",
    "    SVC(probability=True),\n",
    "    use_smote=SMOTE\n",
    ")"
   ]
  },
  {
   "cell_type": "code",
   "execution_count": null,
   "metadata": {},
   "outputs": [],
   "source": [
    "from sklearn.ensemble import RandomForestClassifier\n",
    "add_model('rf',\n",
    "    RandomForestClassifier(),\n",
    "    use_smote=SMOTE\n",
    ")"
   ]
  },
  {
   "cell_type": "markdown",
   "metadata": {},
   "source": [
    "## Prediction"
   ]
  },
  {
   "cell_type": "code",
   "execution_count": null,
   "metadata": {},
   "outputs": [],
   "source": [
    "def predict_proba(name, isTrain=False):\n",
    "    prefix = 'train' if isTrain else 'test'\n",
    "    result = results[name]\n",
    "    proba = result['model'].predict_proba(result['X_'+prefix])\n",
    "    result[prefix+'pred_prob'] = proba\n",
    "\n",
    "for name in results.keys():\n",
    "    predict_proba(name)\n",
    "for name in results.keys():\n",
    "    predict_proba(name, isTrain=True)\n"
   ]
  },
  {
   "cell_type": "code",
   "execution_count": null,
   "metadata": {},
   "outputs": [],
   "source": [
    "d = {'Id': _ids_test.values, 'Predicted': results['rf']['testpred_prob'][:,0]}\n",
    "df = pd.DataFrame(data=d)\n",
    "df.to_csv('kaggle/submission.csv', index=False)\n",
    "\n",
    "display(df)"
   ]
  }
 ],
 "metadata": {
  "kernelspec": {
   "display_name": "Python 3.10.6 64-bit",
   "language": "python",
   "name": "python3"
  },
  "language_info": {
   "codemirror_mode": {
    "name": "ipython",
    "version": 3
   },
   "file_extension": ".py",
   "mimetype": "text/x-python",
   "name": "python",
   "nbconvert_exporter": "python",
   "pygments_lexer": "ipython3",
   "version": "3.10.6"
  },
  "vscode": {
   "interpreter": {
    "hash": "916dbcbb3f70747c44a77c7bcd40155683ae19c65e1c03b4aa3499c5328201f1"
   }
  }
 },
 "nbformat": 4,
 "nbformat_minor": 2
}
