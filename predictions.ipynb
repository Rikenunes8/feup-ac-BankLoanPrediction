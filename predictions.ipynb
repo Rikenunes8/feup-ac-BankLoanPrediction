{
 "cells": [
  {
   "cell_type": "markdown",
   "metadata": {},
   "source": [
    "# Models and Evaluation"
   ]
  },
  {
   "cell_type": "code",
   "execution_count": 1,
   "metadata": {},
   "outputs": [
    {
     "name": "stdout",
     "output_type": "stream",
     "text": [
      "     account_id  amount  duration  payments  status  client_id  district_id  \\\n",
      "0          1787   96396        12      8033      -1       2166           30   \n",
      "1          1801  165960        36      4610       1       2181           46   \n",
      "2          9188  127080        60      2118       1      11314           45   \n",
      "3          1843  105804        36      2939       1       2235           14   \n",
      "4         11013  274740        60      4579       1      13539           63   \n",
      "..          ...     ...       ...       ...     ...        ...          ...   \n",
      "323        9030  155616        48      3242       1      11121           72   \n",
      "324        3189  222180        60      3703      -1       3855           29   \n",
      "325        8972   45024        48       938       1      11050           70   \n",
      "326       10963  115812        36      3217       1      13480           16   \n",
      "327       11362  129408        24      5392       1      13971           67   \n",
      "\n",
      "     gender  disp_id  has_disponent  age_on_loan_request  \n",
      "0     False     2166          False                   46  \n",
      "1      True     2181          False                   25  \n",
      "2      True    11006          False                   57  \n",
      "3     False     2235          False                   53  \n",
      "4      True    13231          False                   15  \n",
      "..      ...      ...            ...                  ...  \n",
      "323   False    10813          False                   26  \n",
      "324    True     3855          False                   58  \n",
      "325   False    10742          False                   40  \n",
      "326    True    13172          False                   44  \n",
      "327   False    13663          False                   34  \n",
      "\n",
      "[328 rows x 11 columns]\n",
      "[-1  1  1  1  1  1  1 -1  1  1  1  1 -1  1  1  1  1  1  1 -1  1  1  1  1\n",
      "  1  1  1  1 -1  1  1  1  1  1  1  1  1  1  1  1  1 -1  1  1  1  1  1  1\n",
      "  1 -1  1  1  1  1  1  1  1  1 -1  1  1  1 -1  1  1  1  1  1 -1  1  1  1\n",
      " -1  1 -1  1  1 -1  1  1  1  1  1  1  1  1  1  1  1  1  1  1  1  1 -1 -1\n",
      "  1  1  1  1  1  1  1  1  1  1  1  1  1  1 -1 -1  1  1  1 -1  1  1  1  1\n",
      "  1  1  1 -1 -1  1  1 -1  1  1  1  1 -1  1  1 -1  1  1  1  1 -1  1  1 -1\n",
      " -1  1  1  1  1  1  1  1  1  1  1 -1  1  1 -1  1  1  1  1  1  1  1  1  1\n",
      "  1  1  1  1  1  1  1  1  1  1  1  1  1  1  1  1  1  1  1  1  1  1  1  1\n",
      "  1  1 -1  1  1  1  1 -1  1  1  1  1  1  1  1  1  1  1  1  1  1  1  1  1\n",
      "  1 -1  1 -1 -1  1  1 -1  1  1  1  1  1  1 -1  1 -1  1 -1  1 -1 -1  1 -1\n",
      "  1  1  1 -1  1  1  1  1  1  1  1  1  1  1  1  1  1  1  1  1  1  1  1  1\n",
      "  1  1  1  1  1  1  1  1  1  1  1  1  1 -1  1 -1  1 -1  1  1  1  1  1  1\n",
      "  1  1  1 -1  1  1  1  1  1  1  1  1  1  1  1  1  1  1  1  1  1  1  1  1\n",
      "  1  1  1  1  1  1  1  1  1  1  1  1 -1  1  1  1]\n"
     ]
    }
   ],
   "source": [
    "import pandas as pd\n",
    "import numpy as np\n",
    "\n",
    "data = pd.read_csv('data_processed/data.csv')\n",
    "\n",
    "data.drop('loan_id', axis=1, inplace=True)\n",
    "\n",
    "features = data.drop('status', axis=1).values\n",
    "target = data['status'].values\n",
    "print(data)\n",
    "print(target)\n",
    "\n",
    "\n",
    "results = {}"
   ]
  },
  {
   "cell_type": "code",
   "execution_count": 2,
   "metadata": {},
   "outputs": [],
   "source": [
    "from sklearn.model_selection import train_test_split\n",
    "\n",
    "(training_inputs,\n",
    " testing_inputs,\n",
    " training_classes,\n",
    " testing_classes) = train_test_split(features, target, test_size=0.25, random_state=1)"
   ]
  },
  {
   "cell_type": "code",
   "execution_count": 3,
   "metadata": {},
   "outputs": [],
   "source": [
    "def add_model(name, model):\n",
    "    model.fit(training_inputs, training_classes)\n",
    "    results[name] = {'model': model}"
   ]
  },
  {
   "cell_type": "code",
   "execution_count": 4,
   "metadata": {},
   "outputs": [],
   "source": [
    "from sklearn.tree import DecisionTreeClassifier\n",
    "add_model('dtc',\n",
    "    DecisionTreeClassifier()\n",
    ")"
   ]
  },
  {
   "cell_type": "code",
   "execution_count": 5,
   "metadata": {},
   "outputs": [],
   "source": [
    "from sklearn.ensemble import RandomForestClassifier\n",
    "add_model('rf',\n",
    "    RandomForestClassifier()\n",
    ")"
   ]
  },
  {
   "cell_type": "code",
   "execution_count": 6,
   "metadata": {},
   "outputs": [],
   "source": [
    "from sklearn.svm import SVC\n",
    "add_model('svc',\n",
    "    SVC(probability=True)\n",
    ")"
   ]
  },
  {
   "cell_type": "code",
   "execution_count": 7,
   "metadata": {},
   "outputs": [],
   "source": [
    "def predict(name):\n",
    "    pred = results[name]['model'].predict(testing_inputs)\n",
    "    results[name]['pred'] = pred\n",
    "\n",
    "predict('dtc')\n",
    "predict('rf')\n",
    "predict('svc')"
   ]
  },
  {
   "cell_type": "code",
   "execution_count": 8,
   "metadata": {},
   "outputs": [],
   "source": [
    "def predict_proba(name):\n",
    "    proba = results[name]['model'].predict_proba(testing_inputs)\n",
    "    results[name]['pred_prob'] = proba\n",
    "\n",
    "predict_proba('dtc')\n",
    "predict_proba('rf')\n",
    "predict_proba('svc')\n"
   ]
  },
  {
   "cell_type": "markdown",
   "metadata": {},
   "source": [
    "## Evaluation"
   ]
  },
  {
   "cell_type": "code",
   "execution_count": 9,
   "metadata": {},
   "outputs": [],
   "source": [
    "def recall(cm, i):\n",
    "    return cm[i][i]/sum(cm[i])\n",
    "\n",
    "def precision(cm, i):\n",
    "    cmt = np.copy(cm).transpose()\n",
    "    return cmt[i][i]/sum(cmt[i])\n",
    "\n",
    "def f_measure(cm, i):\n",
    "    p = precision(cm, i)*100\n",
    "    r = recall(cm, i)*100\n",
    "    return 2 * (p * r) / (p + r)"
   ]
  },
  {
   "cell_type": "code",
   "execution_count": 10,
   "metadata": {},
   "outputs": [],
   "source": [
    "from sklearn.metrics import confusion_matrix, ConfusionMatrixDisplay\n",
    "def conf_matrix(testing_classes, predicted_classes):\n",
    "    cm =  confusion_matrix(testing_classes, predicted_classes)\n",
    "    '''\n",
    "    print(\"TP:\", cm[1][1])\n",
    "    print(\"TN:\", cm[0][0])\n",
    "    print(\"FP:\", cm[0][1])\n",
    "    print(\"FN:\", cm[1][0])\n",
    "    '''\n",
    "    ConfusionMatrixDisplay(cm, display_labels=[-1, 1]).plot()"
   ]
  },
  {
   "cell_type": "code",
   "execution_count": 11,
   "metadata": {},
   "outputs": [
    {
     "name": "stdout",
     "output_type": "stream",
     "text": [
      "DTC: 0.7073170731707317\n",
      "RF: 0.8780487804878049\n",
      "SVC: 0.8780487804878049\n"
     ]
    }
   ],
   "source": [
    "def score(name):\n",
    "    results[name]['score'] = results[name]['model'].score(testing_inputs, testing_classes)\n",
    "    print(name.upper()+\":\", results[name]['score'])\n",
    "\n",
    "score('dtc')\n",
    "score('rf')\n",
    "score('svc')"
   ]
  },
  {
   "cell_type": "code",
   "execution_count": 12,
   "metadata": {},
   "outputs": [
    {
     "data": {
      "image/png": "[encoded data removed]",
      "text/plain": [
       "<Figure size 432x288 with 2 Axes>"
      ]
     },
     "metadata": {
      "needs_background": "light"
     },
     "output_type": "display_data"
    },
    {
     "data": {
      "image/png": "[encoded data removed]",
      "text/plain": [
       "<Figure size 432x288 with 2 Axes>"
      ]
     },
     "metadata": {
      "needs_background": "light"
     },
     "output_type": "display_data"
    },
    {
     "data": {
      "image/png": "[encoded data removed]",
      "text/plain": [
       "<Figure size 432x288 with 2 Axes>"
      ]
     },
     "metadata": {
      "needs_background": "light"
     },
     "output_type": "display_data"
    }
   ],
   "source": [
    "conf_matrix(testing_classes, results['dtc']['pred'])\n",
    "conf_matrix(testing_classes, results['rf']['pred'])\n",
    "conf_matrix(testing_classes, results['svc']['pred'])"
   ]
  },
  {
   "cell_type": "code",
   "execution_count": 13,
   "metadata": {},
   "outputs": [
    {
     "name": "stdout",
     "output_type": "stream",
     "text": [
      "0.5319444444444444\n",
      "0.7180555555555556\n",
      "0.5375000000000001\n"
     ]
    },
    {
     "data": {
      "image/png": "[encoded data removed]",
      "text/plain": [
       "<Figure size 432x288 with 1 Axes>"
      ]
     },
     "metadata": {
      "needs_background": "light"
     },
     "output_type": "display_data"
    },
    {
     "data": {
      "image/png": "[encoded data removed]",
      "text/plain": [
       "<Figure size 432x288 with 1 Axes>"
      ]
     },
     "metadata": {
      "needs_background": "light"
     },
     "output_type": "display_data"
    },
    {
     "data": {
      "image/png": "[encoded data removed]",
      "text/plain": [
       "<Figure size 432x288 with 1 Axes>"
      ]
     },
     "metadata": {
      "needs_background": "light"
     },
     "output_type": "display_data"
    }
   ],
   "source": [
    "from sklearn.metrics import roc_curve, RocCurveDisplay, auc\n",
    "\n",
    "def roc_and_auc(name):\n",
    "    fpr, tpr, _ = roc_curve(testing_classes, results[name]['pred_prob'][:,-1], pos_label=results[name]['model'].classes_[1])\n",
    "    roc_display = RocCurveDisplay(fpr=fpr, tpr=tpr).plot()\n",
    "    print(auc(fpr, tpr))\n",
    "\n",
    "roc_and_auc('dtc')\n",
    "roc_and_auc('rf')\n",
    "roc_and_auc('svc')"
   ]
  },
  {
   "cell_type": "code",
   "execution_count": 14,
   "metadata": {},
   "outputs": [
    {
     "name": "stdout",
     "output_type": "stream",
     "text": [
      "{'dtc': {'model': DecisionTreeClassifier(), 'pred': array([ 1,  1,  1,  1, -1, -1,  1,  1, -1, -1,  1,  1,  1,  1,  1, -1,  1,\n",
      "        1,  1,  1,  1, -1, -1,  1,  1,  1,  1,  1,  1,  1, -1,  1,  1, -1,\n",
      "       -1,  1, -1, -1,  1,  1,  1,  1,  1,  1,  1, -1,  1,  1,  1, -1,  1,\n",
      "        1, -1,  1,  1, -1,  1, -1,  1,  1, -1,  1,  1,  1,  1,  1,  1,  1,\n",
      "        1,  1,  1,  1,  1,  1,  1,  1,  1, -1,  1,  1,  1, -1]), 'pred_prob': array([[0., 1.],\n",
      "       [0., 1.],\n",
      "       [0., 1.],\n",
      "       [0., 1.],\n",
      "       [1., 0.],\n",
      "       [1., 0.],\n",
      "       [0., 1.],\n",
      "       [0., 1.],\n",
      "       [1., 0.],\n",
      "       [1., 0.],\n",
      "       [0., 1.],\n",
      "       [0., 1.],\n",
      "       [0., 1.],\n",
      "       [0., 1.],\n",
      "       [0., 1.],\n",
      "       [1., 0.],\n",
      "       [0., 1.],\n",
      "       [0., 1.],\n",
      "       [0., 1.],\n",
      "       [0., 1.],\n",
      "       [0., 1.],\n",
      "       [1., 0.],\n",
      "       [1., 0.],\n",
      "       [0., 1.],\n",
      "       [0., 1.],\n",
      "       [0., 1.],\n",
      "       [0., 1.],\n",
      "       [0., 1.],\n",
      "       [0., 1.],\n",
      "       [0., 1.],\n",
      "       [1., 0.],\n",
      "       [0., 1.],\n",
      "       [0., 1.],\n",
      "       [1., 0.],\n",
      "       [1., 0.],\n",
      "       [0., 1.],\n",
      "       [1., 0.],\n",
      "       [1., 0.],\n",
      "       [0., 1.],\n",
      "       [0., 1.],\n",
      "       [0., 1.],\n",
      "       [0., 1.],\n",
      "       [0., 1.],\n",
      "       [0., 1.],\n",
      "       [0., 1.],\n",
      "       [1., 0.],\n",
      "       [0., 1.],\n",
      "       [0., 1.],\n",
      "       [0., 1.],\n",
      "       [1., 0.],\n",
      "       [0., 1.],\n",
      "       [0., 1.],\n",
      "       [1., 0.],\n",
      "       [0., 1.],\n",
      "       [0., 1.],\n",
      "       [1., 0.],\n",
      "       [0., 1.],\n",
      "       [1., 0.],\n",
      "       [0., 1.],\n",
      "       [0., 1.],\n",
      "       [1., 0.],\n",
      "       [0., 1.],\n",
      "       [0., 1.],\n",
      "       [0., 1.],\n",
      "       [0., 1.],\n",
      "       [0., 1.],\n",
      "       [0., 1.],\n",
      "       [0., 1.],\n",
      "       [0., 1.],\n",
      "       [0., 1.],\n",
      "       [0., 1.],\n",
      "       [0., 1.],\n",
      "       [0., 1.],\n",
      "       [0., 1.],\n",
      "       [0., 1.],\n",
      "       [0., 1.],\n",
      "       [0., 1.],\n",
      "       [1., 0.],\n",
      "       [0., 1.],\n",
      "       [0., 1.],\n",
      "       [0., 1.],\n",
      "       [1., 0.]]), 'score': 0.7073170731707317}, 'rf': {'model': RandomForestClassifier(), 'pred': array([ 1,  1,  1,  1,  1,  1,  1,  1,  1,  1,  1,  1,  1,  1,  1,  1,  1,\n",
      "        1,  1,  1,  1,  1,  1,  1,  1,  1,  1,  1,  1,  1,  1,  1,  1,  1,\n",
      "        1,  1,  1,  1,  1,  1,  1,  1,  1,  1,  1,  1,  1,  1,  1,  1,  1,\n",
      "        1,  1,  1,  1,  1,  1,  1,  1,  1,  1,  1,  1,  1,  1,  1,  1,  1,\n",
      "        1,  1,  1, -1,  1,  1,  1,  1,  1, -1,  1,  1,  1,  1]), 'pred_prob': array([[0.19, 0.81],\n",
      "       [0.15, 0.85],\n",
      "       [0.41, 0.59],\n",
      "       [0.15, 0.85],\n",
      "       [0.12, 0.88],\n",
      "       [0.18, 0.82],\n",
      "       [0.08, 0.92],\n",
      "       [0.31, 0.69],\n",
      "       [0.36, 0.64],\n",
      "       [0.1 , 0.9 ],\n",
      "       [0.13, 0.87],\n",
      "       [0.08, 0.92],\n",
      "       [0.06, 0.94],\n",
      "       [0.02, 0.98],\n",
      "       [0.19, 0.81],\n",
      "       [0.3 , 0.7 ],\n",
      "       [0.02, 0.98],\n",
      "       [0.06, 0.94],\n",
      "       [0.25, 0.75],\n",
      "       [0.09, 0.91],\n",
      "       [0.18, 0.82],\n",
      "       [0.2 , 0.8 ],\n",
      "       [0.11, 0.89],\n",
      "       [0.06, 0.94],\n",
      "       [0.12, 0.88],\n",
      "       [0.18, 0.82],\n",
      "       [0.13, 0.87],\n",
      "       [0.16, 0.84],\n",
      "       [0.3 , 0.7 ],\n",
      "       [0.13, 0.87],\n",
      "       [0.09, 0.91],\n",
      "       [0.1 , 0.9 ],\n",
      "       [0.14, 0.86],\n",
      "       [0.3 , 0.7 ],\n",
      "       [0.19, 0.81],\n",
      "       [0.09, 0.91],\n",
      "       [0.16, 0.84],\n",
      "       [0.47, 0.53],\n",
      "       [0.29, 0.71],\n",
      "       [0.1 , 0.9 ],\n",
      "       [0.11, 0.89],\n",
      "       [0.48, 0.52],\n",
      "       [0.21, 0.79],\n",
      "       [0.27, 0.73],\n",
      "       [0.04, 0.96],\n",
      "       [0.1 , 0.9 ],\n",
      "       [0.04, 0.96],\n",
      "       [0.15, 0.85],\n",
      "       [0.1 , 0.9 ],\n",
      "       [0.18, 0.82],\n",
      "       [0.02, 0.98],\n",
      "       [0.06, 0.94],\n",
      "       [0.06, 0.94],\n",
      "       [0.03, 0.97],\n",
      "       [0.09, 0.91],\n",
      "       [0.24, 0.76],\n",
      "       [0.08, 0.92],\n",
      "       [0.06, 0.94],\n",
      "       [0.08, 0.92],\n",
      "       [0.04, 0.96],\n",
      "       [0.45, 0.55],\n",
      "       [0.22, 0.78],\n",
      "       [0.04, 0.96],\n",
      "       [0.23, 0.77],\n",
      "       [0.17, 0.83],\n",
      "       [0.11, 0.89],\n",
      "       [0.05, 0.95],\n",
      "       [0.  , 1.  ],\n",
      "       [0.07, 0.93],\n",
      "       [0.07, 0.93],\n",
      "       [0.06, 0.94],\n",
      "       [0.5 , 0.5 ],\n",
      "       [0.08, 0.92],\n",
      "       [0.15, 0.85],\n",
      "       [0.17, 0.83],\n",
      "       [0.02, 0.98],\n",
      "       [0.03, 0.97],\n",
      "       [0.5 , 0.5 ],\n",
      "       [0.12, 0.88],\n",
      "       [0.12, 0.88],\n",
      "       [0.01, 0.99],\n",
      "       [0.36, 0.64]]), 'score': 0.8780487804878049}, 'svc': {'model': SVC(probability=True), 'pred': array([1, 1, 1, 1, 1, 1, 1, 1, 1, 1, 1, 1, 1, 1, 1, 1, 1, 1, 1, 1, 1, 1,\n",
      "       1, 1, 1, 1, 1, 1, 1, 1, 1, 1, 1, 1, 1, 1, 1, 1, 1, 1, 1, 1, 1, 1,\n",
      "       1, 1, 1, 1, 1, 1, 1, 1, 1, 1, 1, 1, 1, 1, 1, 1, 1, 1, 1, 1, 1, 1,\n",
      "       1, 1, 1, 1, 1, 1, 1, 1, 1, 1, 1, 1, 1, 1, 1, 1]), 'pred_prob': array([[0.14507277, 0.85492723],\n",
      "       [0.13957888, 0.86042112],\n",
      "       [0.19482524, 0.80517476],\n",
      "       [0.19116973, 0.80883027],\n",
      "       [0.14220064, 0.85779936],\n",
      "       [0.14188215, 0.85811785],\n",
      "       [0.14538969, 0.85461031],\n",
      "       [0.14684433, 0.85315567],\n",
      "       [0.14615647, 0.85384353],\n",
      "       [0.1475311 , 0.8524689 ],\n",
      "       [0.14767651, 0.85232349],\n",
      "       [0.14545913, 0.85454087],\n",
      "       [0.18106148, 0.81893852],\n",
      "       [0.1449746 , 0.8550254 ],\n",
      "       [0.14657782, 0.85342218],\n",
      "       [0.14376665, 0.85623335],\n",
      "       [0.14251256, 0.85748744],\n",
      "       [0.14768332, 0.85231668],\n",
      "       [0.13380149, 0.86619851],\n",
      "       [0.14492133, 0.85507867],\n",
      "       [0.14018522, 0.85981478],\n",
      "       [0.14535752, 0.85464248],\n",
      "       [0.14736992, 0.85263008],\n",
      "       [0.14502471, 0.85497529],\n",
      "       [0.14679906, 0.85320094],\n",
      "       [0.14682189, 0.85317811],\n",
      "       [0.14612418, 0.85387582],\n",
      "       [0.14669409, 0.85330591],\n",
      "       [0.14604637, 0.85395363],\n",
      "       [0.14811948, 0.85188052],\n",
      "       [0.14233111, 0.85766889],\n",
      "       [0.14563654, 0.85436346],\n",
      "       [0.14649138, 0.85350862],\n",
      "       [0.14701839, 0.85298161],\n",
      "       [0.14468411, 0.85531589],\n",
      "       [0.14353074, 0.85646926],\n",
      "       [0.14635097, 0.85364903],\n",
      "       [0.14331474, 0.85668526],\n",
      "       [0.11037207, 0.88962793],\n",
      "       [0.14076986, 0.85923014],\n",
      "       [0.1441267 , 0.8558733 ],\n",
      "       [0.1020949 , 0.8979051 ],\n",
      "       [0.14516824, 0.85483176],\n",
      "       [0.14583352, 0.85416648],\n",
      "       [0.14166756, 0.85833244],\n",
      "       [0.14518204, 0.85481796],\n",
      "       [0.14400392, 0.85599608],\n",
      "       [0.14415328, 0.85584672],\n",
      "       [0.14612053, 0.85387947],\n",
      "       [0.15291878, 0.84708122],\n",
      "       [0.14228707, 0.85771293],\n",
      "       [0.14381133, 0.85618867],\n",
      "       [0.1466426 , 0.8533574 ],\n",
      "       [0.14698671, 0.85301329],\n",
      "       [0.14281288, 0.85718712],\n",
      "       [0.14764094, 0.85235906],\n",
      "       [0.14583442, 0.85416558],\n",
      "       [0.14401921, 0.85598079],\n",
      "       [0.14390956, 0.85609044],\n",
      "       [0.14671532, 0.85328468],\n",
      "       [0.14173452, 0.85826548],\n",
      "       [0.16644372, 0.83355628],\n",
      "       [0.14241321, 0.85758679],\n",
      "       [0.14629826, 0.85370174],\n",
      "       [0.14479111, 0.85520889],\n",
      "       [0.14678252, 0.85321748],\n",
      "       [0.14459418, 0.85540582],\n",
      "       [0.1421499 , 0.8578501 ],\n",
      "       [0.14302722, 0.85697278],\n",
      "       [0.14634895, 0.85365105],\n",
      "       [0.14379135, 0.85620865],\n",
      "       [0.14390207, 0.85609793],\n",
      "       [0.14456842, 0.85543158],\n",
      "       [0.14617077, 0.85382923],\n",
      "       [0.14617626, 0.85382374],\n",
      "       [0.14133092, 0.85866908],\n",
      "       [0.14277713, 0.85722287],\n",
      "       [0.14447475, 0.85552525],\n",
      "       [0.14489443, 0.85510557],\n",
      "       [0.14167517, 0.85832483],\n",
      "       [0.14299893, 0.85700107],\n",
      "       [0.14455088, 0.85544912]]), 'score': 0.8780487804878049}}\n"
     ]
    }
   ],
   "source": [
    "print(results)"
   ]
  }
 ],
 "metadata": {
  "kernelspec": {
   "display_name": "Python 3 (ipykernel)",
   "language": "python",
   "name": "python3"
  },
  "language_info": {
   "codemirror_mode": {
    "name": "ipython",
    "version": 3
   },
   "file_extension": ".py",
   "mimetype": "text/x-python",
   "name": "python",
   "nbconvert_exporter": "python",
   "pygments_lexer": "ipython3",
   "version": "3.10.6"
  },
  "vscode": {
   "interpreter": {
    "hash": "916dbcbb3f70747c44a77c7bcd40155683ae19c65e1c03b4aa3499c5328201f1"
   }
  }
 },
 "nbformat": 4,
 "nbformat_minor": 2
}
