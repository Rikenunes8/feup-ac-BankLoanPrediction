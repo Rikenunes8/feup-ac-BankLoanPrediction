{
 "cells": [
  {
   "cell_type": "markdown",
   "metadata": {},
   "source": [
    "# Models and Evaluation"
   ]
  },
  {
   "cell_type": "code",
   "execution_count": 1,
   "metadata": {},
   "outputs": [
    {
     "name": "stdout",
     "output_type": "stream",
     "text": [
      "     account_id  amount  duration  payments  status  client_id  district_id  \\\n",
      "0          1787   96396        12      8033      -1       2166           30   \n",
      "1          1801  165960        36      4610       1       2181           46   \n",
      "2          9188  127080        60      2118       1      11314           45   \n",
      "3          1843  105804        36      2939       1       2235           14   \n",
      "4         11013  274740        60      4579       1      13539           63   \n",
      "..          ...     ...       ...       ...     ...        ...          ...   \n",
      "323        9030  155616        48      3242       1      11121           72   \n",
      "324        3189  222180        60      3703      -1       3855           29   \n",
      "325        8972   45024        48       938       1      11050           70   \n",
      "326       10963  115812        36      3217       1      13480           16   \n",
      "327       11362  129408        24      5392       1      13971           67   \n",
      "\n",
      "     gender  disp_id  has_disponent  age_on_loan_request  \n",
      "0     False     2166          False                   46  \n",
      "1      True     2181          False                   25  \n",
      "2      True    11006          False                   57  \n",
      "3     False     2235          False                   53  \n",
      "4      True    13231          False                   15  \n",
      "..      ...      ...            ...                  ...  \n",
      "323   False    10813          False                   26  \n",
      "324    True     3855          False                   58  \n",
      "325   False    10742          False                   40  \n",
      "326    True    13172          False                   44  \n",
      "327   False    13663          False                   34  \n",
      "\n",
      "[328 rows x 11 columns]\n",
      "[-1  1  1  1  1  1  1 -1  1  1  1  1 -1  1  1  1  1  1  1 -1  1  1  1  1\n",
      "  1  1  1  1 -1  1  1  1  1  1  1  1  1  1  1  1  1 -1  1  1  1  1  1  1\n",
      "  1 -1  1  1  1  1  1  1  1  1 -1  1  1  1 -1  1  1  1  1  1 -1  1  1  1\n",
      " -1  1 -1  1  1 -1  1  1  1  1  1  1  1  1  1  1  1  1  1  1  1  1 -1 -1\n",
      "  1  1  1  1  1  1  1  1  1  1  1  1  1  1 -1 -1  1  1  1 -1  1  1  1  1\n",
      "  1  1  1 -1 -1  1  1 -1  1  1  1  1 -1  1  1 -1  1  1  1  1 -1  1  1 -1\n",
      " -1  1  1  1  1  1  1  1  1  1  1 -1  1  1 -1  1  1  1  1  1  1  1  1  1\n",
      "  1  1  1  1  1  1  1  1  1  1  1  1  1  1  1  1  1  1  1  1  1  1  1  1\n",
      "  1  1 -1  1  1  1  1 -1  1  1  1  1  1  1  1  1  1  1  1  1  1  1  1  1\n",
      "  1 -1  1 -1 -1  1  1 -1  1  1  1  1  1  1 -1  1 -1  1 -1  1 -1 -1  1 -1\n",
      "  1  1  1 -1  1  1  1  1  1  1  1  1  1  1  1  1  1  1  1  1  1  1  1  1\n",
      "  1  1  1  1  1  1  1  1  1  1  1  1  1 -1  1 -1  1 -1  1  1  1  1  1  1\n",
      "  1  1  1 -1  1  1  1  1  1  1  1  1  1  1  1  1  1  1  1  1  1  1  1  1\n",
      "  1  1  1  1  1  1  1  1  1  1  1  1 -1  1  1  1]\n"
     ]
    }
   ],
   "source": [
    "import pandas as pd\n",
    "import numpy as np\n",
    "\n",
    "data = pd.read_csv('data_processed/data.csv')\n",
    "\n",
    "data.drop('loan_id', axis=1, inplace=True)\n",
    "\n",
    "features = data.drop('status', axis=1).values\n",
    "target = data['status'].values\n",
    "print(data)\n",
    "print(target)\n",
    "\n",
    "\n",
    "results = {}"
   ]
  },
  {
   "cell_type": "code",
   "execution_count": 2,
   "metadata": {},
   "outputs": [],
   "source": [
    "from sklearn.model_selection import train_test_split\n",
    "\n",
    "(training_inputs,\n",
    " testing_inputs,\n",
    " training_classes,\n",
    " testing_classes) = train_test_split(features, target, test_size=0.25, random_state=1)"
   ]
  },
  {
   "cell_type": "code",
   "execution_count": 3,
   "metadata": {},
   "outputs": [],
   "source": [
    "def add_model(name, model):\n",
    "    model.fit(training_inputs, training_classes)\n",
    "    results[name] = {'model': model}"
   ]
  },
  {
   "cell_type": "code",
   "execution_count": 4,
   "metadata": {},
   "outputs": [],
   "source": [
    "from sklearn.tree import DecisionTreeClassifier\n",
    "add_model('dtc',\n",
    "    DecisionTreeClassifier()\n",
    ")"
   ]
  },
  {
   "cell_type": "code",
   "execution_count": 5,
   "metadata": {},
   "outputs": [],
   "source": [
    "from sklearn.ensemble import RandomForestClassifier\n",
    "add_model('rf',\n",
    "    RandomForestClassifier()\n",
    ")"
   ]
  },
  {
   "cell_type": "code",
   "execution_count": 6,
   "metadata": {},
   "outputs": [],
   "source": [
    "from sklearn.svm import SVC\n",
    "add_model('svc',\n",
    "    SVC(probability=True)\n",
    ")"
   ]
  },
  {
   "cell_type": "code",
   "execution_count": 7,
   "metadata": {},
   "outputs": [],
   "source": [
    "def predict(name):\n",
    "    pred = results[name]['model'].predict(testing_inputs)\n",
    "    results[name]['pred'] = pred\n",
    "\n",
    "predict('dtc')\n",
    "predict('rf')\n",
    "predict('svc')"
   ]
  },
  {
   "cell_type": "code",
   "execution_count": 8,
   "metadata": {},
   "outputs": [],
   "source": [
    "def predict_proba(name):\n",
    "    proba = results[name]['model'].predict_proba(testing_inputs)\n",
    "    results[name]['pred_prob'] = proba\n",
    "\n",
    "predict_proba('dtc')\n",
    "predict_proba('rf')\n",
    "predict_proba('svc')\n"
   ]
  },
  {
   "cell_type": "markdown",
   "metadata": {},
   "source": [
    "## Evaluation"
   ]
  },
  {
   "cell_type": "code",
   "execution_count": 9,
   "metadata": {},
   "outputs": [],
   "source": [
    "def recall(cm, i):\n",
    "    return cm[i][i]/sum(cm[i])\n",
    "\n",
    "def precision(cm, i):\n",
    "    cmt = np.copy(cm).transpose()\n",
    "    return cmt[i][i]/sum(cmt[i])\n",
    "\n",
    "def f_measure(cm, i):\n",
    "    p = precision(cm, i)*100\n",
    "    r = recall(cm, i)*100\n",
    "    return 2 * (p * r) / (p + r)"
   ]
  },
  {
   "cell_type": "code",
   "execution_count": 10,
   "metadata": {},
   "outputs": [],
   "source": [
    "from sklearn.metrics import confusion_matrix, ConfusionMatrixDisplay\n",
    "def conf_matrix(testing_classes, predicted_classes):\n",
    "    cm =  confusion_matrix(testing_classes, predicted_classes)\n",
    "    '''\n",
    "    print(\"TP:\", cm[1][1])\n",
    "    print(\"TN:\", cm[0][0])\n",
    "    print(\"FP:\", cm[0][1])\n",
    "    print(\"FN:\", cm[1][0])\n",
    "    '''\n",
    "    ConfusionMatrixDisplay(cm, display_labels=[-1, 1]).plot()"
   ]
  },
  {
   "cell_type": "code",
   "execution_count": 11,
   "metadata": {},
   "outputs": [
    {
     "name": "stdout",
     "output_type": "stream",
     "text": [
      "DTC: 0.7439024390243902\n",
      "RF: 0.8780487804878049\n",
      "SVC: 0.8780487804878049\n"
     ]
    }
   ],
   "source": [
    "def score(name):\n",
    "    results[name]['score'] = results[name]['model'].score(testing_inputs, testing_classes)\n",
    "    print(name.upper()+\":\", results[name]['score'])\n",
    "\n",
    "score('dtc')\n",
    "score('rf')\n",
    "score('svc')"
   ]
  },
  {
   "cell_type": "code",
   "execution_count": 12,
   "metadata": {},
   "outputs": [
    {
     "data": {
      "image/png": "[encoded data removed]",
      "text/plain": [
       "<Figure size 432x288 with 2 Axes>"
      ]
     },
     "metadata": {
      "needs_background": "light"
     },
     "output_type": "display_data"
    },
    {
     "data": {
      "image/png": "[encoded data removed]",
      "text/plain": [
       "<Figure size 432x288 with 2 Axes>"
      ]
     },
     "metadata": {
      "needs_background": "light"
     },
     "output_type": "display_data"
    },
    {
     "data": {
      "image/png": "[encoded data removed]",
      "text/plain": [
       "<Figure size 432x288 with 2 Axes>"
      ]
     },
     "metadata": {
      "needs_background": "light"
     },
     "output_type": "display_data"
    }
   ],
   "source": [
    "conf_matrix(testing_classes, results['dtc']['pred'])\n",
    "conf_matrix(testing_classes, results['rf']['pred'])\n",
    "conf_matrix(testing_classes, results['svc']['pred'])"
   ]
  },
  {
   "cell_type": "code",
   "execution_count": 13,
   "metadata": {},
   "outputs": [
    {
     "name": "stdout",
     "output_type": "stream",
     "text": [
      "0.5527777777777778\n",
      "0.7131944444444445\n",
      "0.5375000000000001\n"
     ]
    },
    {
     "data": {
      "image/png": "[encoded data removed]",
      "text/plain": [
       "<Figure size 432x288 with 1 Axes>"
      ]
     },
     "metadata": {
      "needs_background": "light"
     },
     "output_type": "display_data"
    },
    {
     "data": {
      "image/png": "[encoded data removed]",
      "text/plain": [
       "<Figure size 432x288 with 1 Axes>"
      ]
     },
     "metadata": {
      "needs_background": "light"
     },
     "output_type": "display_data"
    },
    {
     "data": {
      "image/png": "[encoded data removed]",
      "text/plain": [
       "<Figure size 432x288 with 1 Axes>"
      ]
     },
     "metadata": {
      "needs_background": "light"
     },
     "output_type": "display_data"
    }
   ],
   "source": [
    "from sklearn.metrics import roc_curve, RocCurveDisplay, auc\n",
    "\n",
    "def roc_and_auc(name):\n",
    "    fpr, tpr, _ = roc_curve(testing_classes, results[name]['pred_prob'][:,-1], pos_label=results[name]['model'].classes_[1])\n",
    "    roc_display = RocCurveDisplay(fpr=fpr, tpr=tpr).plot()\n",
    "    print(auc(fpr, tpr))\n",
    "\n",
    "roc_and_auc('dtc')\n",
    "roc_and_auc('rf')\n",
    "roc_and_auc('svc')"
   ]
  }
 ],
 "metadata": {
  "kernelspec": {
   "display_name": "Python 3 (ipykernel)",
   "language": "python",
   "name": "python3"
  },
  "language_info": {
   "codemirror_mode": {
    "name": "ipython",
    "version": 3
   },
   "file_extension": ".py",
   "mimetype": "text/x-python",
   "name": "python",
   "nbconvert_exporter": "python",
   "pygments_lexer": "ipython3",
   "version": "3.10.6"
  },
  "vscode": {
   "interpreter": {
    "hash": "916dbcbb3f70747c44a77c7bcd40155683ae19c65e1c03b4aa3499c5328201f1"
   }
  }
 },
 "nbformat": 4,
 "nbformat_minor": 2
}
