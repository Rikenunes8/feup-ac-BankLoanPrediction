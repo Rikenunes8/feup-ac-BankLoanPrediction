{
 "cells": [
  {
   "cell_type": "markdown",
   "metadata": {},
   "source": [
    "# Models and Evaluation"
   ]
  },
  {
   "cell_type": "code",
   "execution_count": 236,
   "metadata": {},
   "outputs": [
    {
     "data": {
      "text/html": [
       "<div>\n",
       "<style scoped>\n",
       "    .dataframe tbody tr th:only-of-type {\n",
       "        vertical-align: middle;\n",
       "    }\n",
       "\n",
       "    .dataframe tbody tr th {\n",
       "        vertical-align: top;\n",
       "    }\n",
       "\n",
       "    .dataframe thead th {\n",
       "        text-align: right;\n",
       "    }\n",
       "</style>\n",
       "<table border=\"1\" class=\"dataframe\">\n",
       "  <thead>\n",
       "    <tr style=\"text-align: right;\">\n",
       "      <th></th>\n",
       "      <th>loan_id</th>\n",
       "      <th>account_id</th>\n",
       "      <th>loan_amount</th>\n",
       "      <th>loan_duration</th>\n",
       "      <th>loan_payments</th>\n",
       "      <th>status</th>\n",
       "      <th>account_district_id</th>\n",
       "      <th>account_frequency</th>\n",
       "      <th>disp_id</th>\n",
       "      <th>client_id</th>\n",
       "      <th>...</th>\n",
       "      <th>client_district_id</th>\n",
       "      <th>gender</th>\n",
       "      <th>card_id</th>\n",
       "      <th>card_disp_id</th>\n",
       "      <th>card_type</th>\n",
       "      <th>last_balance</th>\n",
       "      <th>monthly_diff</th>\n",
       "      <th>code</th>\n",
       "      <th>age_on_loan_request</th>\n",
       "      <th>age_on_loan_request_disc</th>\n",
       "    </tr>\n",
       "  </thead>\n",
       "  <tbody>\n",
       "    <tr>\n",
       "      <th>0</th>\n",
       "      <td>5314</td>\n",
       "      <td>1787</td>\n",
       "      <td>96396</td>\n",
       "      <td>12</td>\n",
       "      <td>8033</td>\n",
       "      <td>-1</td>\n",
       "      <td>30</td>\n",
       "      <td>weekly issuance</td>\n",
       "      <td>2166</td>\n",
       "      <td>2166</td>\n",
       "      <td>...</td>\n",
       "      <td>30</td>\n",
       "      <td>Female</td>\n",
       "      <td>NaN</td>\n",
       "      <td>NaN</td>\n",
       "      <td>NaN</td>\n",
       "      <td>20100.0</td>\n",
       "      <td>6700</td>\n",
       "      <td>30</td>\n",
       "      <td>46</td>\n",
       "      <td>40-49</td>\n",
       "    </tr>\n",
       "    <tr>\n",
       "      <th>1</th>\n",
       "      <td>5316</td>\n",
       "      <td>1801</td>\n",
       "      <td>165960</td>\n",
       "      <td>36</td>\n",
       "      <td>4610</td>\n",
       "      <td>1</td>\n",
       "      <td>46</td>\n",
       "      <td>monthly issuance</td>\n",
       "      <td>2181</td>\n",
       "      <td>2181</td>\n",
       "      <td>...</td>\n",
       "      <td>46</td>\n",
       "      <td>Male</td>\n",
       "      <td>NaN</td>\n",
       "      <td>NaN</td>\n",
       "      <td>NaN</td>\n",
       "      <td>52208.9</td>\n",
       "      <td>14733</td>\n",
       "      <td>46</td>\n",
       "      <td>25</td>\n",
       "      <td>21-29</td>\n",
       "    </tr>\n",
       "    <tr>\n",
       "      <th>2</th>\n",
       "      <td>6863</td>\n",
       "      <td>9188</td>\n",
       "      <td>127080</td>\n",
       "      <td>60</td>\n",
       "      <td>2118</td>\n",
       "      <td>1</td>\n",
       "      <td>45</td>\n",
       "      <td>monthly issuance</td>\n",
       "      <td>11006</td>\n",
       "      <td>11314</td>\n",
       "      <td>...</td>\n",
       "      <td>45</td>\n",
       "      <td>Male</td>\n",
       "      <td>NaN</td>\n",
       "      <td>NaN</td>\n",
       "      <td>NaN</td>\n",
       "      <td>20272.8</td>\n",
       "      <td>-6859</td>\n",
       "      <td>45</td>\n",
       "      <td>57</td>\n",
       "      <td>50-59</td>\n",
       "    </tr>\n",
       "    <tr>\n",
       "      <th>3</th>\n",
       "      <td>5325</td>\n",
       "      <td>1843</td>\n",
       "      <td>105804</td>\n",
       "      <td>36</td>\n",
       "      <td>2939</td>\n",
       "      <td>1</td>\n",
       "      <td>12</td>\n",
       "      <td>monthly issuance</td>\n",
       "      <td>2235</td>\n",
       "      <td>2235</td>\n",
       "      <td>...</td>\n",
       "      <td>14</td>\n",
       "      <td>Female</td>\n",
       "      <td>NaN</td>\n",
       "      <td>NaN</td>\n",
       "      <td>NaN</td>\n",
       "      <td>34292.7</td>\n",
       "      <td>-11054</td>\n",
       "      <td>14</td>\n",
       "      <td>53</td>\n",
       "      <td>50-59</td>\n",
       "    </tr>\n",
       "    <tr>\n",
       "      <th>4</th>\n",
       "      <td>7240</td>\n",
       "      <td>11013</td>\n",
       "      <td>274740</td>\n",
       "      <td>60</td>\n",
       "      <td>4579</td>\n",
       "      <td>1</td>\n",
       "      <td>1</td>\n",
       "      <td>weekly issuance</td>\n",
       "      <td>13231</td>\n",
       "      <td>13539</td>\n",
       "      <td>...</td>\n",
       "      <td>63</td>\n",
       "      <td>Male</td>\n",
       "      <td>NaN</td>\n",
       "      <td>NaN</td>\n",
       "      <td>NaN</td>\n",
       "      <td>41142.9</td>\n",
       "      <td>-30531</td>\n",
       "      <td>63</td>\n",
       "      <td>15</td>\n",
       "      <td>0-19</td>\n",
       "    </tr>\n",
       "    <tr>\n",
       "      <th>...</th>\n",
       "      <td>...</td>\n",
       "      <td>...</td>\n",
       "      <td>...</td>\n",
       "      <td>...</td>\n",
       "      <td>...</td>\n",
       "      <td>...</td>\n",
       "      <td>...</td>\n",
       "      <td>...</td>\n",
       "      <td>...</td>\n",
       "      <td>...</td>\n",
       "      <td>...</td>\n",
       "      <td>...</td>\n",
       "      <td>...</td>\n",
       "      <td>...</td>\n",
       "      <td>...</td>\n",
       "      <td>...</td>\n",
       "      <td>...</td>\n",
       "      <td>...</td>\n",
       "      <td>...</td>\n",
       "      <td>...</td>\n",
       "      <td>...</td>\n",
       "    </tr>\n",
       "    <tr>\n",
       "      <th>323</th>\n",
       "      <td>6818</td>\n",
       "      <td>9030</td>\n",
       "      <td>155616</td>\n",
       "      <td>48</td>\n",
       "      <td>3242</td>\n",
       "      <td>1</td>\n",
       "      <td>72</td>\n",
       "      <td>monthly issuance</td>\n",
       "      <td>10813</td>\n",
       "      <td>11121</td>\n",
       "      <td>...</td>\n",
       "      <td>72</td>\n",
       "      <td>Female</td>\n",
       "      <td>NaN</td>\n",
       "      <td>NaN</td>\n",
       "      <td>NaN</td>\n",
       "      <td>60694.1</td>\n",
       "      <td>5313</td>\n",
       "      <td>72</td>\n",
       "      <td>26</td>\n",
       "      <td>21-29</td>\n",
       "    </tr>\n",
       "    <tr>\n",
       "      <th>324</th>\n",
       "      <td>5625</td>\n",
       "      <td>3189</td>\n",
       "      <td>222180</td>\n",
       "      <td>60</td>\n",
       "      <td>3703</td>\n",
       "      <td>-1</td>\n",
       "      <td>29</td>\n",
       "      <td>monthly issuance</td>\n",
       "      <td>3855</td>\n",
       "      <td>3855</td>\n",
       "      <td>...</td>\n",
       "      <td>29</td>\n",
       "      <td>Male</td>\n",
       "      <td>NaN</td>\n",
       "      <td>NaN</td>\n",
       "      <td>NaN</td>\n",
       "      <td>59578.8</td>\n",
       "      <td>4583</td>\n",
       "      <td>29</td>\n",
       "      <td>58</td>\n",
       "      <td>50-59</td>\n",
       "    </tr>\n",
       "    <tr>\n",
       "      <th>325</th>\n",
       "      <td>6805</td>\n",
       "      <td>8972</td>\n",
       "      <td>45024</td>\n",
       "      <td>48</td>\n",
       "      <td>938</td>\n",
       "      <td>1</td>\n",
       "      <td>70</td>\n",
       "      <td>monthly issuance</td>\n",
       "      <td>10742</td>\n",
       "      <td>11050</td>\n",
       "      <td>...</td>\n",
       "      <td>70</td>\n",
       "      <td>Female</td>\n",
       "      <td>NaN</td>\n",
       "      <td>NaN</td>\n",
       "      <td>NaN</td>\n",
       "      <td>38384.3</td>\n",
       "      <td>8387</td>\n",
       "      <td>70</td>\n",
       "      <td>40</td>\n",
       "      <td>40-49</td>\n",
       "    </tr>\n",
       "    <tr>\n",
       "      <th>326</th>\n",
       "      <td>7233</td>\n",
       "      <td>10963</td>\n",
       "      <td>115812</td>\n",
       "      <td>36</td>\n",
       "      <td>3217</td>\n",
       "      <td>1</td>\n",
       "      <td>16</td>\n",
       "      <td>monthly issuance</td>\n",
       "      <td>13172</td>\n",
       "      <td>13480</td>\n",
       "      <td>...</td>\n",
       "      <td>16</td>\n",
       "      <td>Male</td>\n",
       "      <td>NaN</td>\n",
       "      <td>NaN</td>\n",
       "      <td>NaN</td>\n",
       "      <td>41878.1</td>\n",
       "      <td>2204</td>\n",
       "      <td>16</td>\n",
       "      <td>44</td>\n",
       "      <td>40-49</td>\n",
       "    </tr>\n",
       "    <tr>\n",
       "      <th>327</th>\n",
       "      <td>7308</td>\n",
       "      <td>11362</td>\n",
       "      <td>129408</td>\n",
       "      <td>24</td>\n",
       "      <td>5392</td>\n",
       "      <td>1</td>\n",
       "      <td>67</td>\n",
       "      <td>monthly issuance</td>\n",
       "      <td>13663</td>\n",
       "      <td>13971</td>\n",
       "      <td>...</td>\n",
       "      <td>67</td>\n",
       "      <td>Female</td>\n",
       "      <td>NaN</td>\n",
       "      <td>NaN</td>\n",
       "      <td>NaN</td>\n",
       "      <td>24199.5</td>\n",
       "      <td>5510</td>\n",
       "      <td>67</td>\n",
       "      <td>34</td>\n",
       "      <td>30-39</td>\n",
       "    </tr>\n",
       "  </tbody>\n",
       "</table>\n",
       "<p>328 rows × 21 columns</p>\n",
       "</div>"
      ],
      "text/plain": [
       "     loan_id  account_id  loan_amount  loan_duration  loan_payments  status  \\\n",
       "0       5314        1787        96396             12           8033      -1   \n",
       "1       5316        1801       165960             36           4610       1   \n",
       "2       6863        9188       127080             60           2118       1   \n",
       "3       5325        1843       105804             36           2939       1   \n",
       "4       7240       11013       274740             60           4579       1   \n",
       "..       ...         ...          ...            ...            ...     ...   \n",
       "323     6818        9030       155616             48           3242       1   \n",
       "324     5625        3189       222180             60           3703      -1   \n",
       "325     6805        8972        45024             48            938       1   \n",
       "326     7233       10963       115812             36           3217       1   \n",
       "327     7308       11362       129408             24           5392       1   \n",
       "\n",
       "     account_district_id account_frequency  disp_id  client_id  ...  \\\n",
       "0                     30   weekly issuance     2166       2166  ...   \n",
       "1                     46  monthly issuance     2181       2181  ...   \n",
       "2                     45  monthly issuance    11006      11314  ...   \n",
       "3                     12  monthly issuance     2235       2235  ...   \n",
       "4                      1   weekly issuance    13231      13539  ...   \n",
       "..                   ...               ...      ...        ...  ...   \n",
       "323                   72  monthly issuance    10813      11121  ...   \n",
       "324                   29  monthly issuance     3855       3855  ...   \n",
       "325                   70  monthly issuance    10742      11050  ...   \n",
       "326                   16  monthly issuance    13172      13480  ...   \n",
       "327                   67  monthly issuance    13663      13971  ...   \n",
       "\n",
       "     client_district_id  gender card_id  card_disp_id  card_type last_balance  \\\n",
       "0                    30  Female     NaN           NaN        NaN      20100.0   \n",
       "1                    46    Male     NaN           NaN        NaN      52208.9   \n",
       "2                    45    Male     NaN           NaN        NaN      20272.8   \n",
       "3                    14  Female     NaN           NaN        NaN      34292.7   \n",
       "4                    63    Male     NaN           NaN        NaN      41142.9   \n",
       "..                  ...     ...     ...           ...        ...          ...   \n",
       "323                  72  Female     NaN           NaN        NaN      60694.1   \n",
       "324                  29    Male     NaN           NaN        NaN      59578.8   \n",
       "325                  70  Female     NaN           NaN        NaN      38384.3   \n",
       "326                  16    Male     NaN           NaN        NaN      41878.1   \n",
       "327                  67  Female     NaN           NaN        NaN      24199.5   \n",
       "\n",
       "     monthly_diff  code  age_on_loan_request  age_on_loan_request_disc  \n",
       "0            6700    30                   46                     40-49  \n",
       "1           14733    46                   25                     21-29  \n",
       "2           -6859    45                   57                     50-59  \n",
       "3          -11054    14                   53                     50-59  \n",
       "4          -30531    63                   15                      0-19  \n",
       "..            ...   ...                  ...                       ...  \n",
       "323          5313    72                   26                     21-29  \n",
       "324          4583    29                   58                     50-59  \n",
       "325          8387    70                   40                     40-49  \n",
       "326          2204    16                   44                     40-49  \n",
       "327          5510    67                   34                     30-39  \n",
       "\n",
       "[328 rows x 21 columns]"
      ]
     },
     "execution_count": 236,
     "metadata": {},
     "output_type": "execute_result"
    }
   ],
   "source": [
    "import pandas as pd\n",
    "import numpy as np\n",
    "from IPython.display import display\n",
    "\n",
    "data = pd.read_csv('data_processed/data.csv')\n",
    "data"
   ]
  },
  {
   "cell_type": "code",
   "execution_count": 237,
   "metadata": {},
   "outputs": [
    {
     "name": "stderr",
     "output_type": "stream",
     "text": [
      "/tmp/ipykernel_37496/4251433606.py:3: SettingWithCopyWarning: \n",
      "A value is trying to be set on a copy of a slice from a DataFrame\n",
      "\n",
      "See the caveats in the documentation: https://pandas.pydata.org/pandas-docs/stable/user_guide/indexing.html#returning-a-view-versus-a-copy\n",
      "  data.drop(['account_frequency', 'gender', 'card_type'], axis=1, inplace=True)\n"
     ]
    },
    {
     "data": {
      "text/html": [
       "<div>\n",
       "<style scoped>\n",
       "    .dataframe tbody tr th:only-of-type {\n",
       "        vertical-align: middle;\n",
       "    }\n",
       "\n",
       "    .dataframe tbody tr th {\n",
       "        vertical-align: top;\n",
       "    }\n",
       "\n",
       "    .dataframe thead th {\n",
       "        text-align: right;\n",
       "    }\n",
       "</style>\n",
       "<table border=\"1\" class=\"dataframe\">\n",
       "  <thead>\n",
       "    <tr style=\"text-align: right;\">\n",
       "      <th></th>\n",
       "      <th>loan_amount</th>\n",
       "      <th>loan_duration</th>\n",
       "      <th>loan_payments</th>\n",
       "      <th>status</th>\n",
       "      <th>has_disponent</th>\n",
       "      <th>last_balance</th>\n",
       "      <th>monthly_diff</th>\n",
       "      <th>age_on_loan_request</th>\n",
       "      <th>age_on_loan_request_disc</th>\n",
       "    </tr>\n",
       "  </thead>\n",
       "  <tbody>\n",
       "    <tr>\n",
       "      <th>0</th>\n",
       "      <td>96396</td>\n",
       "      <td>12</td>\n",
       "      <td>8033</td>\n",
       "      <td>-1</td>\n",
       "      <td>False</td>\n",
       "      <td>20100.0</td>\n",
       "      <td>6700</td>\n",
       "      <td>46</td>\n",
       "      <td>40-49</td>\n",
       "    </tr>\n",
       "    <tr>\n",
       "      <th>1</th>\n",
       "      <td>165960</td>\n",
       "      <td>36</td>\n",
       "      <td>4610</td>\n",
       "      <td>1</td>\n",
       "      <td>False</td>\n",
       "      <td>52208.9</td>\n",
       "      <td>14733</td>\n",
       "      <td>25</td>\n",
       "      <td>21-29</td>\n",
       "    </tr>\n",
       "    <tr>\n",
       "      <th>2</th>\n",
       "      <td>127080</td>\n",
       "      <td>60</td>\n",
       "      <td>2118</td>\n",
       "      <td>1</td>\n",
       "      <td>False</td>\n",
       "      <td>20272.8</td>\n",
       "      <td>-6859</td>\n",
       "      <td>57</td>\n",
       "      <td>50-59</td>\n",
       "    </tr>\n",
       "    <tr>\n",
       "      <th>3</th>\n",
       "      <td>105804</td>\n",
       "      <td>36</td>\n",
       "      <td>2939</td>\n",
       "      <td>1</td>\n",
       "      <td>False</td>\n",
       "      <td>34292.7</td>\n",
       "      <td>-11054</td>\n",
       "      <td>53</td>\n",
       "      <td>50-59</td>\n",
       "    </tr>\n",
       "    <tr>\n",
       "      <th>4</th>\n",
       "      <td>274740</td>\n",
       "      <td>60</td>\n",
       "      <td>4579</td>\n",
       "      <td>1</td>\n",
       "      <td>False</td>\n",
       "      <td>41142.9</td>\n",
       "      <td>-30531</td>\n",
       "      <td>15</td>\n",
       "      <td>0-19</td>\n",
       "    </tr>\n",
       "    <tr>\n",
       "      <th>5</th>\n",
       "      <td>87840</td>\n",
       "      <td>24</td>\n",
       "      <td>3660</td>\n",
       "      <td>1</td>\n",
       "      <td>False</td>\n",
       "      <td>43847.8</td>\n",
       "      <td>-13741</td>\n",
       "      <td>14</td>\n",
       "      <td>0-19</td>\n",
       "    </tr>\n",
       "    <tr>\n",
       "      <th>6</th>\n",
       "      <td>52788</td>\n",
       "      <td>12</td>\n",
       "      <td>4399</td>\n",
       "      <td>1</td>\n",
       "      <td>False</td>\n",
       "      <td>21029.0</td>\n",
       "      <td>4185</td>\n",
       "      <td>21</td>\n",
       "      <td>21-29</td>\n",
       "    </tr>\n",
       "    <tr>\n",
       "      <th>7</th>\n",
       "      <td>174744</td>\n",
       "      <td>24</td>\n",
       "      <td>7281</td>\n",
       "      <td>-1</td>\n",
       "      <td>False</td>\n",
       "      <td>58140.9</td>\n",
       "      <td>9690</td>\n",
       "      <td>45</td>\n",
       "      <td>40-49</td>\n",
       "    </tr>\n",
       "    <tr>\n",
       "      <th>8</th>\n",
       "      <td>154416</td>\n",
       "      <td>48</td>\n",
       "      <td>3217</td>\n",
       "      <td>1</td>\n",
       "      <td>False</td>\n",
       "      <td>53402.7</td>\n",
       "      <td>8900</td>\n",
       "      <td>24</td>\n",
       "      <td>21-29</td>\n",
       "    </tr>\n",
       "    <tr>\n",
       "      <th>9</th>\n",
       "      <td>117024</td>\n",
       "      <td>24</td>\n",
       "      <td>4876</td>\n",
       "      <td>1</td>\n",
       "      <td>False</td>\n",
       "      <td>53193.5</td>\n",
       "      <td>-12765</td>\n",
       "      <td>58</td>\n",
       "      <td>50-59</td>\n",
       "    </tr>\n",
       "  </tbody>\n",
       "</table>\n",
       "</div>"
      ],
      "text/plain": [
       "   loan_amount  loan_duration  loan_payments  status  has_disponent  \\\n",
       "0        96396             12           8033      -1          False   \n",
       "1       165960             36           4610       1          False   \n",
       "2       127080             60           2118       1          False   \n",
       "3       105804             36           2939       1          False   \n",
       "4       274740             60           4579       1          False   \n",
       "5        87840             24           3660       1          False   \n",
       "6        52788             12           4399       1          False   \n",
       "7       174744             24           7281      -1          False   \n",
       "8       154416             48           3217       1          False   \n",
       "9       117024             24           4876       1          False   \n",
       "\n",
       "   last_balance  monthly_diff  age_on_loan_request age_on_loan_request_disc  \n",
       "0       20100.0          6700                   46                    40-49  \n",
       "1       52208.9         14733                   25                    21-29  \n",
       "2       20272.8         -6859                   57                    50-59  \n",
       "3       34292.7        -11054                   53                    50-59  \n",
       "4       41142.9        -30531                   15                     0-19  \n",
       "5       43847.8        -13741                   14                     0-19  \n",
       "6       21029.0          4185                   21                    21-29  \n",
       "7       58140.9          9690                   45                    40-49  \n",
       "8       53402.7          8900                   24                    21-29  \n",
       "9       53193.5        -12765                   58                    50-59  "
      ]
     },
     "metadata": {},
     "output_type": "display_data"
    },
    {
     "name": "stdout",
     "output_type": "stream",
     "text": [
      "<class 'pandas.core.frame.DataFrame'>\n",
      "RangeIndex: 328 entries, 0 to 327\n",
      "Data columns (total 9 columns):\n",
      " #   Column                    Non-Null Count  Dtype  \n",
      "---  ------                    --------------  -----  \n",
      " 0   loan_amount               328 non-null    int64  \n",
      " 1   loan_duration             328 non-null    int64  \n",
      " 2   loan_payments             328 non-null    int64  \n",
      " 3   status                    328 non-null    int64  \n",
      " 4   has_disponent             328 non-null    bool   \n",
      " 5   last_balance              328 non-null    float64\n",
      " 6   monthly_diff              328 non-null    int64  \n",
      " 7   age_on_loan_request       328 non-null    int64  \n",
      " 8   age_on_loan_request_disc  328 non-null    object \n",
      "dtypes: bool(1), float64(1), int64(6), object(1)\n",
      "memory usage: 20.9+ KB\n"
     ]
    },
    {
     "data": {
      "text/plain": [
       "None"
      ]
     },
     "metadata": {},
     "output_type": "display_data"
    }
   ],
   "source": [
    "no_ids = [c for c in data.columns if c[-3:] != '_id' and c != 'code']\n",
    "data = data[no_ids]\n",
    "data.drop(['account_frequency', 'gender', 'card_type'], axis=1, inplace=True)\n",
    "display(data.head(10))\n",
    "\n",
    "categorical_columns = list(data.select_dtypes(\"object\").columns)\n",
    "\n",
    "def get_features(df):\n",
    "    return df.drop('status', axis=1).values\n",
    "def get_target(df):\n",
    "    return df['status'].values\n",
    "\n",
    "display(data.info())\n",
    "\n",
    "\n",
    "results = {}"
   ]
  },
  {
   "cell_type": "code",
   "execution_count": 238,
   "metadata": {},
   "outputs": [],
   "source": [
    "def split_data(features, target, test_size=0.2, random_state=1):\n",
    "    from sklearn.model_selection import train_test_split\n",
    "    X_train, X_test, y_train, y_test = train_test_split(features, target, test_size=test_size, random_state=random_state)\n",
    "    return X_train, X_test, y_train, y_test"
   ]
  },
  {
   "cell_type": "code",
   "execution_count": 239,
   "metadata": {},
   "outputs": [],
   "source": [
    "def normalize_data(X_train, X_test, scaler):\n",
    "    X_train = scaler.fit_transform(X_train)\n",
    "    X_test = scaler.fit_transform(X_test)\n",
    "    return X_train, X_test\n",
    "\n",
    "def standardize_data(X_train, X_test):\n",
    "    from sklearn.preprocessing import StandardScaler\n",
    "    normalize_data(X_train, X_test, StandardScaler())\n",
    "def min_max_scaling(X_train, X_test):\n",
    "    from sklearn.preprocessing import MinMaxScaler\n",
    "    normalize_data(X_train, X_test, MinMaxScaler())"
   ]
  },
  {
   "cell_type": "code",
   "execution_count": 240,
   "metadata": {},
   "outputs": [],
   "source": [
    "def encode_data(df, columns):\n",
    "    from sklearn.preprocessing import LabelEncoder\n",
    "    le = LabelEncoder()\n",
    "    for col in columns:\n",
    "        if (col in df.keys()):\n",
    "            df[col] = le.fit_transform(df[col])\n",
    "    return df"
   ]
  },
  {
   "cell_type": "code",
   "execution_count": 241,
   "metadata": {},
   "outputs": [],
   "source": [
    "def add_model(name, model):\n",
    "    df = data.copy()\n",
    "    if (name == 'dtc'):\n",
    "        df.drop(['age_on_loan_request_disc'], inplace=True, axis=1)\n",
    "    else:\n",
    "        df.drop(['age_on_loan_request'], inplace=True, axis=1)\n",
    "\n",
    "    df = encode_data(df, categorical_columns)\n",
    "    X_train, X_test, y_train, y_test = split_data(get_features(df), get_target(df))\n",
    "    # X_train, X_test = standardize_data(X_train, X_test)\n",
    "    # X_train, X_test = min_max_scaling(X_train, X_test)\n",
    "\n",
    "    model.fit(X_train, y_train)\n",
    "    results[name] = {'model': model, \n",
    "                    'X_train': X_train, \n",
    "                    'X_test': X_test, \n",
    "                    'y_train': y_train, \n",
    "                    'y_test': y_test}"
   ]
  },
  {
   "cell_type": "code",
   "execution_count": 242,
   "metadata": {},
   "outputs": [],
   "source": [
    "from sklearn.tree import DecisionTreeClassifier\n",
    "add_model('dtc',\n",
    "    DecisionTreeClassifier()\n",
    ")"
   ]
  },
  {
   "cell_type": "code",
   "execution_count": 243,
   "metadata": {},
   "outputs": [],
   "source": [
    "from sklearn.neighbors import KNeighborsClassifier\n",
    "add_model('knn',\n",
    "    KNeighborsClassifier()\n",
    ")"
   ]
  },
  {
   "cell_type": "code",
   "execution_count": 244,
   "metadata": {},
   "outputs": [],
   "source": [
    "from sklearn.neural_network import MLPClassifier\n",
    "add_model('mlp',\n",
    "    MLPClassifier()\n",
    ")"
   ]
  },
  {
   "cell_type": "code",
   "execution_count": 245,
   "metadata": {},
   "outputs": [],
   "source": [
    "from sklearn.naive_bayes import GaussianNB\n",
    "add_model('gnb',\n",
    "    GaussianNB()\n",
    ")"
   ]
  },
  {
   "cell_type": "code",
   "execution_count": 246,
   "metadata": {},
   "outputs": [],
   "source": [
    "from sklearn.svm import SVC\n",
    "add_model('svc',\n",
    "    SVC(probability=True)\n",
    ")"
   ]
  },
  {
   "cell_type": "code",
   "execution_count": 247,
   "metadata": {},
   "outputs": [],
   "source": [
    "from sklearn.ensemble import RandomForestClassifier\n",
    "add_model('rf',\n",
    "    RandomForestClassifier()\n",
    ")"
   ]
  },
  {
   "cell_type": "markdown",
   "metadata": {},
   "source": [
    "## Prediction"
   ]
  },
  {
   "cell_type": "code",
   "execution_count": 248,
   "metadata": {},
   "outputs": [],
   "source": [
    "def predict(name, isTrain=False):\n",
    "    prefix = 'train' if isTrain else 'test'\n",
    "    result = results[name]\n",
    "    pred = result['model'].predict(result['X_'+prefix])\n",
    "    result[prefix+'pred'] = pred\n",
    "\n",
    "for name in results.keys():\n",
    "    predict(name)\n",
    "for name in results.keys():\n",
    "    predict(name, isTrain=True)"
   ]
  },
  {
   "cell_type": "code",
   "execution_count": 249,
   "metadata": {},
   "outputs": [],
   "source": [
    "def predict_proba(name, isTrain=False):\n",
    "    prefix = 'train' if isTrain else 'test'\n",
    "    result = results[name]\n",
    "    proba = result['model'].predict_proba(result['X_'+prefix])\n",
    "    result[prefix+'pred_prob'] = proba\n",
    "\n",
    "for name in results.keys():\n",
    "    predict_proba(name)\n",
    "for name in results.keys():\n",
    "    predict_proba(name, isTrain=True)\n"
   ]
  },
  {
   "cell_type": "markdown",
   "metadata": {},
   "source": [
    "## Evaluation"
   ]
  },
  {
   "cell_type": "code",
   "execution_count": 279,
   "metadata": {},
   "outputs": [],
   "source": [
    "def recall(cm, i):\n",
    "    return cm[i][i]/sum(cm[i]) if sum(cm[i]) > 0 else np.inf\n",
    "\n",
    "def precision(cm, i):\n",
    "    cmt = np.copy(cm).transpose()\n",
    "    return cm[i][i]/sum(cmt[i]) if sum(cmt[i]) > 0 else np.inf\n",
    "\n",
    "def f_measure(cm, i):\n",
    "    p = precision(cm, i)*100\n",
    "    r = recall(cm, i)*100\n",
    "    return 2 * (p * r) / (p + r) if p != np.inf and r != np.inf and p + r > 0 else np.nan"
   ]
  },
  {
   "cell_type": "code",
   "execution_count": 251,
   "metadata": {},
   "outputs": [],
   "source": [
    "from matplotlib.figure import Figure\n",
    "from sklearn.metrics import confusion_matrix, ConfusionMatrixDisplay\n",
    "def conf_matrix(y_test, y_pred, name, prefix):\n",
    "    cm =  confusion_matrix(y_test, y_pred)\n",
    "    disp = ConfusionMatrixDisplay(cm, display_labels=['True', 'False'])\n",
    "    disp.plot()\n",
    "    disp.ax_.set_title(name + ' ' + prefix)"
   ]
  },
  {
   "cell_type": "code",
   "execution_count": 264,
   "metadata": {},
   "outputs": [
    {
     "name": "stdout",
     "output_type": "stream",
     "text": [
      "\tAccuracy\n",
      "test DTC:\t 0.8787878787878788\n",
      "test KNN:\t 0.8939393939393939\n",
      "test MLP:\t 0.8181818181818182\n",
      "test GNB:\t 0.8484848484848485\n",
      "test SVC:\t 0.8939393939393939\n",
      "test RF:\t 0.9090909090909091\n",
      "train DTC:\t 1.0\n",
      "train KNN:\t 0.8778625954198473\n",
      "train MLP:\t 0.851145038167939\n",
      "train GNB:\t 0.8625954198473282\n",
      "train SVC:\t 0.851145038167939\n",
      "train RF:\t 1.0\n"
     ]
    }
   ],
   "source": [
    "def score(name, isTrain=False):\n",
    "    prefix = 'train' if isTrain else 'test'\n",
    "    result = results[name]\n",
    "    result[prefix+'score'] = result['model'].score(result['X_'+prefix], result['y_'+prefix])\n",
    "    print(prefix, name.upper()+\":\\t\", result[prefix+'score'])\n",
    "\n",
    "print('\\tAccuracy')\n",
    "for name in results.keys():\n",
    "    score(name)\n",
    "for name in results.keys():\n",
    "    score(name, isTrain=True)"
   ]
  },
  {
   "cell_type": "code",
   "execution_count": 282,
   "metadata": {},
   "outputs": [
    {
     "name": "stdout",
     "output_type": "stream",
     "text": [
      "test DTC: \tRecall: 0.43 \t Precision: 0.43 \tF_Measure: 42.86\n",
      "test KNN: \tRecall: 0.0 \t Precision: inf \tF_Measure: nan\n",
      "test MLP: \tRecall: 0.29 \t Precision: 0.22 \tF_Measure: 25.0\n",
      "test GNB: \tRecall: 0.0 \t Precision: 0.0 \tF_Measure: nan\n",
      "test SVC: \tRecall: 0.0 \t Precision: inf \tF_Measure: nan\n",
      "test RF: \tRecall: 0.29 \t Precision: 0.67 \tF_Measure: 40.0\n",
      "train DTC: \tRecall: 1.0 \t Precision: 1.0 \tF_Measure: 100.0\n",
      "train KNN: \tRecall: 0.21 \t Precision: 0.89 \tF_Measure: 33.33\n",
      "train MLP: \tRecall: 0.26 \t Precision: 0.5 \tF_Measure: 33.9\n",
      "train GNB: \tRecall: 0.26 \t Precision: 0.59 \tF_Measure: 35.71\n",
      "train SVC: \tRecall: 0.0 \t Precision: inf \tF_Measure: nan\n",
      "train RF: \tRecall: 1.0 \t Precision: 1.0 \tF_Measure: 100.0\n"
     ]
    }
   ],
   "source": [
    "def evaluate(name, isTrain=False):\n",
    "    prefix = 'train' if isTrain else 'test'\n",
    "    result = results[name]\n",
    "    cm =  confusion_matrix(result['y_'+prefix], result[prefix+'pred'])\n",
    "    print(prefix, name.upper()+\":\", '\\tRecall:',round(recall(cm, 0), 2), '\\t Precision:',round(precision(cm, 0), 2), '\\tF_Measure:',round(f_measure(cm, 0), 2))\n",
    "\n",
    "for name in results.keys():\n",
    "    evaluate(name)\n",
    "for name in results.keys():\n",
    "    evaluate(name, isTrain=True)\n"
   ]
  },
  {
   "cell_type": "code",
   "execution_count": 262,
   "metadata": {},
   "outputs": [
    {
     "data": {
      "image/png": "[encoded data removed]",
      "text/plain": [
       "<Figure size 432x288 with 2 Axes>"
      ]
     },
     "metadata": {
      "needs_background": "light"
     },
     "output_type": "display_data"
    },
    {
     "data": {
      "image/png": "[encoded data removed]",
      "text/plain": [
       "<Figure size 432x288 with 2 Axes>"
      ]
     },
     "metadata": {
      "needs_background": "light"
     },
     "output_type": "display_data"
    },
    {
     "data": {
      "image/png": "[encoded data removed]",
      "text/plain": [
       "<Figure size 432x288 with 2 Axes>"
      ]
     },
     "metadata": {
      "needs_background": "light"
     },
     "output_type": "display_data"
    },
    {
     "data": {
      "image/png": "[encoded data removed]",
      "text/plain": [
       "<Figure size 432x288 with 2 Axes>"
      ]
     },
     "metadata": {
      "needs_background": "light"
     },
     "output_type": "display_data"
    },
    {
     "data": {
      "image/png": "[encoded data removed]",
      "text/plain": [
       "<Figure size 432x288 with 2 Axes>"
      ]
     },
     "metadata": {
      "needs_background": "light"
     },
     "output_type": "display_data"
    },
    {
     "data": {
      "image/png": "[encoded data removed]",
      "text/plain": [
       "<Figure size 432x288 with 2 Axes>"
      ]
     },
     "metadata": {
      "needs_background": "light"
     },
     "output_type": "display_data"
    }
   ],
   "source": [
    "prob = 0.50\n",
    "\n",
    "prefixes = ('test', 'train')\n",
    "for prefix in prefixes[:1]:\n",
    "    for name in results.keys():\n",
    "        result = results[name]\n",
    "        prefix = 'test'\n",
    "        conf_matrix(result['y_'+prefix], np.where(result[prefix+'pred_prob'][:,-1] > prob, 1, -1), name, prefix)"
   ]
  },
  {
   "cell_type": "code",
   "execution_count": 258,
   "metadata": {},
   "outputs": [
    {
     "name": "stdout",
     "output_type": "stream",
     "text": [
      "DTC test:\t 0.6803874092009685\n",
      "DTC train:\t 1.0\n",
      "KNN test:\t 0.602905569007264\n",
      "KNN train:\t 0.8675405312176612\n",
      "MLP test:\t 0.5774818401937045\n",
      "MLP train:\t 0.6046912728527077\n",
      "GNB test:\t 0.7239709443099274\n",
      "GNB train:\t 0.7360009198574221\n",
      "SVC test:\t 0.5060532687651331\n",
      "SVC train:\t 0.7007013912843508\n",
      "RF test:\t 0.8898305084745762\n",
      "RF train:\t 1.0\n"
     ]
    },
    {
     "data": {
      "image/png": "[encoded data removed]",
      "text/plain": [
       "<Figure size 432x288 with 1 Axes>"
      ]
     },
     "metadata": {
      "needs_background": "light"
     },
     "output_type": "display_data"
    },
    {
     "data": {
      "image/png": "[encoded data removed]",
      "text/plain": [
       "<Figure size 432x288 with 1 Axes>"
      ]
     },
     "metadata": {
      "needs_background": "light"
     },
     "output_type": "display_data"
    },
    {
     "data": {
      "image/png": "[encoded data removed]",
      "text/plain": [
       "<Figure size 432x288 with 1 Axes>"
      ]
     },
     "metadata": {
      "needs_background": "light"
     },
     "output_type": "display_data"
    },
    {
     "data": {
      "image/png": "[encoded data removed]",
      "text/plain": [
       "<Figure size 432x288 with 1 Axes>"
      ]
     },
     "metadata": {
      "needs_background": "light"
     },
     "output_type": "display_data"
    },
    {
     "data": {
      "image/png": "[encoded data removed]",
      "text/plain": [
       "<Figure size 432x288 with 1 Axes>"
      ]
     },
     "metadata": {
      "needs_background": "light"
     },
     "output_type": "display_data"
    },
    {
     "data": {
      "image/png": "[encoded data removed]",
      "text/plain": [
       "<Figure size 432x288 with 1 Axes>"
      ]
     },
     "metadata": {
      "needs_background": "light"
     },
     "output_type": "display_data"
    }
   ],
   "source": [
    "from sklearn.metrics import roc_curve, RocCurveDisplay, auc\n",
    "import matplotlib.pyplot as plt\n",
    "\n",
    "def roc_and_auc(name, isTrain=False):\n",
    "    fig, ax = plt.subplots()\n",
    "    for prefix in ('test', 'train'):\n",
    "        result = results[name]\n",
    "        fpr, tpr, thresholds = roc_curve(result['y_'+prefix], result[prefix+'pred_prob'][:,0], pos_label=result['model'].classes_[0])\n",
    "        roc_display = RocCurveDisplay(fpr=fpr, tpr=tpr).plot(ax=ax,name=(name.upper()+' '+prefix))\n",
    "        print(name.upper(), prefix + \":\\t\", auc(fpr, tpr))\n",
    "\n",
    "for name in results.keys():\n",
    "    roc_and_auc(name)"
   ]
  }
 ],
 "metadata": {
  "kernelspec": {
   "display_name": "Python 3.10.6 64-bit",
   "language": "python",
   "name": "python3"
  },
  "language_info": {
   "codemirror_mode": {
    "name": "ipython",
    "version": 3
   },
   "file_extension": ".py",
   "mimetype": "text/x-python",
   "name": "python",
   "nbconvert_exporter": "python",
   "pygments_lexer": "ipython3",
   "version": "3.10.6"
  },
  "vscode": {
   "interpreter": {
    "hash": "916dbcbb3f70747c44a77c7bcd40155683ae19c65e1c03b4aa3499c5328201f1"
   }
  }
 },
 "nbformat": 4,
 "nbformat_minor": 2
}
