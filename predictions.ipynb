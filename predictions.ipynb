{
 "cells": [
  {
   "cell_type": "markdown",
   "metadata": {},
   "source": [
    "# Models and Evaluation"
   ]
  },
  {
   "cell_type": "code",
   "execution_count": 110,
   "metadata": {},
   "outputs": [
    {
     "data": {
      "text/html": [
       "<div>\n",
       "<style scoped>\n",
       "    .dataframe tbody tr th:only-of-type {\n",
       "        vertical-align: middle;\n",
       "    }\n",
       "\n",
       "    .dataframe tbody tr th {\n",
       "        vertical-align: top;\n",
       "    }\n",
       "\n",
       "    .dataframe thead th {\n",
       "        text-align: right;\n",
       "    }\n",
       "</style>\n",
       "<table border=\"1\" class=\"dataframe\">\n",
       "  <thead>\n",
       "    <tr style=\"text-align: right;\">\n",
       "      <th></th>\n",
       "      <th>loan_id</th>\n",
       "      <th>account_id</th>\n",
       "      <th>amount</th>\n",
       "      <th>duration</th>\n",
       "      <th>payments</th>\n",
       "      <th>status</th>\n",
       "      <th>client_id</th>\n",
       "      <th>district_id</th>\n",
       "      <th>gender</th>\n",
       "      <th>disp_id</th>\n",
       "      <th>has_disponent</th>\n",
       "      <th>age_on_loan_request</th>\n",
       "      <th>account_frequency</th>\n",
       "      <th>card_type</th>\n",
       "      <th>last_balance</th>\n",
       "      <th>monthly_diff</th>\n",
       "      <th>age_on_loan_request_disc</th>\n",
       "    </tr>\n",
       "  </thead>\n",
       "  <tbody>\n",
       "    <tr>\n",
       "      <th>0</th>\n",
       "      <td>5314</td>\n",
       "      <td>1787</td>\n",
       "      <td>96396</td>\n",
       "      <td>12</td>\n",
       "      <td>8033</td>\n",
       "      <td>-1</td>\n",
       "      <td>2166</td>\n",
       "      <td>30</td>\n",
       "      <td>Female</td>\n",
       "      <td>2166</td>\n",
       "      <td>False</td>\n",
       "      <td>46</td>\n",
       "      <td>weekly issuance</td>\n",
       "      <td>unkown</td>\n",
       "      <td>20100.0</td>\n",
       "      <td>5025</td>\n",
       "      <td>40-49</td>\n",
       "    </tr>\n",
       "    <tr>\n",
       "      <th>1</th>\n",
       "      <td>5316</td>\n",
       "      <td>1801</td>\n",
       "      <td>165960</td>\n",
       "      <td>36</td>\n",
       "      <td>4610</td>\n",
       "      <td>1</td>\n",
       "      <td>2181</td>\n",
       "      <td>46</td>\n",
       "      <td>Male</td>\n",
       "      <td>2181</td>\n",
       "      <td>False</td>\n",
       "      <td>25</td>\n",
       "      <td>monthly issuance</td>\n",
       "      <td>unkown</td>\n",
       "      <td>52208.9</td>\n",
       "      <td>-6096</td>\n",
       "      <td>21-29</td>\n",
       "    </tr>\n",
       "    <tr>\n",
       "      <th>2</th>\n",
       "      <td>6863</td>\n",
       "      <td>9188</td>\n",
       "      <td>127080</td>\n",
       "      <td>60</td>\n",
       "      <td>2118</td>\n",
       "      <td>1</td>\n",
       "      <td>11314</td>\n",
       "      <td>45</td>\n",
       "      <td>Male</td>\n",
       "      <td>11006</td>\n",
       "      <td>False</td>\n",
       "      <td>57</td>\n",
       "      <td>monthly issuance</td>\n",
       "      <td>unkown</td>\n",
       "      <td>20272.8</td>\n",
       "      <td>-10726</td>\n",
       "      <td>50-59</td>\n",
       "    </tr>\n",
       "    <tr>\n",
       "      <th>3</th>\n",
       "      <td>5325</td>\n",
       "      <td>1843</td>\n",
       "      <td>105804</td>\n",
       "      <td>36</td>\n",
       "      <td>2939</td>\n",
       "      <td>1</td>\n",
       "      <td>2235</td>\n",
       "      <td>14</td>\n",
       "      <td>Female</td>\n",
       "      <td>2235</td>\n",
       "      <td>False</td>\n",
       "      <td>53</td>\n",
       "      <td>monthly issuance</td>\n",
       "      <td>unkown</td>\n",
       "      <td>34292.7</td>\n",
       "      <td>-13591</td>\n",
       "      <td>50-59</td>\n",
       "    </tr>\n",
       "    <tr>\n",
       "      <th>4</th>\n",
       "      <td>7240</td>\n",
       "      <td>11013</td>\n",
       "      <td>274740</td>\n",
       "      <td>60</td>\n",
       "      <td>4579</td>\n",
       "      <td>1</td>\n",
       "      <td>13539</td>\n",
       "      <td>63</td>\n",
       "      <td>Male</td>\n",
       "      <td>13231</td>\n",
       "      <td>False</td>\n",
       "      <td>15</td>\n",
       "      <td>weekly issuance</td>\n",
       "      <td>unkown</td>\n",
       "      <td>41142.9</td>\n",
       "      <td>-35661</td>\n",
       "      <td>0-19</td>\n",
       "    </tr>\n",
       "    <tr>\n",
       "      <th>...</th>\n",
       "      <td>...</td>\n",
       "      <td>...</td>\n",
       "      <td>...</td>\n",
       "      <td>...</td>\n",
       "      <td>...</td>\n",
       "      <td>...</td>\n",
       "      <td>...</td>\n",
       "      <td>...</td>\n",
       "      <td>...</td>\n",
       "      <td>...</td>\n",
       "      <td>...</td>\n",
       "      <td>...</td>\n",
       "      <td>...</td>\n",
       "      <td>...</td>\n",
       "      <td>...</td>\n",
       "      <td>...</td>\n",
       "      <td>...</td>\n",
       "    </tr>\n",
       "    <tr>\n",
       "      <th>323</th>\n",
       "      <td>6818</td>\n",
       "      <td>9030</td>\n",
       "      <td>155616</td>\n",
       "      <td>48</td>\n",
       "      <td>3242</td>\n",
       "      <td>1</td>\n",
       "      <td>11121</td>\n",
       "      <td>72</td>\n",
       "      <td>Female</td>\n",
       "      <td>10813</td>\n",
       "      <td>False</td>\n",
       "      <td>26</td>\n",
       "      <td>monthly issuance</td>\n",
       "      <td>unkown</td>\n",
       "      <td>60694.1</td>\n",
       "      <td>3950</td>\n",
       "      <td>21-29</td>\n",
       "    </tr>\n",
       "    <tr>\n",
       "      <th>324</th>\n",
       "      <td>5625</td>\n",
       "      <td>3189</td>\n",
       "      <td>222180</td>\n",
       "      <td>60</td>\n",
       "      <td>3703</td>\n",
       "      <td>-1</td>\n",
       "      <td>3855</td>\n",
       "      <td>29</td>\n",
       "      <td>Male</td>\n",
       "      <td>3855</td>\n",
       "      <td>False</td>\n",
       "      <td>58</td>\n",
       "      <td>monthly issuance</td>\n",
       "      <td>unkown</td>\n",
       "      <td>59578.8</td>\n",
       "      <td>2556</td>\n",
       "      <td>50-59</td>\n",
       "    </tr>\n",
       "    <tr>\n",
       "      <th>325</th>\n",
       "      <td>6805</td>\n",
       "      <td>8972</td>\n",
       "      <td>45024</td>\n",
       "      <td>48</td>\n",
       "      <td>938</td>\n",
       "      <td>1</td>\n",
       "      <td>11050</td>\n",
       "      <td>70</td>\n",
       "      <td>Female</td>\n",
       "      <td>10742</td>\n",
       "      <td>False</td>\n",
       "      <td>40</td>\n",
       "      <td>monthly issuance</td>\n",
       "      <td>unkown</td>\n",
       "      <td>38384.3</td>\n",
       "      <td>5335</td>\n",
       "      <td>40-49</td>\n",
       "    </tr>\n",
       "    <tr>\n",
       "      <th>326</th>\n",
       "      <td>7233</td>\n",
       "      <td>10963</td>\n",
       "      <td>115812</td>\n",
       "      <td>36</td>\n",
       "      <td>3217</td>\n",
       "      <td>1</td>\n",
       "      <td>13480</td>\n",
       "      <td>16</td>\n",
       "      <td>Male</td>\n",
       "      <td>13172</td>\n",
       "      <td>False</td>\n",
       "      <td>44</td>\n",
       "      <td>monthly issuance</td>\n",
       "      <td>unkown</td>\n",
       "      <td>41878.1</td>\n",
       "      <td>-17</td>\n",
       "      <td>40-49</td>\n",
       "    </tr>\n",
       "    <tr>\n",
       "      <th>327</th>\n",
       "      <td>7308</td>\n",
       "      <td>11362</td>\n",
       "      <td>129408</td>\n",
       "      <td>24</td>\n",
       "      <td>5392</td>\n",
       "      <td>1</td>\n",
       "      <td>13971</td>\n",
       "      <td>67</td>\n",
       "      <td>Female</td>\n",
       "      <td>13663</td>\n",
       "      <td>False</td>\n",
       "      <td>34</td>\n",
       "      <td>monthly issuance</td>\n",
       "      <td>unkown</td>\n",
       "      <td>24199.5</td>\n",
       "      <td>3313</td>\n",
       "      <td>30-39</td>\n",
       "    </tr>\n",
       "  </tbody>\n",
       "</table>\n",
       "<p>328 rows × 17 columns</p>\n",
       "</div>"
      ],
      "text/plain": [
       "     loan_id  account_id  amount  duration  payments  status  client_id  \\\n",
       "0       5314        1787   96396        12      8033      -1       2166   \n",
       "1       5316        1801  165960        36      4610       1       2181   \n",
       "2       6863        9188  127080        60      2118       1      11314   \n",
       "3       5325        1843  105804        36      2939       1       2235   \n",
       "4       7240       11013  274740        60      4579       1      13539   \n",
       "..       ...         ...     ...       ...       ...     ...        ...   \n",
       "323     6818        9030  155616        48      3242       1      11121   \n",
       "324     5625        3189  222180        60      3703      -1       3855   \n",
       "325     6805        8972   45024        48       938       1      11050   \n",
       "326     7233       10963  115812        36      3217       1      13480   \n",
       "327     7308       11362  129408        24      5392       1      13971   \n",
       "\n",
       "     district_id  gender  disp_id  has_disponent  age_on_loan_request  \\\n",
       "0             30  Female     2166          False                   46   \n",
       "1             46    Male     2181          False                   25   \n",
       "2             45    Male    11006          False                   57   \n",
       "3             14  Female     2235          False                   53   \n",
       "4             63    Male    13231          False                   15   \n",
       "..           ...     ...      ...            ...                  ...   \n",
       "323           72  Female    10813          False                   26   \n",
       "324           29    Male     3855          False                   58   \n",
       "325           70  Female    10742          False                   40   \n",
       "326           16    Male    13172          False                   44   \n",
       "327           67  Female    13663          False                   34   \n",
       "\n",
       "    account_frequency card_type  last_balance  monthly_diff  \\\n",
       "0     weekly issuance    unkown       20100.0          5025   \n",
       "1    monthly issuance    unkown       52208.9         -6096   \n",
       "2    monthly issuance    unkown       20272.8        -10726   \n",
       "3    monthly issuance    unkown       34292.7        -13591   \n",
       "4     weekly issuance    unkown       41142.9        -35661   \n",
       "..                ...       ...           ...           ...   \n",
       "323  monthly issuance    unkown       60694.1          3950   \n",
       "324  monthly issuance    unkown       59578.8          2556   \n",
       "325  monthly issuance    unkown       38384.3          5335   \n",
       "326  monthly issuance    unkown       41878.1           -17   \n",
       "327  monthly issuance    unkown       24199.5          3313   \n",
       "\n",
       "    age_on_loan_request_disc  \n",
       "0                      40-49  \n",
       "1                      21-29  \n",
       "2                      50-59  \n",
       "3                      50-59  \n",
       "4                       0-19  \n",
       "..                       ...  \n",
       "323                    21-29  \n",
       "324                    50-59  \n",
       "325                    40-49  \n",
       "326                    40-49  \n",
       "327                    30-39  \n",
       "\n",
       "[328 rows x 17 columns]"
      ]
     },
     "execution_count": 110,
     "metadata": {},
     "output_type": "execute_result"
    }
   ],
   "source": [
    "import pandas as pd\n",
    "import numpy as np\n",
    "from IPython.display import display\n",
    "\n",
    "data = pd.read_csv('data_processed/data.csv')\n",
    "data"
   ]
  },
  {
   "cell_type": "code",
   "execution_count": 111,
   "metadata": {},
   "outputs": [
    {
     "name": "stdout",
     "output_type": "stream",
     "text": [
      "<class 'pandas.core.frame.DataFrame'>\n",
      "RangeIndex: 328 entries, 0 to 327\n",
      "Data columns (total 12 columns):\n",
      " #   Column                    Non-Null Count  Dtype  \n",
      "---  ------                    --------------  -----  \n",
      " 0   amount                    328 non-null    int64  \n",
      " 1   duration                  328 non-null    int64  \n",
      " 2   payments                  328 non-null    int64  \n",
      " 3   status                    328 non-null    int64  \n",
      " 4   gender                    328 non-null    object \n",
      " 5   has_disponent             328 non-null    bool   \n",
      " 6   age_on_loan_request       328 non-null    int64  \n",
      " 7   account_frequency         328 non-null    object \n",
      " 8   card_type                 328 non-null    object \n",
      " 9   last_balance              328 non-null    float64\n",
      " 10  monthly_diff              328 non-null    int64  \n",
      " 11  age_on_loan_request_disc  328 non-null    object \n",
      "dtypes: bool(1), float64(1), int64(6), object(4)\n",
      "memory usage: 28.6+ KB\n"
     ]
    },
    {
     "data": {
      "text/plain": [
       "None"
      ]
     },
     "metadata": {},
     "output_type": "display_data"
    }
   ],
   "source": [
    "data.drop(['loan_id', 'account_id', 'client_id', 'district_id', 'disp_id'], axis=1, inplace=True)\n",
    "\n",
    "def get_features(df):\n",
    "    return df.drop('status', axis=1).values\n",
    "def get_target(df):\n",
    "    return df['status'].values\n",
    "\n",
    "display(data.info())\n",
    "\n",
    "\n",
    "results = {}"
   ]
  },
  {
   "cell_type": "code",
   "execution_count": 112,
   "metadata": {},
   "outputs": [],
   "source": [
    "from sklearn.model_selection import train_test_split\n",
    "def split_data(features, target, test_size=0.2, random_state=1):\n",
    "    X_train, X_test, y_train, y_test = train_test_split(features, target, test_size=test_size, random_state=random_state)\n",
    "    return X_train, X_test, y_train, y_test"
   ]
  },
  {
   "cell_type": "code",
   "execution_count": 113,
   "metadata": {},
   "outputs": [],
   "source": [
    "from sklearn.preprocessing import LabelEncoder\n",
    "\n",
    "def add_model(name, model):\n",
    "    le = LabelEncoder()\n",
    "    df = data.copy()\n",
    "    if (name == 'dtc'):\n",
    "        df.drop(['age_on_loan_request_disc'], inplace=True, axis=1)\n",
    "    else:\n",
    "        df.drop(['age_on_loan_request'], inplace=True, axis=1)\n",
    "        df['age_on_loan_request_disc'] = le.fit_transform(df['age_on_loan_request_disc'])\n",
    "    df['account_frequency'] = le.fit_transform(df['account_frequency'])\n",
    "    df['card_type'] = le.fit_transform(df['card_type'])\n",
    "    df['gender'] = le.fit_transform(df['gender'])\n",
    "\n",
    "    X_train, X_test, y_train, y_test = split_data(get_features(df), get_target(df))\n",
    "    model.fit(X_train, y_train)\n",
    "    results[name] = {'model': model, \n",
    "                    'X_train': X_train, \n",
    "                    'X_test': X_test, \n",
    "                    'y_train': y_train, \n",
    "                    'y_test': y_test}"
   ]
  },
  {
   "cell_type": "code",
   "execution_count": 114,
   "metadata": {},
   "outputs": [],
   "source": [
    "from sklearn.tree import DecisionTreeClassifier\n",
    "add_model('dtc',\n",
    "    DecisionTreeClassifier()\n",
    ")"
   ]
  },
  {
   "cell_type": "code",
   "execution_count": 115,
   "metadata": {},
   "outputs": [],
   "source": [
    "from sklearn.ensemble import RandomForestClassifier\n",
    "add_model('rf',\n",
    "    RandomForestClassifier()\n",
    ")"
   ]
  },
  {
   "cell_type": "code",
   "execution_count": 116,
   "metadata": {},
   "outputs": [],
   "source": [
    "from sklearn.svm import SVC\n",
    "add_model('svc',\n",
    "    SVC(probability=True)\n",
    ")"
   ]
  },
  {
   "cell_type": "code",
   "execution_count": 117,
   "metadata": {},
   "outputs": [],
   "source": [
    "def predict(name):\n",
    "    result = results[name]\n",
    "    pred = result['model'].predict(result['X_test'])\n",
    "    result['pred'] = pred\n",
    "\n",
    "predict('dtc')\n",
    "predict('rf')\n",
    "predict('svc')"
   ]
  },
  {
   "cell_type": "code",
   "execution_count": 118,
   "metadata": {},
   "outputs": [],
   "source": [
    "def predict_proba(name):\n",
    "    result = results[name]\n",
    "    proba = result['model'].predict_proba(result['X_test'])\n",
    "    result['pred_prob'] = proba\n",
    "\n",
    "predict_proba('dtc')\n",
    "predict_proba('rf')\n",
    "predict_proba('svc')\n"
   ]
  },
  {
   "cell_type": "markdown",
   "metadata": {},
   "source": [
    "## Evaluation"
   ]
  },
  {
   "cell_type": "code",
   "execution_count": 119,
   "metadata": {},
   "outputs": [],
   "source": [
    "def recall(cm, i):\n",
    "    return cm[i][i]/sum(cm[i])\n",
    "\n",
    "def precision(cm, i):\n",
    "    cmt = np.copy(cm).transpose()\n",
    "    return cmt[i][i]/sum(cmt[i])\n",
    "\n",
    "def f_measure(cm, i):\n",
    "    p = precision(cm, i)*100\n",
    "    r = recall(cm, i)*100\n",
    "    return 2 * (p * r) / (p + r)"
   ]
  },
  {
   "cell_type": "code",
   "execution_count": 120,
   "metadata": {},
   "outputs": [],
   "source": [
    "from sklearn.metrics import confusion_matrix, ConfusionMatrixDisplay\n",
    "def conf_matrix(y_test, y_pred):\n",
    "    cm =  confusion_matrix(y_test, y_pred)\n",
    "    '''\n",
    "    print(\"TP:\", cm[1][1])\n",
    "    print(\"TN:\", cm[0][0])\n",
    "    print(\"FP:\", cm[0][1])\n",
    "    print(\"FN:\", cm[1][0])\n",
    "    '''\n",
    "    ConfusionMatrixDisplay(cm, display_labels=['True', 'False']).plot()"
   ]
  },
  {
   "cell_type": "code",
   "execution_count": 121,
   "metadata": {},
   "outputs": [
    {
     "name": "stdout",
     "output_type": "stream",
     "text": [
      "DTC: 0.8787878787878788\n",
      "RF: 0.8939393939393939\n",
      "SVC: 0.8939393939393939\n"
     ]
    }
   ],
   "source": [
    "def score(name):\n",
    "    result = results[name]\n",
    "    result['score'] = result['model'].score(result['X_test'], result['y_test'])\n",
    "    print(name.upper()+\":\", result['score'])\n",
    "\n",
    "score('dtc')\n",
    "score('rf')\n",
    "score('svc')"
   ]
  },
  {
   "cell_type": "code",
   "execution_count": 122,
   "metadata": {},
   "outputs": [
    {
     "data": {
      "image/png": "[encoded data removed]",
      "text/plain": [
       "<Figure size 432x288 with 2 Axes>"
      ]
     },
     "metadata": {
      "needs_background": "light"
     },
     "output_type": "display_data"
    },
    {
     "data": {
      "image/png": "[encoded data removed]",
      "text/plain": [
       "<Figure size 432x288 with 2 Axes>"
      ]
     },
     "metadata": {
      "needs_background": "light"
     },
     "output_type": "display_data"
    },
    {
     "data": {
      "image/png": "[encoded data removed]",
      "text/plain": [
       "<Figure size 432x288 with 2 Axes>"
      ]
     },
     "metadata": {
      "needs_background": "light"
     },
     "output_type": "display_data"
    }
   ],
   "source": [
    "prob = 0.50\n",
    "\n",
    "conf_matrix(results['dtc']['y_test'], np.where(results['dtc']['pred_prob'][:,-1] > prob, 1, -1))\n",
    "conf_matrix(results['rf']['y_test'], np.where(results['rf']['pred_prob'][:,-1] > prob, 1, -1))\n",
    "conf_matrix(results['svc']['y_test'], np.where(results['svc']['pred_prob'][:,-1] > prob, 1, -1))"
   ]
  },
  {
   "cell_type": "code",
   "execution_count": 123,
   "metadata": {},
   "outputs": [
    {
     "name": "stdout",
     "output_type": "stream",
     "text": [
      "0.7433414043583535\n",
      "0.8474576271186441\n",
      "0.5302663438256658\n"
     ]
    },
    {
     "data": {
      "image/png": "[encoded data removed]",
      "text/plain": [
       "<Figure size 432x288 with 1 Axes>"
      ]
     },
     "metadata": {
      "needs_background": "light"
     },
     "output_type": "display_data"
    },
    {
     "data": {
      "image/png": "[encoded data removed]",
      "text/plain": [
       "<Figure size 432x288 with 1 Axes>"
      ]
     },
     "metadata": {
      "needs_background": "light"
     },
     "output_type": "display_data"
    },
    {
     "data": {
      "image/png": "[encoded data removed]",
      "text/plain": [
       "<Figure size 432x288 with 1 Axes>"
      ]
     },
     "metadata": {
      "needs_background": "light"
     },
     "output_type": "display_data"
    }
   ],
   "source": [
    "from sklearn.metrics import roc_curve, RocCurveDisplay, auc\n",
    "\n",
    "def roc_and_auc(name):\n",
    "    result = results[name]\n",
    "    fpr, tpr, _ = roc_curve(result['y_test'], result['pred_prob'][:,-1], pos_label=result['model'].classes_[1])\n",
    "    roc_display = RocCurveDisplay(fpr=fpr, tpr=tpr).plot()\n",
    "    print(auc(fpr, tpr))\n",
    "\n",
    "roc_and_auc('dtc')\n",
    "roc_and_auc('rf')\n",
    "roc_and_auc('svc')"
   ]
  }
 ],
 "metadata": {
  "kernelspec": {
   "display_name": "Python 3 (ipykernel)",
   "language": "python",
   "name": "python3"
  },
  "language_info": {
   "codemirror_mode": {
    "name": "ipython",
    "version": 3
   },
   "file_extension": ".py",
   "mimetype": "text/x-python",
   "name": "python",
   "nbconvert_exporter": "python",
   "pygments_lexer": "ipython3",
   "version": "3.10.6"
  },
  "vscode": {
   "interpreter": {
    "hash": "916dbcbb3f70747c44a77c7bcd40155683ae19c65e1c03b4aa3499c5328201f1"
   }
  }
 },
 "nbformat": 4,
 "nbformat_minor": 2
}
