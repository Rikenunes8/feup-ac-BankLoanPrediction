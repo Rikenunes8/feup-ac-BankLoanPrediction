{
 "cells": [
  {
   "cell_type": "markdown",
   "metadata": {},
   "source": [
    "# Models and Evaluation"
   ]
  },
  {
   "cell_type": "code",
   "execution_count": 1,
   "metadata": {},
   "outputs": [
    {
     "data": {
      "text/html": [
       "<div>\n",
       "<style scoped>\n",
       "    .dataframe tbody tr th:only-of-type {\n",
       "        vertical-align: middle;\n",
       "    }\n",
       "\n",
       "    .dataframe tbody tr th {\n",
       "        vertical-align: top;\n",
       "    }\n",
       "\n",
       "    .dataframe thead th {\n",
       "        text-align: right;\n",
       "    }\n",
       "</style>\n",
       "<table border=\"1\" class=\"dataframe\">\n",
       "  <thead>\n",
       "    <tr style=\"text-align: right;\">\n",
       "      <th></th>\n",
       "      <th>loan_id</th>\n",
       "      <th>account_id</th>\n",
       "      <th>loan_amount</th>\n",
       "      <th>loan_duration</th>\n",
       "      <th>loan_payments</th>\n",
       "      <th>status</th>\n",
       "      <th>account_district_id</th>\n",
       "      <th>account_frequency</th>\n",
       "      <th>disp_id</th>\n",
       "      <th>client_id</th>\n",
       "      <th>...</th>\n",
       "      <th>no. of municipalities with inhabitants 500-1999</th>\n",
       "      <th>no. of municipalities with inhabitants &gt; 2000</th>\n",
       "      <th>no. of cities</th>\n",
       "      <th>ratio of urban inhabitants</th>\n",
       "      <th>average salary</th>\n",
       "      <th>ratio enterpreneurs</th>\n",
       "      <th>unemploymant rate growth</th>\n",
       "      <th>crime rate growth</th>\n",
       "      <th>age_on_loan_request</th>\n",
       "      <th>age_on_loan_request_disc</th>\n",
       "    </tr>\n",
       "  </thead>\n",
       "  <tbody>\n",
       "    <tr>\n",
       "      <th>0</th>\n",
       "      <td>5314</td>\n",
       "      <td>1787</td>\n",
       "      <td>96396</td>\n",
       "      <td>12</td>\n",
       "      <td>8033</td>\n",
       "      <td>-1</td>\n",
       "      <td>30</td>\n",
       "      <td>weekly issuance</td>\n",
       "      <td>2166</td>\n",
       "      <td>2166</td>\n",
       "      <td>...</td>\n",
       "      <td>13</td>\n",
       "      <td>10</td>\n",
       "      <td>10</td>\n",
       "      <td>0.818</td>\n",
       "      <td>9650</td>\n",
       "      <td>0.100</td>\n",
       "      <td>0.29</td>\n",
       "      <td>-0.001909</td>\n",
       "      <td>46</td>\n",
       "      <td>40-49</td>\n",
       "    </tr>\n",
       "    <tr>\n",
       "      <th>1</th>\n",
       "      <td>5316</td>\n",
       "      <td>1801</td>\n",
       "      <td>165960</td>\n",
       "      <td>36</td>\n",
       "      <td>4610</td>\n",
       "      <td>1</td>\n",
       "      <td>46</td>\n",
       "      <td>monthly issuance</td>\n",
       "      <td>2181</td>\n",
       "      <td>2181</td>\n",
       "      <td>...</td>\n",
       "      <td>20</td>\n",
       "      <td>10</td>\n",
       "      <td>10</td>\n",
       "      <td>0.735</td>\n",
       "      <td>8369</td>\n",
       "      <td>0.117</td>\n",
       "      <td>0.52</td>\n",
       "      <td>-0.002094</td>\n",
       "      <td>25</td>\n",
       "      <td>21-29</td>\n",
       "    </tr>\n",
       "    <tr>\n",
       "      <th>2</th>\n",
       "      <td>6863</td>\n",
       "      <td>9188</td>\n",
       "      <td>127080</td>\n",
       "      <td>60</td>\n",
       "      <td>2118</td>\n",
       "      <td>1</td>\n",
       "      <td>45</td>\n",
       "      <td>monthly issuance</td>\n",
       "      <td>11006</td>\n",
       "      <td>11314</td>\n",
       "      <td>...</td>\n",
       "      <td>19</td>\n",
       "      <td>7</td>\n",
       "      <td>5</td>\n",
       "      <td>0.535</td>\n",
       "      <td>8390</td>\n",
       "      <td>0.132</td>\n",
       "      <td>0.61</td>\n",
       "      <td>0.000539</td>\n",
       "      <td>57</td>\n",
       "      <td>50-59</td>\n",
       "    </tr>\n",
       "    <tr>\n",
       "      <th>3</th>\n",
       "      <td>5325</td>\n",
       "      <td>1843</td>\n",
       "      <td>105804</td>\n",
       "      <td>36</td>\n",
       "      <td>2939</td>\n",
       "      <td>1</td>\n",
       "      <td>12</td>\n",
       "      <td>monthly issuance</td>\n",
       "      <td>2235</td>\n",
       "      <td>2235</td>\n",
       "      <td>...</td>\n",
       "      <td>27</td>\n",
       "      <td>11</td>\n",
       "      <td>9</td>\n",
       "      <td>0.748</td>\n",
       "      <td>10045</td>\n",
       "      <td>0.135</td>\n",
       "      <td>0.29</td>\n",
       "      <td>-0.001739</td>\n",
       "      <td>53</td>\n",
       "      <td>50-59</td>\n",
       "    </tr>\n",
       "    <tr>\n",
       "      <th>4</th>\n",
       "      <td>7240</td>\n",
       "      <td>11013</td>\n",
       "      <td>274740</td>\n",
       "      <td>60</td>\n",
       "      <td>4579</td>\n",
       "      <td>1</td>\n",
       "      <td>1</td>\n",
       "      <td>weekly issuance</td>\n",
       "      <td>13231</td>\n",
       "      <td>13539</td>\n",
       "      <td>...</td>\n",
       "      <td>36</td>\n",
       "      <td>6</td>\n",
       "      <td>5</td>\n",
       "      <td>0.505</td>\n",
       "      <td>8288</td>\n",
       "      <td>0.110</td>\n",
       "      <td>0.73</td>\n",
       "      <td>-0.001179</td>\n",
       "      <td>15</td>\n",
       "      <td>0-19</td>\n",
       "    </tr>\n",
       "  </tbody>\n",
       "</table>\n",
       "<p>5 rows × 28 columns</p>\n",
       "</div>"
      ],
      "text/plain": [
       "   loan_id  account_id  loan_amount  loan_duration  loan_payments  status  \\\n",
       "0     5314        1787        96396             12           8033      -1   \n",
       "1     5316        1801       165960             36           4610       1   \n",
       "2     6863        9188       127080             60           2118       1   \n",
       "3     5325        1843       105804             36           2939       1   \n",
       "4     7240       11013       274740             60           4579       1   \n",
       "\n",
       "   account_district_id account_frequency  disp_id  client_id  ...  \\\n",
       "0                   30   weekly issuance     2166       2166  ...   \n",
       "1                   46  monthly issuance     2181       2181  ...   \n",
       "2                   45  monthly issuance    11006      11314  ...   \n",
       "3                   12  monthly issuance     2235       2235  ...   \n",
       "4                    1   weekly issuance    13231      13539  ...   \n",
       "\n",
       "   no. of municipalities with inhabitants 500-1999  \\\n",
       "0                                               13   \n",
       "1                                               20   \n",
       "2                                               19   \n",
       "3                                               27   \n",
       "4                                               36   \n",
       "\n",
       "   no. of municipalities with inhabitants > 2000 no. of cities   \\\n",
       "0                                             10             10   \n",
       "1                                             10             10   \n",
       "2                                              7              5   \n",
       "3                                             11              9   \n",
       "4                                              6              5   \n",
       "\n",
       "   ratio of urban inhabitants  average salary  ratio enterpreneurs  \\\n",
       "0                       0.818            9650                0.100   \n",
       "1                       0.735            8369                0.117   \n",
       "2                       0.535            8390                0.132   \n",
       "3                       0.748           10045                0.135   \n",
       "4                       0.505            8288                0.110   \n",
       "\n",
       "  unemploymant rate growth  crime rate growth  age_on_loan_request  \\\n",
       "0                     0.29          -0.001909                   46   \n",
       "1                     0.52          -0.002094                   25   \n",
       "2                     0.61           0.000539                   57   \n",
       "3                     0.29          -0.001739                   53   \n",
       "4                     0.73          -0.001179                   15   \n",
       "\n",
       "   age_on_loan_request_disc  \n",
       "0                     40-49  \n",
       "1                     21-29  \n",
       "2                     50-59  \n",
       "3                     50-59  \n",
       "4                      0-19  \n",
       "\n",
       "[5 rows x 28 columns]"
      ]
     },
     "metadata": {},
     "output_type": "display_data"
    }
   ],
   "source": [
    "import pandas as pd\n",
    "import numpy as np\n",
    "from IPython.display import display\n",
    "\n",
    "data = pd.read_csv('data_processed/data.csv')\n",
    "display(data.head())"
   ]
  },
  {
   "cell_type": "markdown",
   "metadata": {},
   "source": [
    "### Remove unnecessary features (Ids)"
   ]
  },
  {
   "cell_type": "code",
   "execution_count": 2,
   "metadata": {},
   "outputs": [
    {
     "data": {
      "text/html": [
       "<div>\n",
       "<style scoped>\n",
       "    .dataframe tbody tr th:only-of-type {\n",
       "        vertical-align: middle;\n",
       "    }\n",
       "\n",
       "    .dataframe tbody tr th {\n",
       "        vertical-align: top;\n",
       "    }\n",
       "\n",
       "    .dataframe thead th {\n",
       "        text-align: right;\n",
       "    }\n",
       "</style>\n",
       "<table border=\"1\" class=\"dataframe\">\n",
       "  <thead>\n",
       "    <tr style=\"text-align: right;\">\n",
       "      <th></th>\n",
       "      <th>loan_amount</th>\n",
       "      <th>loan_duration</th>\n",
       "      <th>loan_payments</th>\n",
       "      <th>status</th>\n",
       "      <th>account_frequency</th>\n",
       "      <th>has_disponent</th>\n",
       "      <th>gender</th>\n",
       "      <th>last_balance</th>\n",
       "      <th>monthly_diff</th>\n",
       "      <th>region</th>\n",
       "      <th>...</th>\n",
       "      <th>no. of municipalities with inhabitants 500-1999</th>\n",
       "      <th>no. of municipalities with inhabitants &gt; 2000</th>\n",
       "      <th>no. of cities</th>\n",
       "      <th>ratio of urban inhabitants</th>\n",
       "      <th>average salary</th>\n",
       "      <th>ratio enterpreneurs</th>\n",
       "      <th>unemploymant rate growth</th>\n",
       "      <th>crime rate growth</th>\n",
       "      <th>age_on_loan_request</th>\n",
       "      <th>age_on_loan_request_disc</th>\n",
       "    </tr>\n",
       "  </thead>\n",
       "  <tbody>\n",
       "    <tr>\n",
       "      <th>0</th>\n",
       "      <td>96396</td>\n",
       "      <td>12</td>\n",
       "      <td>8033</td>\n",
       "      <td>-1</td>\n",
       "      <td>weekly issuance</td>\n",
       "      <td>False</td>\n",
       "      <td>Female</td>\n",
       "      <td>20100.0</td>\n",
       "      <td>6700</td>\n",
       "      <td>west Bohemia</td>\n",
       "      <td>...</td>\n",
       "      <td>13</td>\n",
       "      <td>10</td>\n",
       "      <td>10</td>\n",
       "      <td>0.818</td>\n",
       "      <td>9650</td>\n",
       "      <td>0.100</td>\n",
       "      <td>0.29</td>\n",
       "      <td>-0.001909</td>\n",
       "      <td>46</td>\n",
       "      <td>40-49</td>\n",
       "    </tr>\n",
       "    <tr>\n",
       "      <th>1</th>\n",
       "      <td>165960</td>\n",
       "      <td>36</td>\n",
       "      <td>4610</td>\n",
       "      <td>1</td>\n",
       "      <td>monthly issuance</td>\n",
       "      <td>False</td>\n",
       "      <td>Male</td>\n",
       "      <td>52208.9</td>\n",
       "      <td>14733</td>\n",
       "      <td>east Bohemia</td>\n",
       "      <td>...</td>\n",
       "      <td>20</td>\n",
       "      <td>10</td>\n",
       "      <td>10</td>\n",
       "      <td>0.735</td>\n",
       "      <td>8369</td>\n",
       "      <td>0.117</td>\n",
       "      <td>0.52</td>\n",
       "      <td>-0.002094</td>\n",
       "      <td>25</td>\n",
       "      <td>21-29</td>\n",
       "    </tr>\n",
       "    <tr>\n",
       "      <th>2</th>\n",
       "      <td>127080</td>\n",
       "      <td>60</td>\n",
       "      <td>2118</td>\n",
       "      <td>1</td>\n",
       "      <td>monthly issuance</td>\n",
       "      <td>False</td>\n",
       "      <td>Male</td>\n",
       "      <td>20272.8</td>\n",
       "      <td>-6859</td>\n",
       "      <td>east Bohemia</td>\n",
       "      <td>...</td>\n",
       "      <td>19</td>\n",
       "      <td>7</td>\n",
       "      <td>5</td>\n",
       "      <td>0.535</td>\n",
       "      <td>8390</td>\n",
       "      <td>0.132</td>\n",
       "      <td>0.61</td>\n",
       "      <td>0.000539</td>\n",
       "      <td>57</td>\n",
       "      <td>50-59</td>\n",
       "    </tr>\n",
       "    <tr>\n",
       "      <th>3</th>\n",
       "      <td>105804</td>\n",
       "      <td>36</td>\n",
       "      <td>2939</td>\n",
       "      <td>1</td>\n",
       "      <td>monthly issuance</td>\n",
       "      <td>False</td>\n",
       "      <td>Female</td>\n",
       "      <td>34292.7</td>\n",
       "      <td>-11054</td>\n",
       "      <td>south Bohemia</td>\n",
       "      <td>...</td>\n",
       "      <td>27</td>\n",
       "      <td>11</td>\n",
       "      <td>9</td>\n",
       "      <td>0.748</td>\n",
       "      <td>10045</td>\n",
       "      <td>0.135</td>\n",
       "      <td>0.29</td>\n",
       "      <td>-0.001739</td>\n",
       "      <td>53</td>\n",
       "      <td>50-59</td>\n",
       "    </tr>\n",
       "    <tr>\n",
       "      <th>4</th>\n",
       "      <td>274740</td>\n",
       "      <td>60</td>\n",
       "      <td>4579</td>\n",
       "      <td>1</td>\n",
       "      <td>weekly issuance</td>\n",
       "      <td>False</td>\n",
       "      <td>Male</td>\n",
       "      <td>41142.9</td>\n",
       "      <td>-30531</td>\n",
       "      <td>south Moravia</td>\n",
       "      <td>...</td>\n",
       "      <td>36</td>\n",
       "      <td>6</td>\n",
       "      <td>5</td>\n",
       "      <td>0.505</td>\n",
       "      <td>8288</td>\n",
       "      <td>0.110</td>\n",
       "      <td>0.73</td>\n",
       "      <td>-0.001179</td>\n",
       "      <td>15</td>\n",
       "      <td>0-19</td>\n",
       "    </tr>\n",
       "  </tbody>\n",
       "</table>\n",
       "<p>5 rows × 21 columns</p>\n",
       "</div>"
      ],
      "text/plain": [
       "   loan_amount  loan_duration  loan_payments  status account_frequency  \\\n",
       "0        96396             12           8033      -1   weekly issuance   \n",
       "1       165960             36           4610       1  monthly issuance   \n",
       "2       127080             60           2118       1  monthly issuance   \n",
       "3       105804             36           2939       1  monthly issuance   \n",
       "4       274740             60           4579       1   weekly issuance   \n",
       "\n",
       "   has_disponent  gender  last_balance  monthly_diff         region  ...  \\\n",
       "0          False  Female       20100.0          6700   west Bohemia  ...   \n",
       "1          False    Male       52208.9         14733   east Bohemia  ...   \n",
       "2          False    Male       20272.8         -6859   east Bohemia  ...   \n",
       "3          False  Female       34292.7        -11054  south Bohemia  ...   \n",
       "4          False    Male       41142.9        -30531  south Moravia  ...   \n",
       "\n",
       "   no. of municipalities with inhabitants 500-1999  \\\n",
       "0                                               13   \n",
       "1                                               20   \n",
       "2                                               19   \n",
       "3                                               27   \n",
       "4                                               36   \n",
       "\n",
       "   no. of municipalities with inhabitants > 2000  no. of cities   \\\n",
       "0                                             10              10   \n",
       "1                                             10              10   \n",
       "2                                              7               5   \n",
       "3                                             11               9   \n",
       "4                                              6               5   \n",
       "\n",
       "   ratio of urban inhabitants  average salary  ratio enterpreneurs  \\\n",
       "0                       0.818            9650                0.100   \n",
       "1                       0.735            8369                0.117   \n",
       "2                       0.535            8390                0.132   \n",
       "3                       0.748           10045                0.135   \n",
       "4                       0.505            8288                0.110   \n",
       "\n",
       "   unemploymant rate growth  crime rate growth  age_on_loan_request  \\\n",
       "0                      0.29          -0.001909                   46   \n",
       "1                      0.52          -0.002094                   25   \n",
       "2                      0.61           0.000539                   57   \n",
       "3                      0.29          -0.001739                   53   \n",
       "4                      0.73          -0.001179                   15   \n",
       "\n",
       "   age_on_loan_request_disc  \n",
       "0                     40-49  \n",
       "1                     21-29  \n",
       "2                     50-59  \n",
       "3                     50-59  \n",
       "4                      0-19  \n",
       "\n",
       "[5 rows x 21 columns]"
      ]
     },
     "metadata": {},
     "output_type": "display_data"
    },
    {
     "name": "stdout",
     "output_type": "stream",
     "text": [
      "<class 'pandas.core.frame.DataFrame'>\n",
      "RangeIndex: 328 entries, 0 to 327\n",
      "Data columns (total 21 columns):\n",
      " #   Column                                           Non-Null Count  Dtype  \n",
      "---  ------                                           --------------  -----  \n",
      " 0   loan_amount                                      328 non-null    int64  \n",
      " 1   loan_duration                                    328 non-null    int64  \n",
      " 2   loan_payments                                    328 non-null    int64  \n",
      " 3   status                                           328 non-null    int64  \n",
      " 4   account_frequency                                328 non-null    object \n",
      " 5   has_disponent                                    328 non-null    bool   \n",
      " 6   gender                                           328 non-null    object \n",
      " 7   last_balance                                     328 non-null    float64\n",
      " 8   monthly_diff                                     328 non-null    int64  \n",
      " 9   region                                           328 non-null    object \n",
      " 10  no. of municipalities with inhabitants < 499     328 non-null    int64  \n",
      " 11  no. of municipalities with inhabitants 500-1999  328 non-null    int64  \n",
      " 12  no. of municipalities with inhabitants > 2000    328 non-null    int64  \n",
      " 13  no. of cities                                    328 non-null    int64  \n",
      " 14  ratio of urban inhabitants                       328 non-null    float64\n",
      " 15  average salary                                   328 non-null    int64  \n",
      " 16  ratio enterpreneurs                              328 non-null    float64\n",
      " 17  unemploymant rate growth                         328 non-null    float64\n",
      " 18  crime rate growth                                328 non-null    float64\n",
      " 19  age_on_loan_request                              328 non-null    int64  \n",
      " 20  age_on_loan_request_disc                         328 non-null    object \n",
      "dtypes: bool(1), float64(5), int64(11), object(4)\n",
      "memory usage: 51.7+ KB\n"
     ]
    },
    {
     "data": {
      "text/plain": [
       "None"
      ]
     },
     "metadata": {},
     "output_type": "display_data"
    }
   ],
   "source": [
    "no_ids = [c for c in data.columns if c[-3:] != '_id' and c != 'code']\n",
    "data = data[no_ids]\n",
    "# data.drop(['account_frequency', 'gender', 'card_type'], axis=1, inplace=True)\n",
    "\n",
    "display(data.head())\n",
    "display(data.info())"
   ]
  },
  {
   "cell_type": "code",
   "execution_count": 3,
   "metadata": {},
   "outputs": [],
   "source": [
    "def get_features(df):\n",
    "    return df.drop('status', axis=1)\n",
    "def get_target(df):\n",
    "    return df.drop(df.columns.difference(['status']), axis=1)\n",
    "\n",
    "results = {}"
   ]
  },
  {
   "cell_type": "markdown",
   "metadata": {},
   "source": [
    "## Feature Selection\n",
    "### Wrapper Method\n",
    "Split Data into subsets and train a model using this. Based on the output of the model, add or subtract features and train the model again."
   ]
  },
  {
   "cell_type": "code",
   "execution_count": 4,
   "metadata": {},
   "outputs": [],
   "source": [
    "# originalFeatures = get_features(data)\n",
    "# x = originalFeatures\n",
    "# y = data['status']\n",
    "# x\n",
    "\n",
    "# from mlxtend.feature_selection import SequentialFeatureSelector as SFS\n",
    "# from sklearn.ensemble import RandomForestClassifier\n",
    "# # Sequential Forward Selection(sfs)\n",
    "# sfs = SFS(RandomForestClassifier(),\n",
    "#           k_features=10,\n",
    "#           forward=True,\n",
    "#           floating=False,\n",
    "#           scoring = 'accuracy',\n",
    "#           cv = 0)\n",
    "# sfs = sfs.fit(x, y)\n",
    "# pd.Dataframe.from_dict(sfs.get_metric_dict()).T"
   ]
  },
  {
   "cell_type": "markdown",
   "metadata": {},
   "source": [
    "### Encode"
   ]
  },
  {
   "cell_type": "code",
   "execution_count": 5,
   "metadata": {},
   "outputs": [],
   "source": [
    "def encode_data(df, columns):\n",
    "    from sklearn.preprocessing import OrdinalEncoder\n",
    "    le = OrdinalEncoder()\n",
    "    cols = [col for col in columns if col in df.keys()]\n",
    "    df[cols] = le.set_params(encoded_missing_value=-1).fit_transform(df[cols])\n",
    "    return df"
   ]
  },
  {
   "cell_type": "code",
   "execution_count": 6,
   "metadata": {},
   "outputs": [
    {
     "ename": "ValueError",
     "evalue": "Invalid parameter encoded_missing_value for estimator OrdinalEncoder(). Check the list of available parameters with `estimator.get_params().keys()`.",
     "output_type": "error",
     "traceback": [
      "\u001b[0;31m---------------------------------------------------------------------------\u001b[0m",
      "\u001b[0;31mValueError\u001b[0m                                Traceback (most recent call last)",
      "Cell \u001b[0;32mIn [6], line 2\u001b[0m\n\u001b[1;32m      1\u001b[0m categorical_columns \u001b[38;5;241m=\u001b[39m \u001b[38;5;28mlist\u001b[39m(data\u001b[38;5;241m.\u001b[39mselect_dtypes(\u001b[38;5;124m\"\u001b[39m\u001b[38;5;124mobject\u001b[39m\u001b[38;5;124m\"\u001b[39m)\u001b[38;5;241m.\u001b[39mcolumns)\n\u001b[0;32m----> 2\u001b[0m data \u001b[38;5;241m=\u001b[39m encode_data(data, categorical_columns)\n\u001b[1;32m      4\u001b[0m data\n",
      "Cell \u001b[0;32mIn [5], line 5\u001b[0m, in \u001b[0;36mencode_data\u001b[0;34m(df, columns)\u001b[0m\n\u001b[1;32m      3\u001b[0m le \u001b[38;5;241m=\u001b[39m OrdinalEncoder()\n\u001b[1;32m      4\u001b[0m cols \u001b[38;5;241m=\u001b[39m [col \u001b[38;5;28;01mfor\u001b[39;00m col \u001b[38;5;129;01min\u001b[39;00m columns \u001b[38;5;28;01mif\u001b[39;00m col \u001b[38;5;129;01min\u001b[39;00m df\u001b[38;5;241m.\u001b[39mkeys()]\n\u001b[0;32m----> 5\u001b[0m df[cols] \u001b[38;5;241m=\u001b[39m \u001b[43mle\u001b[49m\u001b[38;5;241;43m.\u001b[39;49m\u001b[43mset_params\u001b[49m\u001b[43m(\u001b[49m\u001b[43mencoded_missing_value\u001b[49m\u001b[38;5;241;43m=\u001b[39;49m\u001b[38;5;241;43m-\u001b[39;49m\u001b[38;5;241;43m1\u001b[39;49m\u001b[43m)\u001b[49m\u001b[38;5;241m.\u001b[39mfit_transform(df[cols])\n\u001b[1;32m      6\u001b[0m \u001b[38;5;28;01mreturn\u001b[39;00m df\n",
      "File \u001b[0;32m/Library/Frameworks/Python.framework/Versions/3.10/lib/python3.10/site-packages/sklearn/base.py:245\u001b[0m, in \u001b[0;36mBaseEstimator.set_params\u001b[0;34m(self, **params)\u001b[0m\n\u001b[1;32m    243\u001b[0m key, delim, sub_key \u001b[38;5;241m=\u001b[39m key\u001b[38;5;241m.\u001b[39mpartition(\u001b[38;5;124m\"\u001b[39m\u001b[38;5;124m__\u001b[39m\u001b[38;5;124m\"\u001b[39m)\n\u001b[1;32m    244\u001b[0m \u001b[38;5;28;01mif\u001b[39;00m key \u001b[38;5;129;01mnot\u001b[39;00m \u001b[38;5;129;01min\u001b[39;00m valid_params:\n\u001b[0;32m--> 245\u001b[0m     \u001b[38;5;28;01mraise\u001b[39;00m \u001b[38;5;167;01mValueError\u001b[39;00m(\n\u001b[1;32m    246\u001b[0m         \u001b[38;5;124m\"\u001b[39m\u001b[38;5;124mInvalid parameter \u001b[39m\u001b[38;5;132;01m%s\u001b[39;00m\u001b[38;5;124m for estimator \u001b[39m\u001b[38;5;132;01m%s\u001b[39;00m\u001b[38;5;124m. \u001b[39m\u001b[38;5;124m\"\u001b[39m\n\u001b[1;32m    247\u001b[0m         \u001b[38;5;124m\"\u001b[39m\u001b[38;5;124mCheck the list of available parameters \u001b[39m\u001b[38;5;124m\"\u001b[39m\n\u001b[1;32m    248\u001b[0m         \u001b[38;5;124m\"\u001b[39m\u001b[38;5;124mwith `estimator.get_params().keys()`.\u001b[39m\u001b[38;5;124m\"\u001b[39m \u001b[38;5;241m%\u001b[39m (key, \u001b[38;5;28mself\u001b[39m)\n\u001b[1;32m    249\u001b[0m     )\n\u001b[1;32m    251\u001b[0m \u001b[38;5;28;01mif\u001b[39;00m delim:\n\u001b[1;32m    252\u001b[0m     nested_params[key][sub_key] \u001b[38;5;241m=\u001b[39m value\n",
      "\u001b[0;31mValueError\u001b[0m: Invalid parameter encoded_missing_value for estimator OrdinalEncoder(). Check the list of available parameters with `estimator.get_params().keys()`."
     ]
    }
   ],
   "source": [
    "categorical_columns = list(data.select_dtypes(\"object\").columns)\n",
    "data = encode_data(data, categorical_columns)\n",
    "\n",
    "data"
   ]
  },
  {
   "cell_type": "markdown",
   "metadata": {},
   "source": [
    "### Split data"
   ]
  },
  {
   "cell_type": "code",
   "execution_count": null,
   "metadata": {},
   "outputs": [],
   "source": [
    "def split_data(features, target, test_size=0.25, random_state=1):\n",
    "    from sklearn.model_selection import train_test_split\n",
    "    X_train, X_test, y_train, y_test = train_test_split(features, target, test_size=test_size, random_state=random_state)\n",
    "    return X_train, X_test, y_train, y_test"
   ]
  },
  {
   "cell_type": "code",
   "execution_count": null,
   "metadata": {},
   "outputs": [],
   "source": [
    "print('Data shape:',data.shape)\n",
    "print('Status  1:',data[data['status']==1].shape)\n",
    "print('Status -1:',data[data['status']==-1].shape)\n",
    "\n",
    "_X_train, _X_test, _y_train, _y_test = split_data(get_features(data), get_target(data))\n",
    "\n",
    "print('\\nTrain shape:',_y_train.shape)\n",
    "print('Status ratio:',_y_train[_y_train['status']==1].shape[0],'|',_y_train[_y_train['status']==-1].shape[0])\n",
    "\n",
    "print('\\nTest shape:',_y_test.shape)\n",
    "print('Status ration:',_y_test[_y_test['status']==1].shape[0],'|',_y_test[_y_test['status']==-1].shape[0])"
   ]
  },
  {
   "cell_type": "markdown",
   "metadata": {},
   "source": [
    "### Resampling"
   ]
  },
  {
   "cell_type": "code",
   "execution_count": null,
   "metadata": {},
   "outputs": [],
   "source": [
    "def oversample(X_train, y_train):\n",
    "    from imblearn.over_sampling import SMOTE\n",
    "    sm = SMOTE(random_state=1, sampling_strategy=1.0)\n",
    "    X_train, y_train = sm.fit_resample(X_train, y_train)\n",
    "    return X_train, y_train"
   ]
  },
  {
   "cell_type": "code",
   "execution_count": null,
   "metadata": {},
   "outputs": [],
   "source": [
    "_smote_X_train, _smote_y_train = oversample(_X_train, _y_train)\n",
    "\n",
    "print('\\nTrain shape:',_smote_y_train.shape)\n",
    "print('Status ratio:',_smote_y_train[_smote_y_train['status']==1].shape[0],'|',_smote_y_train[_smote_y_train['status']==-1].shape[0])"
   ]
  },
  {
   "cell_type": "markdown",
   "metadata": {},
   "source": [
    "### Scaling"
   ]
  },
  {
   "cell_type": "code",
   "execution_count": null,
   "metadata": {},
   "outputs": [],
   "source": [
    "def normalize_data(X_train, X_test, scaler):\n",
    "    X_train = scaler.fit_transform(X_train)\n",
    "    X_test = scaler.fit_transform(X_test)\n",
    "    return X_train, X_test\n",
    "\n",
    "def standardize_data(X_train, X_test):\n",
    "    from sklearn.preprocessing import StandardScaler\n",
    "    return normalize_data(X_train, X_test, StandardScaler())\n",
    "def min_max_scaling(X_train, X_test):\n",
    "    from sklearn.preprocessing import MinMaxScaler\n",
    "    return normalize_data(X_train, X_test, MinMaxScaler())"
   ]
  },
  {
   "cell_type": "markdown",
   "metadata": {},
   "source": [
    "### Algorithms"
   ]
  },
  {
   "cell_type": "code",
   "execution_count": null,
   "metadata": {},
   "outputs": [],
   "source": [
    "def add_model(name, model, use_smote=False):\n",
    "    X_train = _X_train.copy()\n",
    "    X_test = _X_test.copy()\n",
    "    smote_X_train = _smote_X_train.copy()\n",
    "    if (name == 'dtc'):\n",
    "        X_train.drop(['age_on_loan_request_disc'], inplace=True, axis=1)\n",
    "        X_test.drop(['age_on_loan_request_disc'], inplace=True, axis=1)\n",
    "        smote_X_train.drop(['age_on_loan_request_disc'], inplace=True, axis=1)\n",
    "    else:\n",
    "        X_train.drop(['age_on_loan_request'], inplace=True, axis=1)\n",
    "        X_test.drop(['age_on_loan_request'], inplace=True, axis=1)\n",
    "        smote_X_train.drop(['age_on_loan_request'], inplace=True, axis=1)\n",
    "        \n",
    "    # Scaling Normalizations\n",
    "    # X_train, X_test = standardize_data(X_train, X_test)\n",
    "    # X_train, X_test = min_max_scaling(X_train, X_test)\n",
    "\n",
    "    if use_smote: model.fit(smote_X_train, np.ravel(_smote_y_train.values))\n",
    "    else: model.fit(X_train, np.ravel(_y_train.values))\n",
    "    \n",
    "    results[name] = {'model': model, \n",
    "                    'X_train': X_train, \n",
    "                    'X_test': X_test, \n",
    "                    'y_train': np.ravel(_y_train.values), \n",
    "                    'y_test': np.ravel(_y_test.values)}"
   ]
  },
  {
   "cell_type": "code",
   "execution_count": null,
   "metadata": {},
   "outputs": [],
   "source": [
    "SMOTE = True"
   ]
  },
  {
   "cell_type": "code",
   "execution_count": null,
   "metadata": {},
   "outputs": [],
   "source": [
    "from sklearn.tree import DecisionTreeClassifier\n",
    "add_model('dtc',\n",
    "    DecisionTreeClassifier(),\n",
    "    use_smote=SMOTE\n",
    ")"
   ]
  },
  {
   "cell_type": "code",
   "execution_count": null,
   "metadata": {},
   "outputs": [],
   "source": [
    "from sklearn.neighbors import KNeighborsClassifier\n",
    "add_model('knn',\n",
    "    KNeighborsClassifier(),\n",
    "    use_smote=SMOTE\n",
    ")"
   ]
  },
  {
   "cell_type": "code",
   "execution_count": null,
   "metadata": {},
   "outputs": [],
   "source": [
    "from sklearn.neural_network import MLPClassifier\n",
    "add_model('mlp',\n",
    "    MLPClassifier(),\n",
    "    use_smote=SMOTE\n",
    ")"
   ]
  },
  {
   "cell_type": "code",
   "execution_count": null,
   "metadata": {},
   "outputs": [],
   "source": [
    "from sklearn.naive_bayes import GaussianNB\n",
    "add_model('gnb',\n",
    "    GaussianNB(),\n",
    "    use_smote=SMOTE\n",
    ")"
   ]
  },
  {
   "cell_type": "code",
   "execution_count": null,
   "metadata": {},
   "outputs": [],
   "source": [
    "from sklearn.svm import SVC\n",
    "add_model('svc',\n",
    "    SVC(probability=True),\n",
    "    use_smote=SMOTE\n",
    ")"
   ]
  },
  {
   "cell_type": "code",
   "execution_count": null,
   "metadata": {},
   "outputs": [],
   "source": [
    "from sklearn.ensemble import RandomForestClassifier\n",
    "add_model('rf',\n",
    "    RandomForestClassifier(),\n",
    "    use_smote=SMOTE\n",
    ")"
   ]
  },
  {
   "cell_type": "markdown",
   "metadata": {},
   "source": [
    "### Randomized Search"
   ]
  },
  {
   "cell_type": "code",
   "execution_count": null,
   "metadata": {},
   "outputs": [],
   "source": [
    "SEARCH = False"
   ]
  },
  {
   "cell_type": "code",
   "execution_count": null,
   "metadata": {},
   "outputs": [],
   "source": [
    "def add_model_rs(name, model, space={}):\n",
    "    import json\n",
    "    from datetime import datetime\n",
    "    from sklearn.model_selection import RandomizedSearchCV\n",
    "    X = get_features(data)\n",
    "    y = np.ravel(get_target(data).values)\n",
    "    if (name == 'dtc'):\n",
    "        X.drop(['age_on_loan_request_disc'], inplace=True, axis=1)\n",
    "    else:\n",
    "        X.drop(['age_on_loan_request'], inplace=True, axis=1)\n",
    "        \n",
    "    # Scaling Normalizations\n",
    "    # X_train, X_test = standardize_data(X_train, X_test)\n",
    "    # X_train, X_test = min_max_scaling(X_train, X_test)\n",
    "\n",
    "    search = RandomizedSearchCV(model, space, n_iter=500, scoring='roc_auc', n_jobs=-1, random_state=0, cv=5)\n",
    "    search.fit(X, y)\n",
    "    results[name] = {# 'search': search.best_estimator_,\n",
    "                    'best_params': search.best_params_,\n",
    "                    'best_score': search.best_score_}\n",
    "                    #'X': X,\n",
    "                    #'y': y}\n",
    "    with open('random_search_results/'+name+'_'+str(datetime.timestamp(datetime.now()))+'.json', 'w') as f:\n",
    "        json.dump(results[name], f)"
   ]
  },
  {
   "cell_type": "code",
   "execution_count": null,
   "metadata": {},
   "outputs": [],
   "source": [
    "from sklearn.tree import DecisionTreeClassifier\n",
    "if SEARCH:\n",
    "    add_model_rs('dtc',\n",
    "        DecisionTreeClassifier(),\n",
    "        space={\n",
    "            'criterion': ['gini', 'entropy'],\n",
    "            'max_depth': [None, 2, 4, 6, 8, 10, 12, 14, 16, 18, 20],\n",
    "            'min_samples_split': [2, 4, 6, 8, 10, 12, 14, 16, 18, 20],\n",
    "            'min_samples_leaf': [1, 2, 3, 4, 5, 6, 7, 8, 9, 10],\n",
    "            'max_features': [None, 'auto', 'sqrt', 'log2'],\n",
    "        }\n",
    "    )"
   ]
  },
  {
   "cell_type": "code",
   "execution_count": null,
   "metadata": {},
   "outputs": [],
   "source": [
    "from sklearn.neighbors import KNeighborsClassifier\n",
    "if SEARCH:\n",
    "    add_model_rs('knn',\n",
    "        KNeighborsClassifier(),\n",
    "        space={\n",
    "            'n_neighbors': [1, 2, 3, 4, 5, 6, 7, 8, 9, 10],\n",
    "            'weights': ['uniform', 'distance'],\n",
    "            'algorithm': ['auto', 'ball_tree', 'kd_tree', 'brute']\n",
    "        }\n",
    "    )"
   ]
  },
  {
   "cell_type": "code",
   "execution_count": null,
   "metadata": {},
   "outputs": [],
   "source": [
    "from sklearn.neural_network import MLPClassifier\n",
    "if SEARCH:\n",
    "    add_model_rs('mlp',\n",
    "        MLPClassifier(),\n",
    "        space={\n",
    "            \n",
    "        }\n",
    "    )"
   ]
  },
  {
   "cell_type": "code",
   "execution_count": null,
   "metadata": {},
   "outputs": [],
   "source": [
    "from sklearn.naive_bayes import GaussianNB\n",
    "if SEARCH:\n",
    "    add_model_rs('gnb',\n",
    "        GaussianNB(),\n",
    "        space={\n",
    "            \n",
    "        }\n",
    "    )"
   ]
  },
  {
   "cell_type": "code",
   "execution_count": null,
   "metadata": {},
   "outputs": [],
   "source": [
    "from sklearn.svm import SVC\n",
    "if SEARCH:\n",
    "    add_model_rs('svc',\n",
    "        SVC(probability=True),\n",
    "        space={\n",
    "            'C': [0.001, 0.01, 0.1, 1, 10, 100, 1000],\n",
    "            'kernel': ['linear', 'poly', 'rbf', 'sigmoid'],\n",
    "            'degree': [1, 2, 3, 4, 5, 6, 7, 8, 9, 10],\n",
    "            'gamma': ['scale', 'auto'],\n",
    "            'coef0': [0.0, 0.1, 0.2, 0.3, 0.4, 0.5, 0.6, 0.7, 0.8, 0.9, 1.0],\n",
    "            'shrinking': [True, False],\n",
    "            'probability': [True],\n",
    "            'tol': [0.001, 0.0001, 0.00001],\n",
    "            'cache_size': [200],\n",
    "            'class_weight': [None, 'balanced'],\n",
    "            'verbose': [False],\n",
    "            'max_iter': [-1],\n",
    "            'decision_function_shape': ['ovo', 'ovr'],\n",
    "            'break_ties': [False],\n",
    "            'random_state': [None],\n",
    "        }\n",
    "    )"
   ]
  },
  {
   "cell_type": "code",
   "execution_count": null,
   "metadata": {},
   "outputs": [],
   "source": [
    "from sklearn.ensemble import RandomForestClassifier\n",
    "if SEARCH:\n",
    "    add_model_rs('rf',\n",
    "        RandomForestClassifier(),\n",
    "        space={\n",
    "            'n_estimators': [10, 20, 30, 40, 50, 60, 70, 80, 90, 100],\n",
    "            'criterion': ['gini', 'entropy'],\n",
    "            'max_depth': [None, 2, 4, 6, 8, 10, 12, 14, 16, 18, 20],\n",
    "            'min_samples_split': [2, 4, 6, 8, 10, 12, 14, 16, 18, 20],\n",
    "            'min_samples_leaf': [1, 2, 3, 4, 5, 6, 7, 8, 9, 10],\n",
    "            'max_features': [None, 'auto', 'sqrt', 'log2'],\n",
    "            'bootstrap': [True, False],\n",
    "            'oob_score': [False],\n",
    "            'n_jobs': [-1],\n",
    "            'random_state': [None],\n",
    "            'verbose': [0],\n",
    "            'warm_start': [False],\n",
    "            'class_weight': [None, 'balanced'],\n",
    "            'ccp_alpha': [0.0],\n",
    "        }\n",
    "    )"
   ]
  },
  {
   "cell_type": "markdown",
   "metadata": {},
   "source": [
    "## Prediction"
   ]
  },
  {
   "cell_type": "code",
   "execution_count": null,
   "metadata": {},
   "outputs": [],
   "source": [
    "def predict(name, isTrain=False):\n",
    "    prefix = 'train' if isTrain else 'test'\n",
    "    result = results[name]\n",
    "    pred = result['model'].predict(result['X_'+prefix])\n",
    "    result[prefix+'pred'] = pred\n",
    "\n",
    "for name in results.keys():\n",
    "    predict(name)\n",
    "for name in results.keys():\n",
    "    predict(name, isTrain=True)"
   ]
  },
  {
   "cell_type": "code",
   "execution_count": null,
   "metadata": {},
   "outputs": [],
   "source": [
    "def predict_proba(name, isTrain=False):\n",
    "    prefix = 'train' if isTrain else 'test'\n",
    "    result = results[name]\n",
    "    proba = result['model'].predict_proba(result['X_'+prefix])\n",
    "    result[prefix+'pred_prob'] = proba\n",
    "\n",
    "for name in results.keys():\n",
    "    predict_proba(name)\n",
    "for name in results.keys():\n",
    "    predict_proba(name, isTrain=True)\n"
   ]
  },
  {
   "cell_type": "markdown",
   "metadata": {},
   "source": [
    "## Evaluation"
   ]
  },
  {
   "cell_type": "code",
   "execution_count": null,
   "metadata": {},
   "outputs": [],
   "source": [
    "def recall(cm, i):\n",
    "    return cm[i][i]/sum(cm[i]) if sum(cm[i]) > 0 else np.inf\n",
    "\n",
    "def precision(cm, i):\n",
    "    cmt = np.copy(cm).transpose()\n",
    "    return cm[i][i]/sum(cmt[i]) if sum(cmt[i]) > 0 else np.inf\n",
    "\n",
    "def f_measure(cm, i):\n",
    "    p = precision(cm, i)*100\n",
    "    r = recall(cm, i)*100\n",
    "    return 2 * (p * r) / (p + r) if p != np.inf and r != np.inf and p + r > 0 else np.nan"
   ]
  },
  {
   "cell_type": "code",
   "execution_count": null,
   "metadata": {},
   "outputs": [],
   "source": [
    "from matplotlib.figure import Figure\n",
    "from sklearn.metrics import confusion_matrix, ConfusionMatrixDisplay\n",
    "def conf_matrix(y_test, y_pred, name, prefix):\n",
    "    cm =  confusion_matrix(y_test, y_pred)\n",
    "    disp = ConfusionMatrixDisplay(cm, display_labels=['True', 'False'])\n",
    "    disp.plot()\n",
    "    disp.ax_.set_title(name + ' ' + prefix)"
   ]
  },
  {
   "cell_type": "markdown",
   "metadata": {},
   "source": [
    "### Accuracy"
   ]
  },
  {
   "cell_type": "code",
   "execution_count": null,
   "metadata": {},
   "outputs": [],
   "source": [
    "def score(name, isTrain=False):\n",
    "    prefix = 'train' if isTrain else 'test'\n",
    "    result = results[name]\n",
    "    result[prefix+'score'] = result['model'].score(result['X_'+prefix], result['y_'+prefix])\n",
    "    print(name.upper()+\":\\t\", result[prefix+'score'])\n",
    "\n",
    "print('\\tAccuracy')\n",
    "print(\"Test\")\n",
    "for name in results.keys():\n",
    "    score(name)\n",
    "print(\"\\nTrain\")\n",
    "for name in results.keys():\n",
    "    score(name, isTrain=True)"
   ]
  },
  {
   "cell_type": "markdown",
   "metadata": {},
   "source": [
    "### Precision, Recall and F-measure"
   ]
  },
  {
   "cell_type": "code",
   "execution_count": null,
   "metadata": {},
   "outputs": [],
   "source": [
    "def evaluate(name, isTrain=False):\n",
    "    prefix = 'train' if isTrain else 'test'\n",
    "    result = results[name]\n",
    "    cm =  confusion_matrix(result['y_'+prefix], result[prefix+'pred'])\n",
    "    print(prefix, name.upper()+\":\", '\\tRecall:',round(recall(cm, 0), 2), '\\t Precision:',round(precision(cm, 0), 2), '\\tF_Measure:',round(f_measure(cm, 0), 2))\n",
    "\n",
    "print('Test')\n",
    "for name in results.keys():\n",
    "    evaluate(name)\n",
    "print('\\nTrain')\n",
    "for name in results.keys():\n",
    "    evaluate(name, isTrain=True)\n"
   ]
  },
  {
   "cell_type": "markdown",
   "metadata": {},
   "source": [
    "### Confusion Matrix"
   ]
  },
  {
   "cell_type": "code",
   "execution_count": null,
   "metadata": {},
   "outputs": [],
   "source": [
    "prob = 0.50\n",
    "\n",
    "prefixes = ('test', 'train')\n",
    "for prefix in prefixes[:1]:\n",
    "    for name in results.keys():\n",
    "        result = results[name]\n",
    "        prefix = 'test'\n",
    "        conf_matrix(result['y_'+prefix], np.where(result[prefix+'pred_prob'][:,-1] > prob, 1, -1), name, prefix)"
   ]
  },
  {
   "cell_type": "markdown",
   "metadata": {},
   "source": [
    "### AUC"
   ]
  },
  {
   "cell_type": "code",
   "execution_count": null,
   "metadata": {},
   "outputs": [],
   "source": [
    "from sklearn.metrics import roc_curve, RocCurveDisplay, auc\n",
    "import matplotlib.pyplot as plt\n",
    "\n",
    "def roc_and_auc(name, isTrain=False):\n",
    "    fig, ax = plt.subplots()\n",
    "    for prefix in ('test', 'train'):\n",
    "        result = results[name]\n",
    "        fpr, tpr, thresholds = roc_curve(result['y_'+prefix], result[prefix+'pred_prob'][:,0], pos_label=result['model'].classes_[0])\n",
    "        roc_display = RocCurveDisplay(fpr=fpr, tpr=tpr).plot(ax=ax,name=(name.upper()+' '+prefix))\n",
    "        print(name.upper(), prefix + \":\\t\", auc(fpr, tpr))\n",
    "\n",
    "for name in results.keys():\n",
    "    roc_and_auc(name)"
   ]
  }
 ],
 "metadata": {
  "kernelspec": {
   "display_name": "Python 3 (ipykernel)",
   "language": "python",
   "name": "python3"
  },
  "language_info": {
   "codemirror_mode": {
    "name": "ipython",
    "version": 3
   },
   "file_extension": ".py",
   "mimetype": "text/x-python",
   "name": "python",
   "nbconvert_exporter": "python",
   "pygments_lexer": "ipython3",
   "version": "3.10.3"
  },
  "vscode": {
   "interpreter": {
    "hash": "916dbcbb3f70747c44a77c7bcd40155683ae19c65e1c03b4aa3499c5328201f1"
   }
  }
 },
 "nbformat": 4,
 "nbformat_minor": 2
}
