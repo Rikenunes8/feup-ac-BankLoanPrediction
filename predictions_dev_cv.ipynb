{
 "cells": [
  {
   "cell_type": "markdown",
   "metadata": {},
   "source": [
    "# Models and Evaluation"
   ]
  },
  {
   "cell_type": "code",
   "execution_count": null,
   "metadata": {},
   "outputs": [],
   "source": [
    "import pandas as pd\n",
    "import numpy as np\n",
    "from IPython.display import display\n",
    "\n",
    "ALL_DATA = False\n",
    "use_smote = True\n",
    "\n",
    "if ALL_DATA: data = pd.read_csv('data_processed/complete/enc_data.csv')\n",
    "else: data = pd.read_csv('data_processed/complete/data_selected.csv').drop('loan_id', axis=1)\n",
    "\n",
    "display(data.head())"
   ]
  },
  {
   "cell_type": "code",
   "execution_count": null,
   "metadata": {},
   "outputs": [],
   "source": [
    "def get_features(df):\n",
    "    return df.drop('status', axis=1)\n",
    "def get_target(df):\n",
    "    return df['status']\n",
    "\n",
    "results = {}"
   ]
  },
  {
   "cell_type": "code",
   "execution_count": null,
   "metadata": {},
   "outputs": [],
   "source": [
    "from imblearn.over_sampling import SMOTE\n",
    "from imblearn.pipeline import Pipeline as imbpipeline\n",
    "\n",
    "def make_pipeline(classifier, smote = False):\n",
    "    steps = []\n",
    "    if smote: steps.append(['smote', SMOTE(random_state=1, sampling_strategy=1.0)])\n",
    "    steps.append(['classifier', classifier])\n",
    "    return imbpipeline(steps = steps)"
   ]
  },
  {
   "cell_type": "code",
   "execution_count": null,
   "metadata": {},
   "outputs": [],
   "source": [
    "from sklearn.model_selection import RepeatedStratifiedKFold, StratifiedKFold\n",
    "\n",
    "stratified_kfold = RepeatedStratifiedKFold(n_splits=10, n_repeats=3, random_state=1)"
   ]
  },
  {
   "cell_type": "code",
   "execution_count": null,
   "metadata": {},
   "outputs": [],
   "source": [
    "from sklearn.model_selection import cross_validate\n",
    "\n",
    "def cross_validation(name, model, df=data, cv=stratified_kfold):\n",
    "    model = make_pipeline(model, smote=use_smote)\n",
    "    scores = cross_validate(model, get_features(df), get_target(df), scoring='roc_auc', cv=cv)['test_score']\n",
    "\n",
    "    results[name] = scores\n",
    "    print(name, scores.mean(), scores.std())"
   ]
  },
  {
   "cell_type": "markdown",
   "metadata": {},
   "source": [
    "### Algorithms"
   ]
  },
  {
   "cell_type": "code",
   "execution_count": null,
   "metadata": {},
   "outputs": [],
   "source": [
    "from sklearn.tree import DecisionTreeClassifier\n",
    "cross_validation('DT',\n",
    "    DecisionTreeClassifier(\n",
    "        criterion= \"entropy\",\n",
    "        max_depth= 17,\n",
    "        max_features= \"sqrt\",\n",
    "        max_leaf_nodes= 13,\n",
    "        min_samples_leaf= 4,\n",
    "        min_samples_split= 2\n",
    "    ),\n",
    ")"
   ]
  },
  {
   "cell_type": "code",
   "execution_count": null,
   "metadata": {},
   "outputs": [],
   "source": [
    "from sklearn.neighbors import KNeighborsClassifier\n",
    "cross_validation('KNN',\n",
    "    KNeighborsClassifier(\n",
    "        algorithm= \"auto\",\n",
    "        n_neighbors= 11,\n",
    "        weights= \"distance\"\n",
    "    ),\n",
    ")"
   ]
  },
  {
   "cell_type": "code",
   "execution_count": null,
   "metadata": {},
   "outputs": [],
   "source": [
    "from sklearn.neural_network import MLPClassifier\n",
    "cross_validation('MLP',\n",
    "    MLPClassifier(),\n",
    ")"
   ]
  },
  {
   "cell_type": "code",
   "execution_count": null,
   "metadata": {},
   "outputs": [],
   "source": [
    "from sklearn.naive_bayes import GaussianNB\n",
    "cross_validation('GNB',\n",
    "    GaussianNB(),\n",
    ")"
   ]
  },
  {
   "cell_type": "code",
   "execution_count": null,
   "metadata": {},
   "outputs": [],
   "source": [
    "from sklearn.svm import SVC\n",
    "cross_validation('SVM',\n",
    "    SVC(\n",
    "        probability=True,\n",
    "        max_iter=10000,\n",
    "        C= 1,\n",
    "        coef0= 0.0,\n",
    "        degree= 3,\n",
    "        gamma= 'scale',\n",
    "        kernel= 'poly',\n",
    "        shrinking= True,\n",
    "        tol= 0.0001\n",
    "    ),\n",
    ")"
   ]
  },
  {
   "cell_type": "code",
   "execution_count": null,
   "metadata": {
    "scrolled": false
   },
   "outputs": [],
   "source": [
    "from sklearn.linear_model import LogisticRegression\n",
    "cross_validation('LR',\n",
    "    LogisticRegression(\n",
    "        max_iter=10000,\n",
    "        C= 100,\n",
    "        fit_intercept= False,\n",
    "        solver= 'newton-cg',\n",
    "        tol= 0.001\n",
    "    )\n",
    ")"
   ]
  },
  {
   "cell_type": "code",
   "execution_count": null,
   "metadata": {},
   "outputs": [],
   "source": [
    "from sklearn.ensemble import RandomForestClassifier\n",
    "cross_validation('RF',\n",
    "    RandomForestClassifier(\n",
    "        criterion= 'entropy',\n",
    "        max_depth= 18,\n",
    "        max_features= 'sqrt',\n",
    "        n_estimators= 40\n",
    "    ),\n",
    ")"
   ]
  },
  {
   "cell_type": "code",
   "execution_count": null,
   "metadata": {},
   "outputs": [],
   "source": [
    "from sklearn.ensemble import GradientBoostingClassifier\n",
    "cross_validation('GB',\n",
    "    GradientBoostingClassifier(),\n",
    ")"
   ]
  },
  {
   "cell_type": "markdown",
   "metadata": {},
   "source": [
    "### Evaluation"
   ]
  },
  {
   "cell_type": "code",
   "execution_count": null,
   "metadata": {},
   "outputs": [],
   "source": [
    "import seaborn as sb\n",
    "import matplotlib.pyplot as plt\n",
    "\n",
    "plt.figure(figsize=(10, 6))\n",
    "sb.boxplot(data=pd.DataFrame(results))\n",
    "sb.stripplot(data=pd.DataFrame(results), color='black')\n",
    "plt.title('AUC for each model with CV and SMOTE')\n",
    "plt.show()"
   ]
  },
  {
   "cell_type": "code",
   "execution_count": null,
   "metadata": {},
   "outputs": [],
   "source": [
    "for name, scores in results.items():\n",
    "    print(name, scores.mean())"
   ]
  }
 ],
 "metadata": {
  "kernelspec": {
   "display_name": "Python 3 (ipykernel)",
   "language": "python",
   "name": "python3"
  },
  "language_info": {
   "codemirror_mode": {
    "name": "ipython",
    "version": 3
   },
   "file_extension": ".py",
   "mimetype": "text/x-python",
   "name": "python",
   "nbconvert_exporter": "python",
   "pygments_lexer": "ipython3",
   "version": "3.10.6"
  },
  "vscode": {
   "interpreter": {
    "hash": "916dbcbb3f70747c44a77c7bcd40155683ae19c65e1c03b4aa3499c5328201f1"
   }
  }
 },
 "nbformat": 4,
 "nbformat_minor": 2
}
