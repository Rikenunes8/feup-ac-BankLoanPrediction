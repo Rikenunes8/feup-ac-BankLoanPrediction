{
 "cells": [
  {
   "cell_type": "markdown",
   "metadata": {},
   "source": [
    "# Data Preparation"
   ]
  },
  {
   "cell_type": "code",
   "execution_count": null,
   "metadata": {},
   "outputs": [],
   "source": [
    "import pandas as pd\n",
    "import numpy as np\n",
    "from IPython.display import display\n",
    "\n",
    "DEV = True\n",
    "\n",
    "loans = pd.read_csv('data/loan_dev.csv', dtype={'date':object}) if DEV else pd.read_csv('kaggle/loan_comp.csv', dtype={'date':object}, sep=';')\n",
    "account = pd.read_csv('data/account.csv', dtype={'date':object})\n",
    "cards = pd.read_csv('data/card_dev.csv', dtype={'issued':object}) if DEV else pd.read_csv('kaggle/card_comp.csv', dtype={'issued':object}, sep=';')\n",
    "client = pd.read_csv('data/client.csv')\n",
    "disposition = pd.read_csv('data/disp.csv')\n",
    "district = pd.read_csv('data/district.csv')\n",
    "trans = pd.read_csv('data/trans_dev.csv', dtype={'date':object}) if DEV else pd.read_csv('kaggle/trans_comp.csv', dtype={'date':object}, sep=';')\n",
    "\n",
    "pd.set_option('display.max_columns', None)\n"
   ]
  },
  {
   "cell_type": "markdown",
   "metadata": {},
   "source": [
    "## Loan preparation"
   ]
  },
  {
   "cell_type": "markdown",
   "metadata": {},
   "source": [
    "### Save"
   ]
  },
  {
   "cell_type": "code",
   "execution_count": null,
   "metadata": {},
   "outputs": [],
   "source": [
    "loans.rename(columns={'date':'loan_date', 'amount': 'loan_amount', 'duration': 'loan_duration', 'payments': 'loan_payments' }, inplace=True)\n",
    "loans.to_csv('data_processed/' + ('loan_dev' if DEV else 'loan_comp') + '.csv', index=False)\n",
    "loans"
   ]
  },
  {
   "cell_type": "markdown",
   "metadata": {},
   "source": [
    "## Account preparation"
   ]
  },
  {
   "cell_type": "code",
   "execution_count": null,
   "metadata": {},
   "outputs": [],
   "source": [
    "account.drop(['date'], inplace=True, axis=1)"
   ]
  },
  {
   "cell_type": "markdown",
   "metadata": {},
   "source": [
    "### Save"
   ]
  },
  {
   "cell_type": "code",
   "execution_count": null,
   "metadata": {},
   "outputs": [],
   "source": [
    "account.rename(columns={'frequency':'account_frequency', 'district_id': 'account_district_id'}, inplace=True)\n",
    "account.to_csv('data_processed/account.csv', index=False)\n",
    "account"
   ]
  },
  {
   "cell_type": "markdown",
   "metadata": {},
   "source": [
    "## Card preparation"
   ]
  },
  {
   "cell_type": "markdown",
   "metadata": {},
   "source": [
    "There are only a few loans associated with a credit card"
   ]
  },
  {
   "cell_type": "code",
   "execution_count": null,
   "metadata": {},
   "outputs": [],
   "source": [
    "cards.drop([\"issued\"], inplace=True, axis=1)\n",
    "cards = cards.fillna({'type': 'unkown'})"
   ]
  },
  {
   "cell_type": "markdown",
   "metadata": {},
   "source": [
    "### Save"
   ]
  },
  {
   "cell_type": "code",
   "execution_count": null,
   "metadata": {},
   "outputs": [],
   "source": [
    "cards.rename(columns={'type':'card_type', 'disp_id': 'card_disp_id'}, inplace=True)\n",
    "cards.to_csv('data_processed/' + ('card_dev' if DEV else 'card_comp') + '.csv', index=False)"
   ]
  },
  {
   "cell_type": "markdown",
   "metadata": {},
   "source": [
    "## Client preparation"
   ]
  },
  {
   "cell_type": "markdown",
   "metadata": {},
   "source": [
    "### Extract gender and normalize dates\n",
    "Since the birth date of each client is represented as YYMMDD when 'Male' or YY(MM+50)DD when 'Female' the gender was extracted as a new feature and the Female client's birth date modified to YYMMDD, the same as Male clients.\n",
    "Female = False\n",
    "Male = True"
   ]
  },
  {
   "cell_type": "code",
   "execution_count": null,
   "metadata": {},
   "outputs": [],
   "source": [
    "from datetime import datetime, timedelta\n",
    "\n",
    "def extract_gender(date):\n",
    "    month = int(str(date)[2:4])\n",
    "    gender = ''\n",
    "    if month > 12:\n",
    "        month -= 50\n",
    "        gender = 'Female'\n",
    "    else: \n",
    "        gender = 'Male'\n",
    "    new_date = str(date)[:2] + str(month).zfill(2) + str(date)[4:]\n",
    "    return (new_date, gender)"
   ]
  },
  {
   "cell_type": "code",
   "execution_count": null,
   "metadata": {},
   "outputs": [],
   "source": [
    "genders = []\n",
    "dates = []\n",
    "\n",
    "for birth_number in client['birth_number']:\n",
    "    (new_date, gender) = extract_gender(birth_number)\n",
    "    dates.append(new_date)\n",
    "    genders.append(gender)\n",
    "\n",
    "client['birth_number'] = dates\n",
    "client['gender'] = genders"
   ]
  },
  {
   "cell_type": "markdown",
   "metadata": {},
   "source": [
    "### Save"
   ]
  },
  {
   "cell_type": "code",
   "execution_count": null,
   "metadata": {},
   "outputs": [],
   "source": [
    "client.rename(columns={'district_id': 'client_district_id'}, inplace=True)\n",
    "client.to_csv('data_processed/client.csv', index=False)"
   ]
  },
  {
   "cell_type": "markdown",
   "metadata": {},
   "source": [
    "## Disposition preparation"
   ]
  },
  {
   "cell_type": "markdown",
   "metadata": {},
   "source": [
    "### Remove disponent clients and add to the account's owner entry\n",
    "Without this chenage more than one client were associated to a single account_id. This was a problem when merging Dispositions Loans tables since this would lead to several entries with the same loan_id and target classes replicated."
   ]
  },
  {
   "cell_type": "code",
   "execution_count": null,
   "metadata": {},
   "outputs": [],
   "source": [
    "disp_owners = disposition.loc[disposition['type'] == 'OWNER'].copy()\n",
    "disp_disponent = disposition.loc[disposition['type'] == 'DISPONENT'].copy()\n",
    "\n",
    "has_disponent = [id in disp_disponent['account_id'].values for id in disp_owners['account_id'].values]\n",
    "\n",
    "disp_owners['has_disponent'] = has_disponent\n",
    "disp_owners.drop('type', inplace=True, axis=1)\n",
    "display(disp_owners)"
   ]
  },
  {
   "cell_type": "markdown",
   "metadata": {},
   "source": [
    "### Save"
   ]
  },
  {
   "cell_type": "code",
   "execution_count": null,
   "metadata": {},
   "outputs": [],
   "source": [
    "disp_owners.to_csv('data_processed/disp.csv', index=False)"
   ]
  },
  {
   "cell_type": "markdown",
   "metadata": {},
   "source": [
    "## District preparation"
   ]
  },
  {
   "cell_type": "markdown",
   "metadata": {},
   "source": [
    "### Clean missing values"
   ]
  },
  {
   "cell_type": "markdown",
   "metadata": {},
   "source": [
    "By analysing the box plots, we found out that the data values for \"no. of commited crimes '95\" and \"unemploymant rate '95\" are not symmetrical and there are outliers, therefore it would be best to use median instead of mean to replace the cells with '?'. \n",
    "Even tho, the missing values will be replaced according to a **linear regression**."
   ]
  },
  {
   "cell_type": "code",
   "execution_count": null,
   "metadata": {
    "scrolled": false
   },
   "outputs": [],
   "source": [
    "\n",
    "def replace_by_median(district):\n",
    "    district_clean = district.loc[(district[\"unemploymant rate '95\"] != '?') & (district[\"no. of commited crimes '95\"] != '?')]\n",
    "    median_unemploymant = district_clean[\"unemploymant rate '95\"].astype(float).median()\n",
    "    median_commited_crimes = district_clean[\"no. of commited crimes '95\"].astype(int).median()\n",
    "\n",
    "    # \"no. of commited crimes '95\" = '?' => median_commited_crimes\n",
    "    # \"unemploymant rate '95\" = '?' => median_unemploymant\n",
    "    district.loc[district[\"no. of commited crimes '95\"] == '?', \"no. of commited crimes '95\"] = median_commited_crimes\n",
    "    district.loc[district[\"unemploymant rate '95\"] == '?', \"unemploymant rate '95\"] = median_unemploymant\n",
    "\n",
    "def replace_by_regression(district):\n",
    "    from sklearn.preprocessing import OrdinalEncoder\n",
    "    from sklearn.linear_model import LinearRegression\n",
    "    oe = OrdinalEncoder()\n",
    "    lr = LinearRegression()\n",
    "\n",
    "    district_copy = district.copy()\n",
    "    ordinal_cols = ['name', 'region']\n",
    "    district_copy[ordinal_cols] = oe.set_params(encoded_missing_value=-1).fit_transform(district_copy[ordinal_cols])\n",
    "\n",
    "    district_clean = district_copy.loc[(district[\"unemploymant rate '95\"] != '?') & (district[\"no. of commited crimes '95\"] != '?')]\n",
    "    X = district_clean.drop([\"no. of commited crimes '95\", \"unemploymant rate '95\"], axis=1)\n",
    "    \n",
    "    y1 = district_clean[\"no. of commited crimes '95\"].astype(int)\n",
    "    lr.fit(X, y1)\n",
    "    y1_pred = lr.predict(district_copy.loc[(district[\"no. of commited crimes '95\"] == '?')].drop([\"no. of commited crimes '95\", \"unemploymant rate '95\"], axis=1))\n",
    "    district.loc[(district[\"no. of commited crimes '95\"] == '?'), \"no. of commited crimes '95\"] = y1_pred\n",
    "    \n",
    "    y2 = district_clean[\"unemploymant rate '95\"].astype(float)\n",
    "    lr.fit(X, y2)\n",
    "    y2_pred = lr.predict(district_copy.loc[(district[\"unemploymant rate '95\"] == '?')].drop([\"no. of commited crimes '95\", \"unemploymant rate '95\"], axis=1))\n",
    "    district.loc[(district[\"unemploymant rate '95\"] == '?'), \"unemploymant rate '95\"] = y2_pred\n",
    "\n",
    "replace_by_regression(district)  \n",
    "\n",
    "district.head()"
   ]
  },
  {
   "cell_type": "markdown",
   "metadata": {},
   "source": [
    "### Data Cleaning"
   ]
  },
  {
   "cell_type": "code",
   "execution_count": null,
   "metadata": {},
   "outputs": [],
   "source": [
    "# values of \"no. of municipalities with inhabitants 2000-9999\" and \"no. of municipalities with inhabitants >10000\" are really small compared to the other ones\n",
    "district['no. of municipalities with inhabitants > 2000'] = district['no. of municipalities with inhabitants 2000-9999'] + district['no. of municipalities with inhabitants >10000']\n",
    "\n",
    "district.drop(columns=['no. of municipalities with inhabitants 2000-9999',\n",
    "'no. of municipalities with inhabitants >10000'], inplace=True)\n",
    "\n",
    "cols = district.columns.tolist()\n",
    "cols = cols[:6] + cols[-1:] + cols[6:-1]\n",
    "district = district[cols]\n",
    "\n",
    "district.head()"
   ]
  },
  {
   "cell_type": "markdown",
   "metadata": {},
   "source": [
    "### Feature Engineering - Ratios of entrepreneurs, urban inhabitants and rate growth"
   ]
  },
  {
   "cell_type": "code",
   "execution_count": null,
   "metadata": {},
   "outputs": [],
   "source": [
    "# Create ratios and convert percentage to 0-1\n",
    "district['ratio enterpreneurs'] = district['no. of enterpreneurs per 1000 inhabitants'] / 1000\n",
    "district['ratio of urban inhabitants'] = district['ratio of urban inhabitants'] / 100\n",
    "\n",
    "# Change rate to ratio growth\n",
    "district['unemploymant rate growth'] = pd.to_numeric(district[\"unemploymant rate '96 \"]) - pd.to_numeric(district[\"unemploymant rate '95\"])\n",
    "district['crime rate growth'] = (pd.to_numeric(district[\"no. of commited crimes '96 \"]) - pd.to_numeric(district[\"no. of commited crimes '95\"]))/pd.to_numeric(district[\"no. of inhabitants\"])\n",
    "\n",
    "district.drop(columns=['name', 'no. of enterpreneurs per 1000 inhabitants', 'no. of inhabitants',\n",
    "\"unemploymant rate '96 \", \"no. of commited crimes '96 \",\n",
    "\"unemploymant rate '95\", \"no. of commited crimes '95\"], inplace=True)\n",
    "\n",
    "district.head()"
   ]
  },
  {
   "cell_type": "markdown",
   "metadata": {},
   "source": [
    "### Save"
   ]
  },
  {
   "cell_type": "code",
   "execution_count": null,
   "metadata": {},
   "outputs": [],
   "source": [
    "district.to_csv('data_processed/district.csv', index=False)\n",
    "district"
   ]
  },
  {
   "cell_type": "markdown",
   "metadata": {},
   "source": [
    "## Transaction preparation"
   ]
  },
  {
   "cell_type": "markdown",
   "metadata": {},
   "source": [
    "### Replace missing values"
   ]
  },
  {
   "cell_type": "code",
   "execution_count": null,
   "metadata": {},
   "outputs": [],
   "source": [
    "# Replace type 'withdrawal in cash' with 'withdrawal'\n",
    "trans.replace({'type': 'withdrawal in cash'}, 'withdrawal', inplace=True)\n",
    "# Replace k_symbol '' with nan\n",
    "trans.replace({'k_symbol': ' '}, np.nan, inplace=True)\n",
    "# Replace operation 'credit card withdrawal' with 'withdrawal in cash'\n",
    "trans.replace({'operation': 'credit card withdrawal'}, 'withdrawal in cash', inplace=True)"
   ]
  },
  {
   "cell_type": "code",
   "execution_count": null,
   "metadata": {},
   "outputs": [],
   "source": [
    "# Replace NaN of operation with mode for each type\n",
    "credit_operation_mode = trans[trans['type'] == 'credit']['operation'].mode()[0]\n",
    "withdrawal_operation_mode = trans[trans['type'] == 'withdrawal']['operation'].mode()[0]\n",
    "trans['operation'] = trans.apply(lambda x: credit_operation_mode if (x['type'] == 'credit' and pd.isnull(x['operation'])) else (withdrawal_operation_mode if (x['type'] == 'withdrawal' and pd.isnull(x['operation'])) else x['operation']), axis=1)"
   ]
  },
  {
   "cell_type": "code",
   "execution_count": null,
   "metadata": {},
   "outputs": [],
   "source": [
    "# Drop columns with more than 70% of missing values\n",
    "trans.dropna(thresh=len(trans) * 0.3, axis=1, inplace=True)\n",
    "trans"
   ]
  },
  {
   "cell_type": "code",
   "execution_count": null,
   "metadata": {},
   "outputs": [],
   "source": [
    "trans.to_csv('data_processed/' + ('trans_dev_no_mv' if DEV else 'trans_comp_no_mv') + '.csv', index=False)"
   ]
  },
  {
   "cell_type": "markdown",
   "metadata": {},
   "source": [
    "### Feature Engineering - Monthly Income and last balance for each account_id"
   ]
  },
  {
   "cell_type": "code",
   "execution_count": null,
   "metadata": {},
   "outputs": [],
   "source": [
    "trans['date'] = trans['date'].apply(lambda x: '19'+x[:2]+'-'+x[2:4]+'-'+x[4:])\n",
    "trans['date'] = pd.to_datetime(trans['date']).dt.date"
   ]
  },
  {
   "cell_type": "code",
   "execution_count": null,
   "metadata": {},
   "outputs": [],
   "source": [
    "aux = trans.groupby(['account_id']).agg({'date': ['min', 'max']})\n",
    "aux.columns = ['min_date', 'max_date']\n",
    "aux = aux.reset_index(drop=False)\n",
    "aux['date_diff'] = (aux['max_date']-aux['min_date'])/np.timedelta64(1, 'M')\n",
    "aux['date_diff'] = aux['date_diff'].astype(int)\n",
    "trans = pd.merge(trans, aux[['account_id', 'date_diff']], on='account_id', how='left')\n",
    "display(trans)"
   ]
  },
  {
   "cell_type": "code",
   "execution_count": null,
   "metadata": {},
   "outputs": [],
   "source": [
    "def agg_func(data):\n",
    "    credits = data[(data['type'] == 'credit') & (data['operation'] != 'collection from another bank')]\n",
    "    withdrawals = data[(data['type'] == 'withdrawal') & (data['operation'] != 'remittance to another bank')]\n",
    "\n",
    "    return pd.Series({\n",
    "        'monthly_credit': (credits['amount'].sum() / (abs(data['date_diff'].iat[0]) + 1)) if credits.shape[0] != 0 else 0, \n",
    "        'monthly_withdrawal': (withdrawals['amount'].sum() / (abs(data['date_diff'].iat[0]) + 1)) if withdrawals.shape[0] != 0 else 0,\n",
    "        'last_balance': data['balance'].iat[-1],\n",
    "        'mean_balance': data['balance'].mean(),\n",
    "        'min_balance': data['balance'].min(),\n",
    "        'negative_balance': 1 if data['balance'].min() < 0 else 0,\n",
    "    })\n",
    "trans_agg = trans.groupby(['account_id']).apply(agg_func)\n",
    "trans_agg = trans_agg.reset_index(drop=False)\n",
    "trans_agg['monthly_diff'] = (trans_agg['monthly_credit'] - trans_agg['monthly_withdrawal']).astype(int)\n",
    "trans_agg = trans_agg.drop(['monthly_credit', 'monthly_withdrawal'], axis=1)\n",
    "trans_agg"
   ]
  },
  {
   "cell_type": "markdown",
   "metadata": {},
   "source": [
    "### Save"
   ]
  },
  {
   "cell_type": "code",
   "execution_count": null,
   "metadata": {},
   "outputs": [],
   "source": [
    "trans_agg.to_csv('data_processed/' + ('trans_dev' if DEV else 'trans_comp') + '.csv', index=False)"
   ]
  },
  {
   "cell_type": "markdown",
   "metadata": {},
   "source": [
    "## Data Integration"
   ]
  },
  {
   "cell_type": "code",
   "execution_count": null,
   "metadata": {},
   "outputs": [],
   "source": [
    "loans = pd.read_csv('data_processed/loan_dev.csv', dtype={'date':object}) if DEV else pd.read_csv('data_processed/loan_comp.csv')\n",
    "account = pd.read_csv('data_processed/account.csv', dtype={'date':object})\n",
    "cards = pd.read_csv('data_processed/card_dev.csv', dtype={'issued':object}) if DEV else pd.read_csv('data_processed/card_comp.csv')\n",
    "client = pd.read_csv('data_processed/client.csv')\n",
    "disposition = pd.read_csv('data_processed/disp.csv')\n",
    "district = pd.read_csv('data_processed/district.csv')\n",
    "trans = pd.read_csv('data_processed/trans_dev.csv', dtype={'date':object}) if DEV else pd.read_csv('data_processed/trans_comp.csv')\n",
    "\n",
    "pd.set_option('display.max_columns', None)\n"
   ]
  },
  {
   "cell_type": "markdown",
   "metadata": {},
   "source": [
    "### Join tables"
   ]
  },
  {
   "cell_type": "code",
   "execution_count": null,
   "metadata": {},
   "outputs": [],
   "source": [
    "data = pd.merge(loans, account, left_on=\"account_id\", right_on=\"account_id\", how='left')\n",
    "data = pd.merge(data, disp_owners, left_on=\"account_id\", right_on=\"account_id\", how='left')\n",
    "data = pd.merge(data, client, left_on=\"client_id\", right_on=\"client_id\", how='left')\n",
    "data = pd.merge(data, cards, left_on=\"disp_id\", right_on=\"card_disp_id\", how='left')\n",
    "data = pd.merge(data, trans, left_on='account_id', right_on='account_id', how='left')\n",
    "data = pd.merge(data, district, left_on=\"client_district_id\", right_on=\"code\", how='left')\n",
    "display(data.head())"
   ]
  },
  {
   "cell_type": "markdown",
   "metadata": {},
   "source": [
    "### Feature Engineering - Has credit card or not"
   ]
  },
  {
   "cell_type": "code",
   "execution_count": null,
   "metadata": {},
   "outputs": [],
   "source": [
    "data['has_card'] = data['card_id'].notnull()\n",
    "display(data.head())"
   ]
  },
  {
   "cell_type": "markdown",
   "metadata": {},
   "source": [
    "### Drop columns with more than 70% of missing values"
   ]
  },
  {
   "cell_type": "code",
   "execution_count": null,
   "metadata": {},
   "outputs": [],
   "source": [
    "# Drop columns with more than 70% of missing values\n",
    "status = data['status']\n",
    "data.drop(['status'], axis=1, inplace=True)\n",
    "data.dropna(thresh=len(data) * 0.3, axis=1, inplace=True)\n",
    "data = pd.concat([status, data], axis=1)\n",
    "display(data.head())"
   ]
  },
  {
   "cell_type": "markdown",
   "metadata": {},
   "source": [
    "### Feature Engineering - Age of the client at the loan time"
   ]
  },
  {
   "cell_type": "code",
   "execution_count": null,
   "metadata": {},
   "outputs": [],
   "source": [
    "def get_datetime(date):\n",
    "    year = int(str(date)[0:2]) + 1900\n",
    "    month = int(str(date)[2:4])\n",
    "    day = int(str(date)[4:])\n",
    "    return datetime(year, month, day)\n",
    "\n",
    "def calc_age(birth_date, other_date):\n",
    "    diff:timedelta = get_datetime(other_date) - get_datetime(birth_date)\n",
    "    return round(diff.days / 365.25)\n"
   ]
  },
  {
   "cell_type": "code",
   "execution_count": null,
   "metadata": {},
   "outputs": [],
   "source": [
    "data['age_on_loan_request'] = data.apply(lambda x: calc_age(x['birth_number'], x['loan_date']), axis=1)\n",
    "data.drop('loan_date', inplace=True, axis=1)\n",
    "data.drop('birth_number', inplace=True, axis=1)\n",
    "data"
   ]
  },
  {
   "cell_type": "markdown",
   "metadata": {},
   "source": [
    "### Discretizations"
   ]
  },
  {
   "cell_type": "markdown",
   "metadata": {},
   "source": [
    "##### Age on loan request"
   ]
  },
  {
   "cell_type": "code",
   "execution_count": null,
   "metadata": {},
   "outputs": [],
   "source": [
    "data['age_on_loan_request_disc'] = pd.cut(x=data['age_on_loan_request'], bins=[0, 9, 19, 29, 39, 49, 59, 69, 79, 89], labels=['0-9', '10-19', '20-29', '30-39', '40-49', '50-59', '60-69', '70-79', '80-89'])\n",
    "data['age_on_loan_request_disc'] = data['age_on_loan_request_disc'].astype(str)\n",
    "data"
   ]
  },
  {
   "cell_type": "markdown",
   "metadata": {},
   "source": [
    "#### Payements"
   ]
  },
  {
   "cell_type": "code",
   "execution_count": null,
   "metadata": {},
   "outputs": [],
   "source": [
    "from sklearn.preprocessing import KBinsDiscretizer\n",
    "\n",
    "# create discretizer\n",
    "kbins = KBinsDiscretizer(n_bins=5, strategy='kmeans', encode='ordinal')\n",
    "age_bin = kbins.fit_transform(np.array(data['loan_payments']).reshape(-1,1))\n",
    "data['loan_payments_disc'] = age_bin"
   ]
  },
  {
   "cell_type": "markdown",
   "metadata": {},
   "source": [
    "#### Monthly Diff"
   ]
  },
  {
   "cell_type": "code",
   "execution_count": null,
   "metadata": {},
   "outputs": [],
   "source": [
    "from sklearn.preprocessing import KBinsDiscretizer\n",
    "\n",
    "# create discretizer\n",
    "kbins = KBinsDiscretizer(n_bins=5, strategy='kmeans', encode='ordinal')\n",
    "age_bin = kbins.fit_transform(np.array(data['monthly_diff']).reshape(-1,1))\n",
    "data['monthly_diff_disc'] = age_bin"
   ]
  },
  {
   "cell_type": "markdown",
   "metadata": {},
   "source": [
    "### Save Data"
   ]
  },
  {
   "cell_type": "code",
   "execution_count": null,
   "metadata": {},
   "outputs": [],
   "source": [
    "if DEV: data.to_csv('data_processed/complete/data.csv', index=False)\n",
    "else: data.to_csv('data_processed/complete/data_comp.csv', index=False)"
   ]
  },
  {
   "cell_type": "markdown",
   "metadata": {},
   "source": [
    "### Encoding"
   ]
  },
  {
   "cell_type": "code",
   "execution_count": null,
   "metadata": {},
   "outputs": [],
   "source": [
    "def encode_data(df, onehot_columns, other_columns):\n",
    "    from sklearn.preprocessing import OneHotEncoder\n",
    "    ohe = OneHotEncoder(sparse=False)\n",
    "    onehot_cols = [col for col in onehot_columns if col in df.keys()]\n",
    "    onehot_encoded = ohe.fit_transform(df[onehot_cols])\n",
    "    onehot_encoded = pd.DataFrame(onehot_encoded, columns=ohe.get_feature_names(onehot_cols))\n",
    "    df = df.drop(onehot_cols, axis=1)\n",
    "    df = pd.concat([df, onehot_encoded], axis=1)    \n",
    "\n",
    "    #from category_encoders import CatBoostEncoder\n",
    "    #cat_cols = [col for col in other_columns if col in df.keys()]\n",
    "    #cbe = CatBoostEncoder(return_df=True)\n",
    "    #df[cat_cols] = cbe.fit_transform(df[cat_cols], get_target(df))\n",
    "\n",
    "    from sklearn.preprocessing import OrdinalEncoder\n",
    "    le = OrdinalEncoder()\n",
    "    ordinal_cols = [col for col in other_columns if col in df.keys()]\n",
    "    df[ordinal_cols] = le.set_params(encoded_missing_value=-1).fit_transform(df[ordinal_cols])\n",
    "    \n",
    "    return df"
   ]
  },
  {
   "cell_type": "code",
   "execution_count": null,
   "metadata": {},
   "outputs": [],
   "source": [
    "# categorical_columns = list(data.select_dtypes(\"object\").columns)\n",
    "data = encode_data(data, ['account_frequency'], ['region', 'age_on_loan_request_disc', 'gender'])\n",
    "\n",
    "data.rename(columns={'account_frequency_monthly issuance': 'a_freq_monthly_issuance', 'account_frequency_weekly issuance': 'a_freq_weekly_issuance', 'account_frequency_issuance after transaction': 'a_freq_issuance_after_transaction'}, inplace=True)\n",
    "\n",
    "if DEV: data.to_csv('data_processed/complete/enc_data.csv', index=False)\n",
    "else: data.to_csv('data_processed/complete/enc_data_comp.csv', index=False)\n",
    "\n",
    "data"
   ]
  }
 ],
 "metadata": {
  "kernelspec": {
   "display_name": "Python 3.10.6 64-bit",
   "language": "python",
   "name": "python3"
  },
  "language_info": {
   "codemirror_mode": {
    "name": "ipython",
    "version": 3
   },
   "file_extension": ".py",
   "mimetype": "text/x-python",
   "name": "python",
   "nbconvert_exporter": "python",
   "pygments_lexer": "ipython3",
   "version": "3.10.6"
  },
  "vscode": {
   "interpreter": {
    "hash": "916dbcbb3f70747c44a77c7bcd40155683ae19c65e1c03b4aa3499c5328201f1"
   }
  }
 },
 "nbformat": 4,
 "nbformat_minor": 2
}
