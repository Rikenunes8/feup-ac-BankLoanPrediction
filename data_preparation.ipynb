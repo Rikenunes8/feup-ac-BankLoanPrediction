{
 "cells": [
  {
   "cell_type": "markdown",
   "metadata": {},
   "source": [
    "# Data Preparation"
   ]
  },
  {
   "cell_type": "code",
   "execution_count": null,
   "metadata": {},
   "outputs": [],
   "source": [
    "import pandas as pd\n",
    "import numpy as np\n",
    "from IPython.display import display\n",
    "\n",
    "\n",
    "\n",
    "loan_dev = pd.read_csv('data/loan_dev.csv', dtype={'date':object})\n",
    "account = pd.read_csv('data/account.csv', dtype={'date':object})\n",
    "card_dev = pd.read_csv('data/card_dev.csv', dtype={'issued':object})\n",
    "client = pd.read_csv('data/client.csv')\n",
    "disposition = pd.read_csv('data/disp.csv')\n",
    "district = pd.read_csv('data/district.csv')\n",
    "trans_dev = pd.read_csv('data/trans_dev.csv', dtype={'date':object})\n",
    "\n",
    "pd.set_option('display.max_columns', None)\n"
   ]
  },
  {
   "cell_type": "markdown",
   "metadata": {},
   "source": [
    "## Loan preparation"
   ]
  },
  {
   "cell_type": "markdown",
   "metadata": {},
   "source": [
    "### Save"
   ]
  },
  {
   "cell_type": "code",
   "execution_count": null,
   "metadata": {},
   "outputs": [],
   "source": [
    "loan_dev.rename(columns={'date':'loan_date', 'amount': 'loan_amount', 'duration': 'loan_duration', 'payments': 'loan_payments' }, inplace=True)\n",
    "loan_dev.to_csv('data_processed/loan_dev.csv', index=False)\n",
    "loan_dev"
   ]
  },
  {
   "cell_type": "markdown",
   "metadata": {},
   "source": [
    "## Account preparation"
   ]
  },
  {
   "cell_type": "code",
   "execution_count": null,
   "metadata": {},
   "outputs": [],
   "source": [
    "account.drop(['date'], inplace=True, axis=1)"
   ]
  },
  {
   "cell_type": "markdown",
   "metadata": {},
   "source": [
    "### Save"
   ]
  },
  {
   "cell_type": "code",
   "execution_count": null,
   "metadata": {},
   "outputs": [],
   "source": [
    "account.rename(columns={'frequency':'account_frequency', 'district_id': 'account_district_id'}, inplace=True)\n",
    "account.to_csv('data_processed/account.csv', index=False)\n",
    "account"
   ]
  },
  {
   "cell_type": "markdown",
   "metadata": {},
   "source": [
    "## Card preparation"
   ]
  },
  {
   "cell_type": "markdown",
   "metadata": {},
   "source": [
    "There are only a few loans associated with a credit card"
   ]
  },
  {
   "cell_type": "code",
   "execution_count": null,
   "metadata": {},
   "outputs": [],
   "source": [
    "card_dev.drop([\"issued\"], inplace=True, axis=1)\n",
    "card_dev = card_dev.fillna({'type': 'unkown'})"
   ]
  },
  {
   "cell_type": "markdown",
   "metadata": {},
   "source": [
    "### Save"
   ]
  },
  {
   "cell_type": "code",
   "execution_count": null,
   "metadata": {},
   "outputs": [],
   "source": [
    "card_dev.rename(columns={'type':'card_type', 'disp_id': 'card_disp_id'}, inplace=True)\n",
    "card_dev.to_csv('data_processed/card_dev.csv', index=False)"
   ]
  },
  {
   "cell_type": "markdown",
   "metadata": {},
   "source": [
    "## Client preparation"
   ]
  },
  {
   "cell_type": "markdown",
   "metadata": {},
   "source": [
    "### Extract gender and normalize dates\n",
    "Since the birth date of each client is represented as YYMMDD when 'Male' or YY(MM+50)DD when 'Female' the gender was extracted as a new feature and the Female client's birth date modified to YYMMDD, the same as Male clients.\n",
    "Female = False\n",
    "Male = True"
   ]
  },
  {
   "cell_type": "code",
   "execution_count": null,
   "metadata": {},
   "outputs": [],
   "source": [
    "from datetime import datetime, timedelta\n",
    "\n",
    "def extract_gender(date):\n",
    "    month = int(str(date)[2:4])\n",
    "    gender = ''\n",
    "    if month > 12:\n",
    "        month -= 50\n",
    "        gender = 'Female'\n",
    "    else: \n",
    "        gender = 'Male'\n",
    "    new_date = str(date)[:2] + str(month).zfill(2) + str(date)[4:]\n",
    "    return (new_date, gender)"
   ]
  },
  {
   "cell_type": "code",
   "execution_count": null,
   "metadata": {},
   "outputs": [],
   "source": [
    "genders = []\n",
    "dates = []\n",
    "\n",
    "for birth_number in client['birth_number']:\n",
    "    (new_date, gender) = extract_gender(birth_number)\n",
    "    dates.append(new_date)\n",
    "    genders.append(gender)\n",
    "\n",
    "client['birth_number'] = dates\n",
    "client['gender'] = genders"
   ]
  },
  {
   "cell_type": "markdown",
   "metadata": {},
   "source": [
    "### Save"
   ]
  },
  {
   "cell_type": "code",
   "execution_count": null,
   "metadata": {},
   "outputs": [],
   "source": [
    "client.rename(columns={'district_id': 'client_district_id'}, inplace=True)\n",
    "client.to_csv('data_processed/client.csv', index=False)"
   ]
  },
  {
   "cell_type": "markdown",
   "metadata": {},
   "source": [
    "## Disposition preparation"
   ]
  },
  {
   "cell_type": "markdown",
   "metadata": {},
   "source": [
    "### Remove disponent clients and add to the account's owner entry\n",
    "Without this chenage more than one client were associated to a single account_id. This was a problem when merging Dispositions Loans tables since this would lead to several entries with the same loan_id and target classes replicated."
   ]
  },
  {
   "cell_type": "code",
   "execution_count": null,
   "metadata": {},
   "outputs": [],
   "source": [
    "disp_owners = disposition.query(\"type == 'OWNER'\")\n",
    "disp_disponent = disposition.query(\"type == 'DISPONENT'\")\n",
    "\n",
    "has_disponent = [id in disp_disponent['account_id'] for id in disp_owners['account_id']]\n",
    "\n",
    "disp_owners['has_disponent'] = has_disponent\n",
    "disp_owners.drop('type', inplace=True, axis=1)\n",
    "display(disp_owners)"
   ]
  },
  {
   "cell_type": "markdown",
   "metadata": {},
   "source": [
    "### Save"
   ]
  },
  {
   "cell_type": "code",
   "execution_count": null,
   "metadata": {},
   "outputs": [],
   "source": [
    "disp_owners.to_csv('data_processed/disp.csv', index=False)"
   ]
  },
  {
   "cell_type": "markdown",
   "metadata": {},
   "source": [
    "## District preparation"
   ]
  },
  {
   "cell_type": "markdown",
   "metadata": {},
   "source": [
    "### Clean missing values"
   ]
  },
  {
   "cell_type": "markdown",
   "metadata": {},
   "source": [
    "There was a row with missing values '?' in the district table for both \"no. of commited crimes '95\" and \"unemploymant rate '95\" columns. We needed to find a value for it, either replacing it with median or mean value of the column. To decide between median or mean, we need to analyse symmetry and the outliers of each column."
   ]
  },
  {
   "cell_type": "code",
   "execution_count": null,
   "metadata": {},
   "outputs": [],
   "source": [
    "import matplotlib.pyplot as plt\n",
    "\n",
    "district_clean = district.loc[(district[\"unemploymant rate '95\"] != '?') & (district[\"no. of commited crimes '95\"] != '?')]\n",
    "\n",
    "\n",
    "plt.title(\"Box plot of unemploymant rate '95\")\n",
    "plt.boxplot(district_clean[\"unemploymant rate '95\"].astype('float'))\n"
   ]
  },
  {
   "cell_type": "code",
   "execution_count": null,
   "metadata": {},
   "outputs": [],
   "source": [
    "plt.title(\"Box plot of no. of commited crimes '95\")\n",
    "plt.boxplot(district_clean[\"no. of commited crimes '95\"].astype('int'))"
   ]
  },
  {
   "cell_type": "markdown",
   "metadata": {},
   "source": [
    "By analysing the box plots, we found out that the data values for \"no. of commited crimes '95\" and \"unemploymant rate '95\" are not symmetrical and there are outliers, therefore is would be best to use median instead of mean to replace the cells with '?'"
   ]
  },
  {
   "cell_type": "code",
   "execution_count": null,
   "metadata": {},
   "outputs": [],
   "source": [
    "\n",
    "median_unemploymant = district_clean[\"unemploymant rate '95\"].astype(float).median()\n",
    "median_commited_crimes = district_clean[\"no. of commited crimes '95\"].astype(int).median()\n",
    "\n",
    "\n",
    "district.loc[district[\"no. of commited crimes '95\"] == '?', \"no. of commited crimes '95\"] = median_commited_crimes\n",
    "district.loc[district[\"unemploymant rate '95\"] == '?', \"unemploymant rate '95\"] = median_unemploymant\n",
    "\n",
    "# Convert Object Type to Numeric Type\n",
    "district[\"unemploymant rate '95\"] = pd.to_numeric(district[\"unemploymant rate '95\"])\n",
    "district[\"no. of commited crimes '95\"] = pd.to_numeric(district[\"no. of commited crimes '95\"])\n",
    "\n",
    "\n",
    "# Add ratios\n",
    "# district_df['ratio enterpreneurs'] = district_df['no. of enterpreneurs per 1000 inhabitants'] / 1000\n",
    "# district_df['ratio of urban inhabitants'] = district_df['ratio of urban inhabitants'] / 100\n",
    "\n",
    "# district.drop(columns=['name', 'no. of enterpreneurs per 1000 inhabitants', 'no. of inhabitants',\n",
    "# \"unemploymant rate '96\", \"no. of commited crimes '96\",\n",
    "# \"unemploymant rate '95\", \"no. of commited crimes '95\"], inplace=True)"
   ]
  },
  {
   "cell_type": "markdown",
   "metadata": {},
   "source": [
    "### Save"
   ]
  },
  {
   "cell_type": "code",
   "execution_count": null,
   "metadata": {},
   "outputs": [],
   "source": [
    "# TODO - clean district table\n",
    "district['code'].to_csv('data_processed/district.csv', index=False)"
   ]
  },
  {
   "cell_type": "markdown",
   "metadata": {},
   "source": [
    "## Transaction preparation"
   ]
  },
  {
   "cell_type": "code",
   "execution_count": null,
   "metadata": {},
   "outputs": [],
   "source": [
    "# Drop columns with more than 70% of missing values\n",
    "trans_dev.dropna(thresh=len(trans_dev) * 0.3, axis=1, inplace=True)\n",
    "trans_dev"
   ]
  },
  {
   "cell_type": "markdown",
   "metadata": {},
   "source": [
    "### Feature Engineering - Monthly Income and last balance for each account_id"
   ]
  },
  {
   "cell_type": "code",
   "execution_count": null,
   "metadata": {},
   "outputs": [],
   "source": [
    "# Replace type 'withdrawal in cash' with 'withdrawal'\n",
    "trans_dev.replace({'type': 'withdrawal in cash'}, 'withdrawal', inplace=True)\n",
    "\n",
    "# Replace NaN of operation with mode for each type\n",
    "credit_operation_mode = trans_dev[trans_dev['type'] == 'credit']['operation'].mode()[0]\n",
    "withdrawal_operation_mode = trans_dev[trans_dev['type'] == 'withdrawal']['operation'].mode()[0]\n",
    "trans_dev['operation'] = trans_dev.apply(lambda x: credit_operation_mode if (x['type'] == 'credit' and pd.isnull(x['operation'])) else (withdrawal_operation_mode if (x['type'] == 'withdrawal' and pd.isnull(x['operation'])) else x['operation']), axis=1)\n"
   ]
  },
  {
   "cell_type": "code",
   "execution_count": null,
   "metadata": {},
   "outputs": [],
   "source": [
    "trans_dev['date'] = trans_dev['date'].apply(lambda x: '19'+x[:2]+'-'+x[2:4]+'-'+x[4:])\n",
    "trans_dev['date'] = pd.to_datetime(trans_dev['date'])"
   ]
  },
  {
   "cell_type": "code",
   "execution_count": null,
   "metadata": {},
   "outputs": [],
   "source": [
    "aux = trans_dev.groupby(['account_id']).agg({'date': ['min', 'max']})\n",
    "aux.columns = ['min_date', 'max_date']\n",
    "aux = aux.reset_index(drop=False)\n",
    "aux['date_diff'] = (aux['min_date']-aux['max_date'])/np.timedelta64(1, 'M')\n",
    "aux['date_diff'] = aux['date_diff'].astype(int)\n",
    "trans_dev = pd.merge(trans_dev, aux[['account_id', 'date_diff']], on='account_id', how='left')\n",
    "display(trans_dev)"
   ]
  },
  {
   "cell_type": "code",
   "execution_count": null,
   "metadata": {},
   "outputs": [],
   "source": [
    "def agg_func(data):\n",
    "    credits = data[(data['type'] == 'credit') & (data['operation'] != 'collection from another bank')]\n",
    "    withdrawals = data[(data['type'] == 'withdrawal') & (data['operation'] != 'remittance to another bank')]\n",
    "\n",
    "    return pd.Series({\n",
    "        'monthly_credit': (credits['amount'].sum() / (abs(data['date_diff'].iat[0]) + 1)) if credits.shape[0] != 0 else 0, \n",
    "        'monthly_withdrawal': (withdrawals['amount'].sum() / (abs(data['date_diff'].iat[0]) + 1)) if withdrawals.shape[0] != 0 else 0,\n",
    "        'last_balance': data['balance'].iat[-1],\n",
    "    })\n",
    "trans_agg = trans_dev.groupby(['account_id']).apply(agg_func)\n",
    "trans_agg = trans_agg.reset_index(drop=False)\n",
    "trans_agg['monthly_diff'] = (trans_agg['monthly_credit'] - trans_agg['monthly_withdrawal']).astype(int)\n",
    "trans_agg = trans_agg.drop(['monthly_credit', 'monthly_withdrawal'], axis=1)\n",
    "trans_agg"
   ]
  },
  {
   "cell_type": "markdown",
   "metadata": {},
   "source": [
    "### Save"
   ]
  },
  {
   "cell_type": "code",
   "execution_count": null,
   "metadata": {},
   "outputs": [],
   "source": [
    "trans_agg.to_csv('data_processed/trans_dev.csv', index=False)"
   ]
  },
  {
   "cell_type": "markdown",
   "metadata": {},
   "source": [
    "## Data Integration"
   ]
  },
  {
   "cell_type": "code",
   "execution_count": null,
   "metadata": {},
   "outputs": [],
   "source": [
    "loan_dev = pd.read_csv('data_processed/loan_dev.csv', dtype={'date':object})\n",
    "account = pd.read_csv('data_processed/account.csv', dtype={'date':object})\n",
    "card_dev = pd.read_csv('data_processed/card_dev.csv', dtype={'issued':object})\n",
    "client = pd.read_csv('data_processed/client.csv')\n",
    "disposition = pd.read_csv('data_processed/disp.csv')\n",
    "district = pd.read_csv('data_processed/district.csv')\n",
    "trans_dev = pd.read_csv('data_processed/trans_dev.csv', dtype={'date':object})\n",
    "\n",
    "pd.set_option('display.max_columns', None)\n"
   ]
  },
  {
   "cell_type": "markdown",
   "metadata": {},
   "source": [
    "### Join tables"
   ]
  },
  {
   "cell_type": "code",
   "execution_count": null,
   "metadata": {},
   "outputs": [],
   "source": [
    "data = pd.merge(loan_dev, account, left_on=\"account_id\", right_on=\"account_id\", how='left')\n",
    "data = pd.merge(data, disp_owners, left_on=\"account_id\", right_on=\"account_id\", how='left')\n",
    "data = pd.merge(data, client, left_on=\"client_id\", right_on=\"client_id\", how='left')\n",
    "data = pd.merge(data, card_dev, left_on=\"disp_id\", right_on=\"card_disp_id\", how='left')\n",
    "data = pd.merge(data, trans_dev, left_on='account_id', right_on='account_id', how='left')\n",
    "data = pd.merge(data, district, left_on=\"client_district_id\", right_on=\"code\", how='left')\n",
    "display(data.head())"
   ]
  },
  {
   "cell_type": "code",
   "execution_count": null,
   "metadata": {},
   "outputs": [],
   "source": [
    "# Drop columns with more than 70% of missing values\n",
    "data.dropna(thresh=len(data) * 0.3, axis=1, inplace=True)\n",
    "display(data.head())"
   ]
  },
  {
   "cell_type": "markdown",
   "metadata": {},
   "source": [
    "### Feature Engineering - Age of the client at the loan time"
   ]
  },
  {
   "cell_type": "code",
   "execution_count": null,
   "metadata": {},
   "outputs": [],
   "source": [
    "def get_datetime(date):\n",
    "    year = int(str(date)[0:2]) + 1900\n",
    "    month = int(str(date)[2:4])\n",
    "    day = int(str(date)[4:])\n",
    "    return datetime(year, month, day)\n",
    "\n",
    "def calc_age(birth_date, other_date):\n",
    "    diff:timedelta = get_datetime(other_date) - get_datetime(birth_date)\n",
    "    return round(diff.days / 365.25)\n"
   ]
  },
  {
   "cell_type": "code",
   "execution_count": null,
   "metadata": {},
   "outputs": [],
   "source": [
    "data['age_on_loan_request'] = data.apply(lambda x: calc_age(x['birth_number'], x['loan_date']), axis=1)\n",
    "data.drop('loan_date', inplace=True, axis=1)\n",
    "data.drop('birth_number', inplace=True, axis=1)\n",
    "data"
   ]
  },
  {
   "cell_type": "markdown",
   "metadata": {},
   "source": [
    "### Discretizations"
   ]
  },
  {
   "cell_type": "markdown",
   "metadata": {},
   "source": [
    "##### Age on loan request"
   ]
  },
  {
   "cell_type": "code",
   "execution_count": null,
   "metadata": {},
   "outputs": [],
   "source": [
    "data['age_on_loan_request_disc'] = pd.cut(x=data['age_on_loan_request'], bins=[0, 19, 29, 39, 49, 59, 69, 79, 99], labels=['0-19', '21-29', '30-39', '40-49', '50-59', '60-69', '70-79', '80-99'])\n",
    "data['age_on_loan_request_disc'] = data['age_on_loan_request_disc'].astype(str)\n",
    "data"
   ]
  },
  {
   "cell_type": "markdown",
   "metadata": {},
   "source": [
    "### Save Data"
   ]
  },
  {
   "cell_type": "code",
   "execution_count": null,
   "metadata": {},
   "outputs": [],
   "source": [
    "data.to_csv('data_processed/data.csv', index=False)"
   ]
  }
 ],
 "metadata": {
  "kernelspec": {
   "display_name": "Python 3 (ipykernel)",
   "language": "python",
   "name": "python3"
  },
  "language_info": {
   "codemirror_mode": {
    "name": "ipython",
    "version": 3
   },
   "file_extension": ".py",
   "mimetype": "text/x-python",
   "name": "python",
   "nbconvert_exporter": "python",
   "pygments_lexer": "ipython3",
   "version": "3.10.6"
  },
  "vscode": {
   "interpreter": {
    "hash": "916dbcbb3f70747c44a77c7bcd40155683ae19c65e1c03b4aa3499c5328201f1"
   }
  }
 },
 "nbformat": 4,
 "nbformat_minor": 2
}
